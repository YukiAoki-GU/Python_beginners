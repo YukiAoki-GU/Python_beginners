{
  "cells": [
    {
      "cell_type": "markdown",
      "metadata": {
        "id": "view-in-github",
        "colab_type": "text"
      },
      "source": [
        "<a href=\"https://colab.research.google.com/github/YukiAoki-GU/Python_beginners/blob/main/Python%E5%85%A5%E9%96%80%E3%83%86%E3%82%AD%E3%82%B9%E3%83%883.ipynb\" target=\"_parent\"><img src=\"https://colab.research.google.com/assets/colab-badge.svg\" alt=\"Open In Colab\"/></a>"
      ]
    },
    {
      "cell_type": "markdown",
      "metadata": {
        "id": "9E01xf5AVV5t"
      },
      "source": [
        "---\n",
        "# 3-1 条件分岐(if)\n",
        "条件や分岐をするためにPythonでは「`if文`」が用意されており，一般的には以下のように書きます。`elif`は`else`と`if`を一緒にした文です。□は半角のスペースを示します。\n",
        "\n",
        "    if 条件式1:\n",
        "    □□□□条件式1がTrueになるときの処理\n",
        "    elif 条件式2:\n",
        "    □□□□条件式1がFalseで、条件式2がTrueになるときの処理\n",
        "    elif 条件式3:\n",
        "    □□□□条件式1がFalseで、条件式2がFalseで、条件式3がTrueになるときの処理\n",
        "    else:\n",
        "    □□□□条件式1がFalseで、条件式2がFalseで、条件式3がFalseになるとき(すべての条件式を満たさないとき)の処理\n"
      ]
    },
    {
      "cell_type": "markdown",
      "metadata": {
        "id": "CvAt7P67WrX3"
      },
      "source": [
        "※インデントについて\n",
        "\n",
        "Pythonではインデント(□)で字下げすることで「ブロック」化しています。\n",
        "\n",
        "ブロックは入れ子にすることが可能です。\n",
        "\n",
        "Pythonのコーディング規約は[PEP8-ja](https://pep8-ja.readthedocs.io/ja/latest/#)という文章にまとめられており，そこには\n",
        "\n",
        "> \"1レベルインデントするごとに、スペースを４つ使いましょう\"\n",
        "\n",
        "> \"複数行を継続したときにインデントする場合は、４つスペースを使うルールを守らなくても構いません。\"\n",
        "\n",
        "と記載されています。"
      ]
    },
    {
      "cell_type": "markdown",
      "metadata": {
        "id": "w49PD1AloWOa"
      },
      "source": [
        "Q: キーボードから年齢を入力し，`if`を使うことで，40歳以上であった場合「血液検査を受けてください」と表示するコードを書きなさい。"
      ]
    },
    {
      "cell_type": "code",
      "execution_count": null,
      "metadata": {
        "id": "q523vj9wVTqa"
      },
      "outputs": [],
      "source": [
        "age = int(input('年齢は'))"
      ]
    },
    {
      "cell_type": "markdown",
      "metadata": {
        "id": "Sw4fq6S9qLy_"
      },
      "source": [
        "Q: キーボードから年齢を入力し，`else`を使うことで，40歳以上であった場合「血液検査を受けてください」，40歳未満であった場合「血液検査を受ける必要はありません」と表示するコードを書きなさい。"
      ]
    },
    {
      "cell_type": "code",
      "execution_count": null,
      "metadata": {
        "id": "huxVzjGKqcZR"
      },
      "outputs": [],
      "source": [
        "age = int(input('年齢は'))"
      ]
    },
    {
      "cell_type": "markdown",
      "metadata": {
        "id": "u-0S-1BNrO99"
      },
      "source": [
        "Q: 血液検査は35歳の時も受ける必要があります。`or`を使い，35歳と40歳以上の場合に「血液検査を受けてください」，40歳未満であった場合「血液検査を受ける必要はありません」と表示するコードを書きなさい。"
      ]
    },
    {
      "cell_type": "code",
      "execution_count": null,
      "metadata": {
        "id": "0D7Qd3aMrkoU"
      },
      "outputs": [],
      "source": [
        "age = int(input('年齢は'))"
      ]
    },
    {
      "cell_type": "markdown",
      "metadata": {
        "id": "0EHa1OEeryub"
      },
      "source": [
        "Q: `elif`を使うことで，35歳の場合は「35歳なので血液検査を受けてください」，40歳以上の場合は「40歳以上なので血液検査を受けてください」，それ以外の場合は「血液検査を受ける必要はありません」と表示するコードを書きなさい。"
      ]
    },
    {
      "cell_type": "code",
      "execution_count": null,
      "metadata": {
        "id": "0u4hl2ulsqQY"
      },
      "outputs": [],
      "source": [
        "age = int(input('年齢は'))"
      ]
    },
    {
      "cell_type": "markdown",
      "metadata": {
        "id": "bei5JBgms388"
      },
      "source": [
        "Q: 睡眠時間を入力し，出力を以下のように分岐しなさい。\n",
        "\n",
        "- 9時間以上の場合，「寝すぎです」\n",
        "- 6-9時間の場合，「適度な睡眠時間です」\n",
        "- 3-6時間の場合，「若いので一晩くらい大丈夫ですね」\n",
        "- 3時間未満の場合，「授業が終わったらすぐに寝ましょう」"
      ]
    },
    {
      "cell_type": "code",
      "execution_count": null,
      "metadata": {
        "id": "XpVeeLyEttXe"
      },
      "outputs": [],
      "source": [
        "suimin = float(input('睡眠時間は？'))"
      ]
    },
    {
      "cell_type": "markdown",
      "metadata": {
        "id": "f7Q6LfMbYS2t"
      },
      "source": [
        "---\n",
        "# 3-2 例外処理 (try)\n",
        "Pythonで実行時に例外をキャッチして処理するには`try`，`except`を使います。\n",
        "\n",
        "さらに，`else`，`finally`を使うことで終了時の処理を設定できます。"
      ]
    },
    {
      "cell_type": "markdown",
      "metadata": {
        "id": "iP6y7OhAYbyv"
      },
      "source": [
        "    try:\n",
        "    □□□□処理\n",
        "    except エラーの種類:\n",
        "    □□□□エラー時の処理\n",
        "     \n",
        "    try:\n",
        "    □□□□処理\n",
        "    except エラーの種類:\n",
        "    □□□□エラー時の処理\n",
        "    else:\n",
        "    □□□□正常時の処理\n",
        "  \n",
        "    try:\n",
        "    □□□□処理\n",
        "    except エラーの種類A:\n",
        "    □□□□エラー時の処理A\n",
        "    except エラーの種類B:\n",
        "    □□□□エラー時の処理B\n",
        "    else:\n",
        "    □□□□正常時の処理\n",
        "    finally:\n",
        "    □□□□すべてで実行される処理\n",
        "    "
      ]
    },
    {
      "cell_type": "markdown",
      "metadata": {
        "id": "TXH3qSP-zYU5"
      },
      "source": [
        "Q: 10を割る値を入力し，答えを出力するコードを書きなさい。\n",
        "\n",
        "そのコードにおいて，割る値として0を入力した場合，何が起きるかを確認しなさい。"
      ]
    },
    {
      "cell_type": "code",
      "execution_count": null,
      "metadata": {
        "id": "Y8YiKIYozu1M"
      },
      "outputs": [],
      "source": [
        "waru = float(input('１０を割る数を入力してください'))\n",
        "print(10/waru)"
      ]
    },
    {
      "cell_type": "markdown",
      "metadata": {
        "id": "4RXBHb8O0Ukh"
      },
      "source": [
        "Q: `try`，`except`を使ってZeroDivisionErrorを回避しなさい。"
      ]
    },
    {
      "cell_type": "code",
      "execution_count": null,
      "metadata": {
        "id": "gpYyu8cWYW5z"
      },
      "outputs": [],
      "source": [
        "waru = float(input('１０を割る数を入力してください'))\n"
      ]
    },
    {
      "cell_type": "markdown",
      "metadata": {
        "id": "A7t0oTLB1Ly7"
      },
      "source": [
        "Q: 入力した値を10倍した値を出力しなさい。また，その値が文字列であった場合，「数値と文字列の掛け算は不可」と表示しエラーを回避しなさい。"
      ]
    },
    {
      "cell_type": "code",
      "execution_count": null,
      "metadata": {
        "id": "bPCG7T9n1-XG"
      },
      "outputs": [],
      "source": [
        "atai = input('10倍したいものは？')"
      ]
    },
    {
      "cell_type": "markdown",
      "metadata": {
        "id": "TM5o1Z8xYxsV"
      },
      "source": [
        "---\n",
        "# 3-3 リスト型その１(append, extend, len, in, index)\n"
      ]
    },
    {
      "cell_type": "markdown",
      "metadata": {
        "id": "1WYdqEZXkgVQ"
      },
      "source": [
        "リストは、「モノ」を複数個並べたものです。\n",
        "\n",
        "    [要素1]\n",
        "    [要素1, 要素2]\n",
        "    \n",
        "のように、`[ ]`で囲います。「モノ」が複数個あるときには、コンマ(`,`)で区切ります。"
      ]
    },
    {
      "cell_type": "markdown",
      "metadata": {
        "id": "sErk8bbj52vq"
      },
      "source": [
        "Q: トマト，きゅうり，ナス，の野菜リストを作りなさい。"
      ]
    },
    {
      "cell_type": "code",
      "execution_count": null,
      "metadata": {
        "id": "AyPBfm5759aV"
      },
      "outputs": [],
      "source": []
    },
    {
      "cell_type": "markdown",
      "metadata": {
        "id": "L2wSaB1W6REh"
      },
      "source": [
        "Q: トマト，きゅうり，ナスと，きゅうり，トマト，ナス，は同じリストであるのか，異なるのかを調べなさい。"
      ]
    },
    {
      "cell_type": "code",
      "execution_count": null,
      "metadata": {
        "id": "KJrL4TE1Y0IG"
      },
      "outputs": [],
      "source": []
    },
    {
      "cell_type": "markdown",
      "metadata": {
        "id": "DK_ytA2m7a0N"
      },
      "source": [
        "*   リストに要素を追加するには`append()`を使います。"
      ]
    },
    {
      "cell_type": "markdown",
      "metadata": {
        "id": "pPAYvQ9G8Y-O"
      },
      "source": [
        "Q: 上のリストにキャベツを追加しなさい。"
      ]
    },
    {
      "cell_type": "code",
      "execution_count": null,
      "metadata": {
        "id": "yqn7VH9l8doV"
      },
      "outputs": [],
      "source": []
    },
    {
      "cell_type": "markdown",
      "metadata": {
        "id": "S30b3udVKh_W"
      },
      "source": [
        "*   リストの連結をするには`extend()`を使います。"
      ]
    },
    {
      "cell_type": "markdown",
      "metadata": {
        "id": "LGjPHPB0KwOc"
      },
      "source": [
        "Q: `extend`を使って上の野菜リストに，いちご，りんご，スイカ，のリストを追加しなさい。"
      ]
    },
    {
      "cell_type": "code",
      "execution_count": null,
      "metadata": {
        "id": "_Zy1vxmA6Oiy"
      },
      "outputs": [],
      "source": [
        "\n"
      ]
    },
    {
      "cell_type": "markdown",
      "metadata": {
        "id": "uoCAWizvAJyX"
      },
      "source": [
        "Q: `+=`の累算代入演算子を使って上のリストにカボチャ，ダイコン，のリストを追加しなさい。"
      ]
    },
    {
      "cell_type": "code",
      "execution_count": null,
      "metadata": {
        "id": "_lAbpVh1Alff"
      },
      "outputs": [],
      "source": []
    },
    {
      "cell_type": "markdown",
      "metadata": {
        "id": "ksS3sA2fJ3ys"
      },
      "source": [
        "*   リストの要素の数を知るには`len()`を使います。"
      ]
    },
    {
      "cell_type": "markdown",
      "metadata": {
        "id": "U5oy0dPu9TRB"
      },
      "source": [
        "Q: 上のリストの要素の数を出力しなさい。"
      ]
    },
    {
      "cell_type": "code",
      "execution_count": null,
      "metadata": {
        "id": "y5eqmb8u7IN3"
      },
      "outputs": [],
      "source": []
    },
    {
      "cell_type": "markdown",
      "metadata": {
        "id": "JSGm5xPrJ7p0"
      },
      "source": [
        "*   リスト[i]でi+1番目の要素を取り出します。[i]をi番目のオフセット指定などのように言います。オフセットは0から始まります。"
      ]
    },
    {
      "cell_type": "markdown",
      "metadata": {
        "id": "5CBLQBeR9t5t"
      },
      "source": [
        "\n",
        "\n",
        "```\n",
        "# これはコードとして書式設定されます\n",
        "```\n",
        "\n",
        "Q: 上のリストで2番目と3番目の要素を取り出したナス科のリストを作りなさい。"
      ]
    },
    {
      "cell_type": "code",
      "execution_count": null,
      "metadata": {
        "id": "sXJ4v1xp9oy2"
      },
      "outputs": [],
      "source": []
    },
    {
      "cell_type": "markdown",
      "metadata": {
        "id": "wyy0v4uXLZdT"
      },
      "source": [
        "*   リストに要素が属しているかどうかを調べるには二項演算子`in`を使います。"
      ]
    },
    {
      "cell_type": "markdown",
      "metadata": {
        "id": "0RvTEleBLlWQ"
      },
      "source": [
        "Q:野菜リストに「キャベツ」が含まれているかを調べなさい。また，「なす」が含まれているかを調べなさい。"
      ]
    },
    {
      "cell_type": "code",
      "execution_count": null,
      "metadata": {
        "id": "__L50P9iC4_p"
      },
      "outputs": [],
      "source": []
    },
    {
      "cell_type": "markdown",
      "metadata": {
        "id": "cNja1X_8Iiek"
      },
      "source": [
        "*   要素のオフセットを調べるには`index()`を使います。"
      ]
    },
    {
      "cell_type": "markdown",
      "metadata": {
        "id": "7bWdyimZIuIq"
      },
      "source": [
        "Q: 野菜リストの「ナス」のオフセットを調べなさい。"
      ]
    },
    {
      "cell_type": "code",
      "execution_count": null,
      "metadata": {
        "id": "JOXGOoBQI4l7"
      },
      "outputs": [],
      "source": []
    },
    {
      "cell_type": "markdown",
      "metadata": {
        "id": "a8_trso1_pK7"
      },
      "source": [
        "---\n",
        "# 演習問題3-1\n",
        "\n",
        "前回作成した以下のプログラムに対して、整数以外の値が入力された場合の例外処理を、`if`文を用いて変更しなさい。また、金額として不適切な値(たとえば負数)が入力されたときの例外処理も追加しなさい。\n",
        "\n",
        "    税抜き価格 x円の品物を購入する。消費税を10%として、レジ袋3円も同時に購入したときの支払金額を求めるプログラムを作成しなさい。"
      ]
    },
    {
      "cell_type": "code",
      "execution_count": null,
      "metadata": {
        "id": "S9-84InU-LX2"
      },
      "outputs": [],
      "source": [
        "TAX = 0.10\n",
        "SHOPPING_BAG = 3\n",
        "\n",
        "x = input('品物の価格を入力してください:')\n"
      ]
    },
    {
      "cell_type": "markdown",
      "metadata": {
        "id": "2_GK-81y_v3c"
      },
      "source": [
        "# 演習問題3-2\n",
        "\n",
        "前回作成した以下のプログラムに対して、整数や実数以外の値が入力された場合の例外処理を、`try`文を用いて変更しなさい。また、摂氏温度として不適切な値(たとえば絶対零度以下)が入力されたときの例外処理も追加しなさい。\n",
        "\n",
        "    摂氏温度を入力して、華氏に変換した温度を出力するプログラムを作成しなさい。\n",
        "    なお華氏と摂氏には以下の関係式がある。\n",
        "\n",
        "$\\qquad 華氏 = 摂氏 * \\frac{9}{5} + 32$"
      ]
    },
    {
      "cell_type": "code",
      "execution_count": null,
      "metadata": {
        "id": "Nu-hQnXi_tEs"
      },
      "outputs": [],
      "source": []
    }
  ],
  "metadata": {
    "colab": {
      "collapsed_sections": [],
      "provenance": [],
      "toc_visible": true,
      "authorship_tag": "ABX9TyNNszkrg13IysxN4+DfzFtd",
      "include_colab_link": true
    },
    "kernelspec": {
      "display_name": "Python 3",
      "language": "python",
      "name": "python3"
    },
    "language_info": {
      "codemirror_mode": {
        "name": "ipython",
        "version": 3
      },
      "file_extension": ".py",
      "mimetype": "text/x-python",
      "name": "python",
      "nbconvert_exporter": "python",
      "pygments_lexer": "ipython3",
      "version": "3.8.8"
    }
  },
  "nbformat": 4,
  "nbformat_minor": 0
}