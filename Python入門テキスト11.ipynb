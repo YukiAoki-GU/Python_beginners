{
  "cells": [
    {
      "cell_type": "markdown",
      "metadata": {
        "id": "view-in-github",
        "colab_type": "text"
      },
      "source": [
        "<a href=\"https://colab.research.google.com/github/YukiAoki-GU/Python_beginners/blob/main/Python%E5%85%A5%E9%96%80%E3%83%86%E3%82%AD%E3%82%B9%E3%83%8811.ipynb\" target=\"_parent\"><img src=\"https://colab.research.google.com/assets/colab-badge.svg\" alt=\"Open In Colab\"/></a>"
      ]
    },
    {
      "cell_type": "markdown",
      "metadata": {
        "id": "4XONdsfo1BDw"
      },
      "source": [
        "# 11 Matplotlib\n",
        "`matplotlib`はグラフや画像を描画するライブラリです。\n",
        "`matplotlib`のインターフェースには以下の2通りあります。\n",
        "- **Pyplotインターフェース**(`plt.なんとか`という書き方をするMATLABに近い書き方)\n",
        "- **オブジェクト指向型インターフェース**(`fig`や`ax`を定義した後に`ax.plot`でプロットする書き方)\n",
        "\n",
        "簡単なグラフをサッと書くにはPyplotインターフェースが便利ですが，見た目を細かく調整するにはオブジェクト指向型インターフェースが必要です。両方の書き方の例を以下に示します。\n",
        "\n"
      ]
    },
    {
      "cell_type": "code",
      "execution_count": null,
      "metadata": {
        "id": "v5SWfOetor9L"
      },
      "outputs": [],
      "source": [
        "# プロットするデータの準備(y=sin(x)を例)\n",
        "import numpy as np\n",
        "\n",
        "x = np.linspace(-5, 10)\n",
        "y = np.sin(x)"
      ]
    },
    {
      "cell_type": "code",
      "execution_count": null,
      "metadata": {
        "id": "Tt2Dav9gox_f"
      },
      "outputs": [],
      "source": [
        "# Pyplotインターフェースでプロット\n",
        "import matplotlib.pyplot as plt\n",
        "\n",
        "plt.plot(x, y)\n",
        "plt.title('Pyplot interface')\n",
        "plt.legend('sin')\n",
        "plt.xlabel('x label')\n",
        "plt.ylabel('y label')\n",
        "plt.show()"
      ]
    },
    {
      "cell_type": "code",
      "execution_count": null,
      "metadata": {
        "id": "_-fVK7Jko5qj"
      },
      "outputs": [],
      "source": [
        "# オブジェクト指向型インターフェースでプロット\n",
        "import matplotlib.pyplot as plt\n",
        "\n",
        "###\n",
        "fig = plt.figure()\n",
        "ax = fig.add_subplot(111)\n",
        "###\n",
        "\n",
        "ax.plot(x, y)\n",
        "ax.set_title('Object-oriented interface')\n",
        "ax.set_xlabel('x label')\n",
        "ax.set_ylabel('y label')\n",
        "plt.legend('sin')\n",
        "plt.show()"
      ]
    },
    {
      "cell_type": "markdown",
      "metadata": {
        "id": "mDdbCODpsrki"
      },
      "source": [
        "「Pyplotインターフェース」，「オブジェクト指向型インターフェース」をごちゃごちゃに混ぜると訳が分からなくなります。以下ではより自由度の高い「オブジェクト指向型インターフェース」に絞り説明します。"
      ]
    },
    {
      "cell_type": "markdown",
      "metadata": {
        "id": "gSz4bJmHtjRH"
      },
      "source": [
        "---\n",
        "## Numpyでのデータの準備\n",
        "```\n",
        "x = np.linspace(-5, 10)\n",
        "y = np.sin(x)\n",
        "```"
      ]
    },
    {
      "cell_type": "markdown",
      "metadata": {
        "id": "dNBuc7CVC88T"
      },
      "source": [
        "### linspace()\n",
        "\n",
        "Numpyパッケージの`linspace()`関数は、`linspace(start, end)`により、始点が`start`、終点が`end`の`ndarray`型の配列を生成します。\\\n",
        "分割数を指定しなければ、50個になります。また終点は含まれます。"
      ]
    },
    {
      "cell_type": "code",
      "execution_count": null,
      "metadata": {
        "id": "Qo--X54JDDTy"
      },
      "outputs": [],
      "source": [
        "np.linspace(0, 1)"
      ]
    },
    {
      "cell_type": "code",
      "execution_count": null,
      "metadata": {
        "id": "r_0JTfxCDFiX"
      },
      "outputs": [],
      "source": [
        "np.linspace(0, 9, 10)"
      ]
    },
    {
      "cell_type": "markdown",
      "metadata": {
        "id": "BkK5fQq_DKuG"
      },
      "source": [
        "分割数は、`linspace(start, end, number)`のように、3番目の引数で指定します。"
      ]
    },
    {
      "cell_type": "code",
      "execution_count": null,
      "metadata": {
        "id": "9ZVkLTYeDHda"
      },
      "outputs": [],
      "source": [
        "np.linspace(0, 1, 11)"
      ]
    },
    {
      "cell_type": "markdown",
      "metadata": {
        "id": "fDvUZpFMDRng"
      },
      "source": [
        "終点を含めないようにするには、`endpoint = False` を指定します。"
      ]
    },
    {
      "cell_type": "code",
      "execution_count": null,
      "metadata": {
        "id": "-NBTBCQeDTPD"
      },
      "outputs": [],
      "source": [
        "np.linspace(0, 1, 10, endpoint = False)"
      ]
    },
    {
      "cell_type": "markdown",
      "metadata": {
        "id": "SM8kjKzyDVEf"
      },
      "source": [
        "### arange()\n",
        "分割数ではなく間隔を指定したい場合は、`arange()`関数を使用します。`range()`関数と似ていますが、実数が使えます。"
      ]
    },
    {
      "cell_type": "code",
      "execution_count": null,
      "metadata": {
        "id": "RQJLf8NHDXLU"
      },
      "outputs": [],
      "source": [
        "np.arange(0, 1, 0.1)"
      ]
    },
    {
      "cell_type": "code",
      "execution_count": null,
      "metadata": {
        "id": "sqh4eCC8DZI1"
      },
      "outputs": [],
      "source": [
        "np.arange(0, 1, 0.2)"
      ]
    },
    {
      "cell_type": "markdown",
      "metadata": {
        "id": "B8WlO4_oDbTh"
      },
      "source": [
        "`np.sin()`は、リストやndarray型の配列に対して、リストや配列の各要素のsin値をndarray型の配列として返します。"
      ]
    },
    {
      "cell_type": "code",
      "execution_count": null,
      "metadata": {
        "id": "_88ywOFCDdid"
      },
      "outputs": [],
      "source": [
        "import numpy as n;\n",
        "\n",
        "np.sin([0, np.pi / 6, np.pi / 4, np.pi / 2])"
      ]
    },
    {
      "cell_type": "markdown",
      "metadata": {
        "id": "vxP87ITSu_-7"
      },
      "source": [
        "---\n",
        "## Matplotlibを使ったオブジェクト指向型でのプロット\n",
        "\n",
        "プロットの基本的な書式は以下です。\n",
        "```\n",
        "fig = plt.figure()      #Firureオブジェクトの生成\n",
        "ax = fig.add_subplot()  #Axesオブジェクトの生成\n",
        "ax.plot()\n",
        "plt.show()\n",
        "```\n",
        "\n",
        "下の図のように`Figureオブジェクト`の中に`Axesオブジェクト`が存在する構造です。\n",
        "\n",
        "`Figureオブジェクト`を`fig = plt.figure()`，`Axesオブジェクト`を`ax = fig.add_subplot()`で生成しています。\n"
      ]
    },
    {
      "cell_type": "markdown",
      "metadata": {
        "id": "uITLrVRczvTP"
      },
      "source": [
        "![fig1.png](data:image/png;base64,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)"
      ]
    },
    {
      "cell_type": "markdown",
      "metadata": {
        "id": "nokkYRTA-dZ6"
      },
      "source": [
        "### Figureオブジェクトについて\n",
        "\n",
        "`figsize=('横幅', '縦幅'), dpi='1インチあたりのピクセル数'`でFigureオブジェクトを大きさを指定します。\n",
        "\n",
        "横サイズ$=12 \\times 72 = 864$ ピクセル\n",
        "\n",
        "縦サイズ$=8 \\times 72 = 576$ ピクセル\n",
        "\n",
        "の例を以下に示します。"
      ]
    },
    {
      "cell_type": "code",
      "execution_count": null,
      "metadata": {
        "id": "285k96XF_NUo"
      },
      "outputs": [],
      "source": [
        "fig = plt.figure(figsize=(12, 8), dpi=72)"
      ]
    },
    {
      "cell_type": "markdown",
      "metadata": {
        "id": "4w_iAMekB-F1"
      },
      "source": [
        "`figsize`と`dpi`のデフォルト値以下です。"
      ]
    },
    {
      "cell_type": "code",
      "execution_count": null,
      "metadata": {
        "id": "gMYsnUouAifN"
      },
      "outputs": [],
      "source": [
        "print('[横幅, 縦幅] =',plt.rcParams[\"figure.figsize\"])\n",
        "print('1幅のピクセル数=',plt.rcParams[\"figure.dpi\"])\n",
        "\n",
        "fig = plt.figure()"
      ]
    },
    {
      "cell_type": "markdown",
      "metadata": {
        "id": "PFYhOFRBIKIN"
      },
      "source": [
        "### Axesオブジェクトについて\n",
        "`fig.add_subplot(行　列　何番目)`でAxisオブジェクトを生成します。\n",
        "3行2列の例を以下に示します。"
      ]
    },
    {
      "cell_type": "code",
      "execution_count": null,
      "metadata": {
        "id": "QjJ96ionHq3s"
      },
      "outputs": [],
      "source": [
        "fig = plt.figure(figsize=(8, 8), dpi=120)\n",
        "ax1 = fig.add_subplot(321)\n",
        "ax2 = fig.add_subplot(322)\n",
        "ax3 = fig.add_subplot(323)\n",
        "ax4 = fig.add_subplot(324)\n",
        "ax5 = fig.add_subplot(325)\n",
        "ax6 = fig.add_subplot(326)\n",
        "\n",
        "ax1.set_title('ax1')\n",
        "ax2.set_title('ax2')\n",
        "ax3.set_title('ax3')\n",
        "ax4.set_title('ax4')\n",
        "ax5.set_title('ax5')\n",
        "ax6.set_title('ax6')\n",
        "plt.show()"
      ]
    },
    {
      "cell_type": "markdown",
      "metadata": {
        "id": "08ssM4qWSYi8"
      },
      "source": [
        "その他，複数グラフ，タイトル，ラベル，凡例，色，線種の指定は以下です。"
      ]
    },
    {
      "cell_type": "code",
      "execution_count": null,
      "metadata": {
        "id": "1w7bAI5bNhjT"
      },
      "outputs": [],
      "source": [
        "import numpy as np\n",
        "import matplotlib.pyplot as plt\n",
        "\n",
        "# プロットするデータの準備(y=sin(x)を例)\n",
        "x = np.linspace(-2*np.pi, 2*np.pi)\n",
        "y1 = np.sin(x)\n",
        "y2 = np.cos(x)\n",
        "\n",
        "# オブジェクト指向型インターフェースでプロット\n",
        "fig = plt.figure()                        #Figure生成\n",
        "ax = fig.add_subplot(111)                 #1行1列1番目にAxis生成\n",
        "ax.plot(x, y1, label='sin', color='r', linewidth=1, linestyle='solid')\n",
        "ax.plot(x, y2, label='cos', color='b', linewidth=3, linestyle='dashed')\n",
        "ax.set_title('Object-oriented interface') #タイトル\n",
        "ax.set_xlabel('x label')                  #x軸のラベル\n",
        "ax.set_ylabel('y label')                  #y軸のラベル\n",
        "plt.legend(loc='lower left')              #グラフの凡例(左下)\n",
        "plt.show()"
      ]
    },
    {
      "cell_type": "markdown",
      "metadata": {
        "id": "8V43FzzdZONj"
      },
      "source": [
        "#Q: \n",
        "以下の手順でシグモイド関数$y_1$, ステップ関数$y_2$をプロットしなさい。\n",
        "\n",
        "$$\n",
        "y_1 = \\frac{1}{1 + \\exp(-x)}\n",
        "$$\n",
        "\n",
        "$$\n",
        "y_2 = \\left\\{\n",
        "\\begin{array}{ll}\n",
        "1 & (x \\geq 0) \\\\\n",
        "0 & (x \\lt 0)\n",
        "\\end{array}\n",
        "\\right.\n",
        "$$\n",
        "\n",
        "手順1: numpyのlinespaceを使い，-5から5までの範囲で0.1刻みの$x$のリストを作りなさい。\n",
        "\n",
        "手順2: 関数$y_1$を定義しなさい。指数関数はnumpyが持つ`exp()`関数を使いなさい。\n",
        "\n",
        "手順3: pyplotを使い，関数$y_1$をプロットしなさい。線の色は赤，線の幅は1，線種は実線，横軸のラベルを$x label$，縦軸のラベルを$y label$，凡例'sigmoid'(位置は左上)としなさい。\n",
        "\n",
        "手順4: 関数$y_2$を追記しなさい。凡例は'step'，線の色は緑，線の幅は2, 線種は点線としなさい"
      ]
    },
    {
      "cell_type": "code",
      "execution_count": null,
      "metadata": {
        "id": "qlw9HntjZPjN"
      },
      "outputs": [],
      "source": []
    },
    {
      "cell_type": "markdown",
      "metadata": {
        "id": "dO0Ad35QEHOf"
      },
      "source": [
        "## グラフの種類\n",
        "#### 散布図 scatter()\n",
        "`scatter()`関数で散布図を描くことができます。"
      ]
    },
    {
      "cell_type": "code",
      "execution_count": null,
      "metadata": {
        "id": "lfy-UwLHEI30"
      },
      "outputs": [],
      "source": [
        "import matplotlib.pyplot as plt\n",
        "\n",
        "x = [1, 2, 3, 4, 5, 6, 7, 8]\n",
        "y = [1, 1, 2, 3, 5, 8, 13, 21]\n",
        "\n",
        "\n",
        "fig = plt.figure()\n",
        "ax = fig.add_subplot(111)\n",
        "ax.scatter(x, y)\n",
        "plt.show()"
      ]
    },
    {
      "cell_type": "markdown",
      "metadata": {
        "id": "jD4pGrNcELh8"
      },
      "source": [
        "#### 棒グラフ bar()\n",
        "\n",
        "`bar()`関数で棒グラフを描くことができます。"
      ]
    },
    {
      "cell_type": "code",
      "execution_count": 1,
      "metadata": {
        "colab": {
          "base_uri": "https://localhost:8080/",
          "height": 265
        },
        "id": "CdKq7rucENZq",
        "outputId": "b231c288-32bd-4442-dc99-a3a9b5769e4c"
      },
      "outputs": [
        {
          "output_type": "display_data",
          "data": {
            "text/plain": [
              "<Figure size 432x288 with 1 Axes>"
            ],
            "image/png": "[encoded data removed]"
          },
          "metadata": {
            "needs_background": "light"
          }
        }
      ],
      "source": [
        "import matplotlib.pyplot as plt\n",
        "\n",
        "x = [1, 2, 3, 4, 5, 6, 7, 8]\n",
        "y = [1, 1, 2, 3, 5, 8, 13, 21]\n",
        "\n",
        "\n",
        "fig = plt.figure()\n",
        "ax = fig.add_subplot(111)\n",
        "ax.bar(x, y)\n",
        "plt.show()"
      ]
    },
    {
      "cell_type": "markdown",
      "metadata": {
        "id": "KzPZhr1JC4sp"
      },
      "source": [
        "# 11 演習"
      ]
    },
    {
      "cell_type": "markdown",
      "metadata": {
        "id": "ar9B3EzVEoyu"
      },
      "source": [
        "以下を動かすことで，fibonacci.csv というファイルに以下のデータファイルを作ることができる。\n",
        "\n",
        "    1, 1\n",
        "    2, 1\n",
        "    3, 2\n",
        "    4, 3\n",
        "    5, 5\n",
        "    6, 8\n",
        "    7, 13\n",
        "    8, 21"
      ]
    },
    {
      "cell_type": "code",
      "execution_count": null,
      "metadata": {
        "id": "K5QNcWJKC4sp"
      },
      "outputs": [],
      "source": [
        "#fibonacci.csvを作るコード\n",
        "with open('fibonacci.csv', 'w') as f:\n",
        "    f.write('1, 1\\n')\n",
        "    f.write('2, 1\\n')\n",
        "    f.write('3, 2\\n')\n",
        "    f.write('4, 3\\n')\n",
        "    f.write('5, 5\\n')\n",
        "    f.write('6, 8\\n')\n",
        "    f.write('7, 13\\n')\n",
        "    f.write('8, 21\\n')"
      ]
    },
    {
      "cell_type": "markdown",
      "metadata": {
        "id": "tgYqwkX-C4sp"
      },
      "source": [
        "この作成されたfibonacci.csvを読み込んで以下のグラフを描きなさい。\n"
      ]
    },
    {
      "cell_type": "markdown",
      "source": [
        "![img.png](data:image/png;base64,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)"
      ],
      "metadata": {
        "id": "pCCtlksNDjSH"
      }
    }
  ],
  "metadata": {
    "colab": {
      "collapsed_sections": [],
      "provenance": [],
      "include_colab_link": true
    },
    "kernelspec": {
      "display_name": "Python 3",
      "language": "python",
      "name": "python3"
    },
    "language_info": {
      "codemirror_mode": {
        "name": "ipython",
        "version": 3
      },
      "file_extension": ".py",
      "mimetype": "text/x-python",
      "name": "python",
      "nbconvert_exporter": "python",
      "pygments_lexer": "ipython3",
      "version": "3.8.8"
    }
  },
  "nbformat": 4,
  "nbformat_minor": 0
}