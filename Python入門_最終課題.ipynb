{
  "nbformat": 4,
  "nbformat_minor": 0,
  "metadata": {
    "colab": {
      "provenance": [],
      "collapsed_sections": [],
      "authorship_tag": "ABX9TyMNj22vhcFzCkXEp1bcwJdC",
      "include_colab_link": true
    },
    "kernelspec": {
      "name": "python3",
      "display_name": "Python 3"
    },
    "language_info": {
      "name": "python"
    }
  },
  "cells": [
    {
      "cell_type": "markdown",
      "metadata": {
        "id": "view-in-github",
        "colab_type": "text"
      },
      "source": [
        "<a href=\"https://colab.research.google.com/github/YukiAoki-GU/Python_beginners/blob/main/Python%E5%85%A5%E9%96%80_%E6%9C%80%E7%B5%82%E8%AA%B2%E9%A1%8C.ipynb\" target=\"_parent\"><img src=\"https://colab.research.google.com/assets/colab-badge.svg\" alt=\"Open In Colab\"/></a>"
      ]
    },
    {
      "cell_type": "markdown",
      "source": [
        "# 以下の様な仕様のジャンケンゲームを作りなさい\n",
        "\n",
        "## 問題1\n",
        "1.   input()関数を使い，「グー」，「チョキ」，「パー」のいずれかを入力させなさい。それ以外の文字列が入力されたらジャンケンをやり直すものとする。\n",
        "2.   random()関数を使い，コンピュータとジャンケンをし「勝ち」，「負け」，「あいこ」の判定をしなさい。あいこの場合ジャンケンをやり直すものとする。\n"
      ],
      "metadata": {
        "id": "CjX8D8r0-9V7"
      }
    },
    {
      "cell_type": "code",
      "source": [],
      "metadata": {
        "id": "YFuqe4-pcxxN"
      },
      "execution_count": null,
      "outputs": []
    },
    {
      "cell_type": "markdown",
      "source": [
        "## 問題2\n",
        "コンピュータ同士で1000回ジャンケンを行いなさい。\n",
        "ジャンケンの回数に対してジャンケンに勝った回数をカウントし，ジャンケンの回数に対して，勝った割合の変化をグラフとしなさい。"
      ],
      "metadata": {
        "id": "m5t48nR5RTB1"
      }
    },
    {
      "cell_type": "code",
      "source": [],
      "metadata": {
        "id": "NvKAe5RZcyWt"
      },
      "execution_count": null,
      "outputs": []
    }
  ]
}