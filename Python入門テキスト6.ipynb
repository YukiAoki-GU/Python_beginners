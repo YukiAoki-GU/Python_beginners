{
  "cells": [
    {
      "cell_type": "markdown",
      "metadata": {
        "id": "view-in-github",
        "colab_type": "text"
      },
      "source": [
        "<a href=\"https://colab.research.google.com/github/YukiAoki-GU/Python_beginners/blob/main/Python%E5%85%A5%E9%96%80%E3%83%86%E3%82%AD%E3%82%B9%E3%83%886.ipynb\" target=\"_parent\"><img src=\"https://colab.research.google.com/assets/colab-badge.svg\" alt=\"Open In Colab\"/></a>"
      ]
    },
    {
      "cell_type": "markdown",
      "metadata": {
        "id": "nRj2eEqTmOfx"
      },
      "source": [
        "---\n",
        "# 6-1 タプル\n",
        "リストは、「モノ」を複数個並べたものでした。\n",
        "````Python\n",
        "[要素1]\n",
        "[要素1, 要素2]\n",
        "````\n",
        "のように、[ ]で囲い、「モノ」が複数個あるときには、コンマ(,)で区切りました。\n",
        "\n",
        "リストに似たデータ型に「タプル」があります。\n",
        "\n",
        "タプルは、\n",
        "````Python\n",
        "(要素1)\n",
        "(要素1, 要素2)\n",
        "````\n",
        "のように、( )で囲い、「モノ」が複数個あるときには、コンマ(,)で区切ります。\n",
        "\n",
        "見た目上はリストの`[]`が`()`に変わっただけです。\n",
        "\n",
        "タブルは、リストと同様に、順序、異なる型の要素、多重、長さ(要素)、整数倍、要素が属しているか、一部の抽出、等の操作が可能です。\\\n",
        "また、for文における「値等の並び」にも使えます。\n",
        "ただし、要素の追加、連結、スライスによる代入、要素の削除、等のタプルを変更する操作はできません。\n",
        "\n",
        "つまり、リストとタプルはほぼ同等のデータ型ですが、リストは変更可(`mutable`)、タプルは変更不可(`immutable`)です。タプルで以下のようなメソッドの実行はエラーになります。"
      ]
    },
    {
      "cell_type": "code",
      "execution_count": null,
      "metadata": {
        "id": "LYsJxl2n186Y"
      },
      "outputs": [],
      "source": [
        "('いちごケーキ', 'チーズケーキ', '抹茶ケーキ').append('ガトーショコラ')"
      ]
    },
    {
      "cell_type": "markdown",
      "metadata": {
        "id": "CuIeTaWU3eNo"
      },
      "source": [
        "タプルの使い所として，とりあえずは変更を許可しない変数を定義する場合だ，と思っておきましよう。"
      ]
    },
    {
      "cell_type": "markdown",
      "source": [
        "\n",
        "# mutable(変更可)とimmutable(変更不可)の補足\n",
        "\n",
        "これまで習ってきた型でmutableはlistのみであり，\n",
        "tuple, str(文字列), int(整数), float(浮動小数), bool(真偽)などは全てimmutableです。\n",
        "\n",
        "しかし例えば，以下ではimmutableなのに値を変えることができます。"
      ],
      "metadata": {
        "id": "tgM8Q35utBVQ"
      }
    },
    {
      "cell_type": "code",
      "source": [
        "a = 10      #aに10を代入\n",
        "a = int(a)  #変数aは整数型なのでimmutable\n",
        "print(a)\n",
        "\n",
        "a = 12 #aに違う値である12を代入\n",
        "print(a)"
      ],
      "metadata": {
        "id": "f3fQH2AzvDwG"
      },
      "execution_count": null,
      "outputs": []
    },
    {
      "cell_type": "markdown",
      "source": [
        "immutableというのは，オブジェクトのid番号が変更不可という意味です。つまり，箱を同じままで値を変える事ができないという意味です。"
      ],
      "metadata": {
        "id": "1g20TWiK2pXA"
      }
    },
    {
      "cell_type": "code",
      "source": [
        "a = 10      #aに10を代入\n",
        "a = int(a)  #変数aは整数型なのでimmutable\n",
        "print(id(a))\n",
        "\n",
        "a = 12 #aに違う値である12を代入\n",
        "print(id(a))"
      ],
      "metadata": {
        "id": "S3pmAWWVvytt"
      },
      "execution_count": null,
      "outputs": []
    },
    {
      "cell_type": "code",
      "source": [
        "a = [10]      #aはリスト型なのでmutable\n",
        "print(a)\n",
        "print(id(a))\n",
        "\n",
        "a.append(12)\n",
        "print(a)\n",
        "print(id(a))"
      ],
      "metadata": {
        "colab": {
          "base_uri": "https://localhost:8080/"
        },
        "id": "bKEAEsQVwQQr",
        "outputId": "e9673c74-4e98-4d0a-b4c2-8725ca9eb6bc"
      },
      "execution_count": null,
      "outputs": [
        {
          "output_type": "stream",
          "name": "stdout",
          "text": [
            "[10]\n",
            "139637485892624\n",
            "[10, 12]\n",
            "139637485892624\n"
          ]
        }
      ]
    },
    {
      "cell_type": "markdown",
      "metadata": {
        "id": "9st5zllwdFnm"
      },
      "source": [
        "---\n",
        "# 6-2 辞書\n",
        "辞書は，リストと同様にmutableです。\n",
        "\n",
        "「キー」と「値」を対応づけるデータで，以下の書式で書きます。\n",
        "\n",
        "````Python\n",
        "{キー1:値1}\n",
        "{キー1:値1, キー2:値2}\n",
        "````\n",
        "\n",
        "ケーキ名である「キー」と値段である「値」を対応づけた辞書の例：\n",
        "\n",
        "`{'いちごケーキ':350, 'チーズケーキ':400, '抹茶ケーキ':450}`\n",
        "\n",
        "リストやタプルと異なり，辞書には順序がありません。"
      ]
    },
    {
      "cell_type": "code",
      "execution_count": null,
      "metadata": {
        "id": "3qWTN5SFc_ra"
      },
      "outputs": [],
      "source": [
        "{'いちごケーキ':350, 'チーズケーキ':400, '抹茶ケーキ':450} == {'抹茶ケーキ':450, 'いちごケーキ':350, 'チーズケーキ':400}"
      ]
    },
    {
      "cell_type": "code",
      "source": [
        "# リストの場合\n",
        "['いちごケーキ', 'チーズケーキ', '抹茶ケーキ'] ==['チーズケーキ', 'いちごケーキ', '抹茶ケーキ']"
      ],
      "metadata": {
        "id": "KorsOVQy3gf-"
      },
      "execution_count": null,
      "outputs": []
    },
    {
      "cell_type": "code",
      "source": [
        "#タプルの場合\n",
        "('いちごケーキ', 'チーズケーキ', '抹茶ケーキ') ==('チーズケーキ', 'いちごケーキ', '抹茶ケーキ')"
      ],
      "metadata": {
        "id": "pQ0SdIUy3slg"
      },
      "execution_count": null,
      "outputs": []
    },
    {
      "cell_type": "markdown",
      "metadata": {
        "id": "eH5GEx8csep1"
      },
      "source": [
        "辞書の特定の値を出力するには，リストやタプルと違ってインデックスではなく、キーを指定します。"
      ]
    },
    {
      "cell_type": "code",
      "execution_count": null,
      "metadata": {
        "id": "g9XjiD_AsXlP"
      },
      "outputs": [],
      "source": [
        "cakes_price_list = {'いちごケーキ':350, 'チーズケーキ':400, '抹茶ケーキ':450}\n",
        "print(cakes_price_list['チーズケーキ'])"
      ]
    },
    {
      "cell_type": "markdown",
      "metadata": {
        "id": "ZoClDWs5soYI"
      },
      "source": [
        "辞書中の特定の値を書き換えるには，以下のような代入文を使います。\n",
        "新たなキーと値を追加する場合も同様です。"
      ]
    },
    {
      "cell_type": "code",
      "execution_count": null,
      "metadata": {
        "id": "spFBGbmfskBD"
      },
      "outputs": [],
      "source": [
        "cakes_price_list = {'いちごケーキ':350, 'チーズケーキ':400, '抹茶ケーキ':450}\n",
        "\n",
        "cakes_price_list['いちごケーキ'] = 370\n",
        "print(cakes_price_list['いちごケーキ'])\n",
        "\n",
        "cakes_price_list['ガトーショコラ'] = 480\n",
        "print(cakes_price_list)\n",
        "print(cakes_price_list['ガトーショコラ'])"
      ]
    },
    {
      "cell_type": "markdown",
      "metadata": {
        "id": "LUqUaRjDp7qe"
      },
      "source": [
        "##pop()\n",
        "辞書から値を削除するには，`pop()`メソッドを使います。"
      ]
    },
    {
      "cell_type": "code",
      "execution_count": null,
      "metadata": {
        "id": "wDPB9H-fp-90"
      },
      "outputs": [],
      "source": [
        "cakes_price_list = {'いちごケーキ':350, 'チーズケーキ':400, '抹茶ケーキ':450}\n",
        "\n",
        "cakes_price_list.pop('いちごケーキ')\n",
        "print(cakes_price_list)"
      ]
    },
    {
      "cell_type": "markdown",
      "metadata": {
        "id": "82zw0cYDqBmz"
      },
      "source": [
        "リストやタプルと同様に，`for`文における「値等の並び」にも使えます。値として取り出されるのは「キー」になります。"
      ]
    },
    {
      "cell_type": "code",
      "execution_count": null,
      "metadata": {
        "id": "B4CEOvIvqElL"
      },
      "outputs": [],
      "source": [
        "cakes_price_list = {'いちごケーキ':350, 'チーズケーキ':400, '抹茶ケーキ':450}\n",
        "\n",
        "for cake in cakes_price_list:\n",
        "    print(cake)"
      ]
    },
    {
      "cell_type": "markdown",
      "metadata": {
        "id": "GxCjMO4IqStV"
      },
      "source": [
        "## keys(), values()\n",
        "キーや値の一覧を取り出すには，メソッド`keys()`，`values()`を使います。\\\n",
        "メソッドが返す型は、それぞれ`dic_keys`と`dict_values`型なので，リストに変換するには、`list()`関数を使います。 "
      ]
    },
    {
      "cell_type": "code",
      "execution_count": null,
      "metadata": {
        "id": "ef3ma9bNqVLJ"
      },
      "outputs": [],
      "source": [
        "cakes_price_list = {'いちごケーキ':350, 'チーズケーキ':400, '抹茶ケーキ':450}\n",
        "\n",
        "print(cakes_price_list.keys())\n",
        "print(cakes_price_list.values())\n",
        "\n",
        "print(list(cakes_price_list.keys()))\n",
        "print(list(cakes_price_list.values()))"
      ]
    },
    {
      "cell_type": "markdown",
      "metadata": {
        "id": "QH9HR_UkqXVZ"
      },
      "source": [
        "`for`文で「値」を取り出したいときには以下のようにします。\\\n",
        "`values()`メソッドを適用したあとでリストに変換する必要はありません。"
      ]
    },
    {
      "cell_type": "code",
      "execution_count": null,
      "metadata": {
        "id": "lygsAPksqZrK"
      },
      "outputs": [],
      "source": [
        "cakes_price_list = {'いちごケーキ':350, 'チーズケーキ':400, '抹茶ケーキ':450}\n",
        "\n",
        "for price in cakes_price_list.values():\n",
        "    print(price)"
      ]
    },
    {
      "cell_type": "markdown",
      "metadata": {
        "id": "X-3EgHtc45M4"
      },
      "source": [
        "## items()\n",
        "キーとそれに対応した値をタプルにした一覧を返します。"
      ]
    },
    {
      "cell_type": "code",
      "execution_count": null,
      "metadata": {
        "id": "qH7iHMwz5Zrx"
      },
      "outputs": [],
      "source": [
        "list(cakes_price_list.items())"
      ]
    },
    {
      "cell_type": "markdown",
      "metadata": {
        "id": "smvMpx7U7FmJ"
      },
      "source": [
        "Q: `items()`を使って`for`文の中で，`cakes_price_list`のキーと値を順番に取り出しなさい。"
      ]
    },
    {
      "cell_type": "code",
      "execution_count": null,
      "metadata": {
        "id": "nMkX9bJg7c2T"
      },
      "outputs": [],
      "source": [
        "cakes_price_list = {'いちごケーキ':350, 'チーズケーキ':400, '抹茶ケーキ':450}"
      ]
    },
    {
      "cell_type": "markdown",
      "metadata": {
        "id": "l4hY2bmrt5OE"
      },
      "source": [
        "Q:上のケーキの辞書に「抹茶ケーキ」が含まれているかを確認するコードを書きなさい。"
      ]
    },
    {
      "cell_type": "code",
      "execution_count": null,
      "metadata": {
        "id": "Byr6NRWguQQ_"
      },
      "outputs": [],
      "source": [
        "cakes_price_list = {'いちごケーキ':350, 'チーズケーキ':400, '抹茶ケーキ':450}"
      ]
    },
    {
      "cell_type": "markdown",
      "metadata": {
        "id": "LLxwNfE7unud"
      },
      "source": [
        "Q: ケーキの辞書に500円のケーキが含まれているかを確認するコードを書きなさい。"
      ]
    },
    {
      "cell_type": "code",
      "execution_count": null,
      "metadata": {
        "id": "77UIa4_gvFSM"
      },
      "outputs": [],
      "source": [
        "cakes_price_list = {'いちごケーキ':350, 'チーズケーキ':400, '抹茶ケーキ':450}"
      ]
    },
    {
      "cell_type": "markdown",
      "metadata": {
        "id": "yTDF8I4jqju0"
      },
      "source": [
        "---\n",
        "# 6 演習\n",
        "\n",
        "以下のようなケーキ名と価格の「辞書」があったとする。\n",
        "\n",
        "このとき、買い物かごに入れたケーキの価格の合計を求めるプログラムを作りなさい。"
      ]
    },
    {
      "cell_type": "code",
      "execution_count": null,
      "metadata": {
        "id": "OmivPE01qoxa"
      },
      "outputs": [],
      "source": [
        "cakes_price_list = {'いちごケーキ':350, 'チーズケーキ':400, '抹茶ケーキ':450, 'ガトーショコラ':470, 'ティラミス':500, 'モンブラン':370}\n",
        "\n",
        "my_cart = ['いちごケーキ', 'ガトーショコラ']"
      ]
    },
    {
      "cell_type": "markdown",
      "metadata": {
        "id": "MSceY3TFqqix"
      },
      "source": [
        "以下のような商品名と価格の「辞書」と商品名と税率の「辞書」があったとする。\n",
        "\n",
        "このとき、買い物かごに入れた商品の税込み価格の合計を求めるプログラムを作りなさい。"
      ]
    },
    {
      "cell_type": "code",
      "execution_count": null,
      "metadata": {
        "id": "FrJAolIVqs4c"
      },
      "outputs": [],
      "source": [
        "price_list = {'いちごケーキ':350, 'チーズケーキ':400, '抹茶ケーキ':450, 'ガトーショコラ':470, 'ティラミス':500, 'モンブラン':370,\n",
        "             '紙皿':250, 'フォーク':170}\n",
        "tax_list   = {'いちごケーキ':0.08, 'チーズケーキ':0.08, '抹茶ケーキ':0.08, 'ガトーショコラ':0.08, 'ティラミス':0.08, 'モンブラン':0.08,\n",
        "             '紙皿':0.10, 'フォーク':0.10}\n",
        "\n",
        "my_cart = ['いちごケーキ', 'ガトーショコラ', '紙皿']"
      ]
    }
  ],
  "metadata": {
    "colab": {
      "provenance": [],
      "collapsed_sections": [],
      "include_colab_link": true
    },
    "kernelspec": {
      "display_name": "Python 3",
      "language": "python",
      "name": "python3"
    },
    "language_info": {
      "codemirror_mode": {
        "name": "ipython",
        "version": 3
      },
      "file_extension": ".py",
      "mimetype": "text/x-python",
      "name": "python",
      "nbconvert_exporter": "python",
      "pygments_lexer": "ipython3",
      "version": "3.8.8"
    }
  },
  "nbformat": 4,
  "nbformat_minor": 0
}