{
  "cells": [
    {
      "cell_type": "markdown",
      "metadata": {
        "id": "view-in-github",
        "colab_type": "text"
      },
      "source": [
        "<a href=\"https://colab.research.google.com/github/YukiAoki-GU/Python_beginners/blob/main/python_7.ipynb\" target=\"_parent\"><img src=\"https://colab.research.google.com/assets/colab-badge.svg\" alt=\"Open In Colab\"/></a>"
      ]
    },
    {
      "cell_type": "markdown",
      "metadata": {
        "id": "T8N21sXB859N"
      },
      "source": [
        "#7-1 ファイル操作"
      ]
    },
    {
      "cell_type": "markdown",
      "metadata": {
        "id": "n2Pv-lOO-7O8"
      },
      "source": [
        "## ファイルの書き込み\n",
        "`open()`で`w`, `a`いずれかのモードでファイルを開き，`write()`で書き込みます。\n",
        "\n",
        "|  モード   |   説明  |\n",
        "| --- | --- |\n",
        "|  w   | 中身を削除し上書き。指定したファイルがない場合は新規作成。 |\n",
        "|a|末尾に追記。指定したファイルがない場合は新規作成。|"
      ]
    },
    {
      "cell_type": "markdown",
      "metadata": {
        "id": "ky8lWqOcCITd"
      },
      "source": [
        "以下は，「こんにちは」と書き込んだ'hello.txt'というファイルを作るコードです。"
      ]
    },
    {
      "cell_type": "code",
      "execution_count": null,
      "metadata": {
        "id": "Bd-_VyKNCknv"
      },
      "outputs": [],
      "source": [
        "#上書きモード\n",
        "f = open('hello.txt', 'w')\n",
        "f.write('こんにちは\\n') # \\nは改行コード\n",
        "f.close()"
      ]
    },
    {
      "cell_type": "code",
      "execution_count": null,
      "metadata": {
        "id": "pQxaPgOpC_AC"
      },
      "outputs": [],
      "source": [
        "#追記モード\n",
        "f = open('hello.txt', 'a')\n",
        "f.write('こんにちは\\n')\n",
        "f.close()"
      ]
    },
    {
      "cell_type": "markdown",
      "metadata": {
        "id": "rqWF7j2GIHv5"
      },
      "source": [
        "Q: `for`文を使うことで，以下の出力をする`number.txt`というファイルを作りなさい。\n",
        "```\n",
        "0\n",
        "1\n",
        "2\n",
        "3\n",
        "4\n",
        "5\n",
        "6\n",
        "7\n",
        "8\n",
        "9\n",
        "```"
      ]
    },
    {
      "cell_type": "code",
      "execution_count": null,
      "metadata": {
        "id": "BEi84it2IwBu"
      },
      "outputs": [],
      "source": []
    },
    {
      "cell_type": "markdown",
      "metadata": {
        "id": "Szp3JtH-NSVb"
      },
      "source": [
        "Q: `cakes_list = ['いちごケーキ', 'チーズケーキ', '抹茶ケーキ']`のリストから以下の出力をする`cakes.txt`というファイルを作りなさい。\n",
        "```\n",
        "いちごケーキ\n",
        "チーズケーキ\n",
        "抹茶ケーキ\n",
        "```"
      ]
    },
    {
      "cell_type": "code",
      "execution_count": null,
      "metadata": {
        "id": "aIco6Y5HNoii"
      },
      "outputs": [],
      "source": [
        "cakes_list = ['いちごケーキ', 'チーズケーキ', '抹茶ケーキ']   "
      ]
    },
    {
      "cell_type": "markdown",
      "metadata": {
        "id": "4sbBm7wwbMUB"
      },
      "source": [
        "Q: `cakes_dict = {'ケーキ名':'値段', 'いちごケーキ':350, 'チーズケーキ':400, '抹茶ケーキ':450}`の辞書から以下の出力をする`cakes2.txt`というファイルを作りなさい。\\\n",
        "「キー」と「値」の間の区切り文字は半角スペースとしていることに注意。\n",
        "\n",
        "```\n",
        "ケーキ名 値段\n",
        "いちごケーキ 350\n",
        "チーズケーキ 400\n",
        "抹茶ケーキ 450\n",
        "```"
      ]
    },
    {
      "cell_type": "code",
      "execution_count": null,
      "metadata": {
        "id": "RYouUdySPctd"
      },
      "outputs": [],
      "source": [
        "cakes_dict = {'ケーキ名':'値段', 'いちごケーキ':350, 'チーズケーキ':400, '抹茶ケーキ':450}"
      ]
    },
    {
      "cell_type": "markdown",
      "metadata": {
        "id": "Z76jeOHVaSyb"
      },
      "source": [
        "長いコードを書いていると，ファイルをどこでclose()したのかが分かりづらくなることがあります。\\\n",
        "その場合，以下の`with`構文で，ブロックごとにファイルを自動的に閉じることができます。"
      ]
    },
    {
      "cell_type": "code",
      "execution_count": null,
      "metadata": {
        "id": "96mVFZKXFI5i"
      },
      "outputs": [],
      "source": [
        "with open('hello.txt', 'w') as f:\n",
        "    f.write('こんにちは\\n')"
      ]
    },
    {
      "cell_type": "markdown",
      "metadata": {
        "id": "P0hVKqUXOGQM"
      },
      "source": [
        "Q: `cakes_dict = {'ケーキ名':'値段', 'いちごケーキ':350, 'チーズケーキ':400, '抹茶ケーキ':450}`の辞書から以下の出力をする`cakes2.csv`というCSVファイルを作りなさい。\n",
        "\n",
        "- `,`区切りのファイルをCSVファイルと呼ぶ。\\\n",
        "- ファイル処理では`with`構文を使いなさい。\n",
        "```\n",
        "ケーキ名, 値段\n",
        "いちごケーキ, 350\n",
        "チーズケーキ, 400\n",
        "抹茶ケーキ, 450\n",
        "```"
      ]
    },
    {
      "cell_type": "code",
      "execution_count": null,
      "metadata": {
        "id": "wjdRgYahh_Ge"
      },
      "outputs": [],
      "source": [
        "cakes_dict = {'ケーキ名':'値段', 'いちごケーキ':350, 'チーズケーキ':400, '抹茶ケーキ':450}"
      ]
    },
    {
      "cell_type": "markdown",
      "metadata": {
        "id": "SYoolOjX-_cj"
      },
      "source": [
        "## ファイルの読み込み\n",
        "`open()`で`r`モードでファイルを開き，`read()`を使って**ファイル全体**を読み込みます。"
      ]
    },
    {
      "cell_type": "code",
      "execution_count": null,
      "metadata": {
        "colab": {
          "base_uri": "https://localhost:8080/"
        },
        "id": "Dud6ZTfk8pPE",
        "outputId": "83d3f42b-7d24-4ad9-c15a-04fd761c8543"
      },
      "outputs": [
        {
          "name": "stdout",
          "output_type": "stream",
          "text": [
            "いちごケーキ\n",
            "チーズケーキ\n",
            "抹茶ケーキ\n",
            "\n"
          ]
        }
      ],
      "source": [
        "f = open('cakes.txt', 'r')\n",
        "s = f.read()\n",
        "print(s)\n",
        "f.close()"
      ]
    },
    {
      "cell_type": "markdown",
      "metadata": {
        "id": "UV2FS2_8hDaD"
      },
      "source": [
        "ファイル書き込みの場合と同様で，`with()`を使うことで`close()`が不要になります。"
      ]
    },
    {
      "cell_type": "code",
      "execution_count": null,
      "metadata": {
        "colab": {
          "base_uri": "https://localhost:8080/"
        },
        "id": "yUTerEbx8-63",
        "outputId": "19fa57c8-a8c0-4684-c902-39ce2dee52a3"
      },
      "outputs": [
        {
          "name": "stdout",
          "output_type": "stream",
          "text": [
            "いちごケーキ\n",
            "チーズケーキ\n",
            "抹茶ケーキ\n",
            "\n"
          ]
        }
      ],
      "source": [
        "with open('cakes.txt', 'r') as f:\n",
        "    s = f.read()\n",
        "    print(s)"
      ]
    },
    {
      "cell_type": "markdown",
      "metadata": {
        "id": "xDzAK07VmpEk"
      },
      "source": [
        "`readlines()`を使うことで**ファイル全体をリスト**として読み込みます。"
      ]
    },
    {
      "cell_type": "code",
      "execution_count": null,
      "metadata": {
        "colab": {
          "base_uri": "https://localhost:8080/"
        },
        "id": "HNazpnX5mWiz",
        "outputId": "a9a0e5d3-8ae8-4f4a-e171-7ff1b1809bcd"
      },
      "outputs": [
        {
          "name": "stdout",
          "output_type": "stream",
          "text": [
            "['いちごケーキ\\n', 'チーズケーキ\\n', '抹茶ケーキ\\n']\n"
          ]
        }
      ],
      "source": [
        "with open('cakes.txt', 'r') as f:\n",
        "    s = f.readlines()\n",
        "    print(s)"
      ]
    },
    {
      "cell_type": "markdown",
      "metadata": {
        "id": "tmmYPEcgjYYt"
      },
      "source": [
        "Q: cakes.txtを`readlines()`を使ってリストとして読み込み，次の出力をしなさい。\n",
        "\n",
        "`rstrip()`メソッドを使うことで末尾から指定した文字を取り除くことができます。\n",
        "```\n",
        "いちごケーキ\n",
        "チーズケーキ\n",
        "抹茶ケーキ\n",
        "```"
      ]
    },
    {
      "cell_type": "code",
      "execution_count": null,
      "metadata": {
        "id": "L0tDvnS-nqJq"
      },
      "outputs": [],
      "source": []
    },
    {
      "cell_type": "markdown",
      "metadata": {
        "id": "kcV0a5v5Ljxn"
      },
      "source": [
        "`readline()`を使うことでファイルから1行読み込みます。"
      ]
    },
    {
      "cell_type": "code",
      "execution_count": null,
      "metadata": {
        "colab": {
          "base_uri": "https://localhost:8080/"
        },
        "id": "xrT4QV3OLrNK",
        "outputId": "91037ef0-3e4c-4447-f665-5c5647b37edf"
      },
      "outputs": [
        {
          "name": "stdout",
          "output_type": "stream",
          "text": [
            "いちごケーキ\n",
            "\n"
          ]
        }
      ],
      "source": [
        "with open('cakes.txt', 'r') as f:\n",
        "    s = f.readline()\n",
        "    print(s)"
      ]
    },
    {
      "cell_type": "markdown",
      "metadata": {
        "id": "88rPPSk4gJ3s"
      },
      "source": [
        "Q: cakes.txtを`readline()`を使って1行ずつ読み込み，次の出力をしなさい。\n",
        "```\n",
        "いちごケーキ\n",
        "チーズケーキ\n",
        "抹茶ケーキ\n",
        "```"
      ]
    },
    {
      "cell_type": "code",
      "execution_count": null,
      "metadata": {
        "id": "O4iyGfPFNvm9"
      },
      "outputs": [],
      "source": []
    },
    {
      "cell_type": "markdown",
      "metadata": {
        "id": "jpvT-73ytRDa"
      },
      "source": [
        "Q: 0-9までが書かれたnumber.txtを読み込み，その合計値を出力しなさい。"
      ]
    },
    {
      "cell_type": "code",
      "execution_count": null,
      "metadata": {
        "id": "rhk2Dqqbjekh"
      },
      "outputs": [],
      "source": []
    },
    {
      "cell_type": "markdown",
      "metadata": {
        "id": "hIyWjuAAkrVe"
      },
      "source": [
        "Q: cakes2.txtを読み込み，以下の出力をしなさい。\n",
        "\n",
        "`split('区切り文字')`で「区切り文字」で分割してリストに格納。区切り文字を指定しないときは空白で分割。\n",
        "```\n",
        "いちごケーキ\n",
        "チーズケーキ\n",
        "抹茶ケーキ\n",
        "```"
      ]
    },
    {
      "cell_type": "code",
      "execution_count": null,
      "metadata": {
        "id": "MAJLClcIljoY"
      },
      "outputs": [],
      "source": []
    },
    {
      "cell_type": "markdown",
      "metadata": {
        "id": "pkWFznglspff"
      },
      "source": [
        "Q: cakes2.csvを読み込み，以下の出力をしなさい。\n",
        "\n",
        "```\n",
        "350\n",
        "400\n",
        "450\n",
        "```"
      ]
    },
    {
      "cell_type": "code",
      "execution_count": null,
      "metadata": {
        "id": "tzxPHC3Us0FB"
      },
      "outputs": [],
      "source": []
    }
  ],
  "metadata": {
    "colab": {
      "provenance": [],
      "collapsed_sections": [],
      "authorship_tag": "ABX9TyM45SOqenwANo3L3aDg/xCC",
      "include_colab_link": true
    },
    "kernelspec": {
      "display_name": "Python 3",
      "language": "python",
      "name": "python3"
    },
    "language_info": {
      "codemirror_mode": {
        "name": "ipython",
        "version": 3
      },
      "file_extension": ".py",
      "mimetype": "text/x-python",
      "name": "python",
      "nbconvert_exporter": "python",
      "pygments_lexer": "ipython3",
      "version": "3.8.8"
    }
  },
  "nbformat": 4,
  "nbformat_minor": 0
}