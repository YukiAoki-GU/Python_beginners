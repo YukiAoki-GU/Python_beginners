{
  "nbformat": 4,
  "nbformat_minor": 0,
  "metadata": {
    "colab": {
      "provenance": [],
      "collapsed_sections": [],
      "authorship_tag": "ABX9TyODdrNPOvSVu4Ln7SDwVyfH",
      "include_colab_link": true
    },
    "kernelspec": {
      "name": "python3",
      "display_name": "Python 3"
    },
    "language_info": {
      "name": "python"
    }
  },
  "cells": [
    {
      "cell_type": "markdown",
      "metadata": {
        "id": "view-in-github",
        "colab_type": "text"
      },
      "source": [
        "<a href=\"https://colab.research.google.com/github/YukiAoki-GU/Python_beginners/blob/main/Python%E5%85%A5%E9%96%80%E6%BC%94%E7%BF%921.ipynb\" target=\"_parent\"><img src=\"https://colab.research.google.com/assets/colab-badge.svg\" alt=\"Open In Colab\"/></a>"
      ]
    },
    {
      "cell_type": "markdown",
      "source": [
        "## Q: if文\n",
        "`a = [1, 2, 3, 4, 5]`のリストをforループで要素を抜き出して，3になったらループを終了する処理をして以下の出力結果になる様にしなさい。\n",
        "```\n",
        "# 出力結果：\n",
        "1\n",
        "2\n",
        "3になったので終了します\n",
        "```\n"
      ],
      "metadata": {
        "id": "eOKEQaTMpZ-_"
      }
    },
    {
      "cell_type": "code",
      "execution_count": 2,
      "metadata": {
        "id": "5pGSNcMcOpUr",
        "outputId": "a439dc4e-613a-48bc-f12a-922ba3a5a678",
        "colab": {
          "base_uri": "https://localhost:8080/"
        }
      },
      "outputs": [
        {
          "output_type": "stream",
          "name": "stdout",
          "text": [
            "1\n",
            "2\n",
            "3になったので終了します\n"
          ]
        }
      ],
      "source": [
        "a = [1, 2, 3, 4, 5]\n",
        "for num in a:\n",
        "    if num == 3:\n",
        "        print('3になったので終了します')\n",
        "        break\n",
        "    print(num)"
      ]
    },
    {
      "cell_type": "markdown",
      "source": [
        "---\n",
        "## Q: if文\n",
        "1から50までの数字を出力し，数字が2で割り切れるときは「偶数」，3で割り切れるときは「3の倍数」と出力し，2と3の両方で割り切れるときは「2と3の倍数」とする出力をしなさい。\n",
        "```\n",
        "# 出力結果：\n",
        "1\n",
        "偶数\n",
        "3の倍数\n",
        "偶数\n",
        "5\n",
        "2と3の倍数\n",
        "7\n",
        "偶数\n",
        "3の倍数\n",
        "偶数\n",
        "11\n",
        "2と3の倍数\n",
        "13\n",
        "偶数\n",
        "3の倍数\n",
        "偶数\n",
        "17\n",
        "2と3の倍数\n",
        "19\n",
        "偶数\n",
        "3の倍数\n",
        "偶数\n",
        "23\n",
        "2と3の倍数\n",
        "25\n",
        "偶数\n",
        "3の倍数\n",
        "偶数\n",
        "29\n",
        "2と3の倍数\n",
        "31\n",
        "偶数\n",
        "3の倍数\n",
        "偶数\n",
        "35\n",
        "2と3の倍数\n",
        "37\n",
        "偶数\n",
        "3の倍数\n",
        "偶数\n",
        "41\n",
        "2と3の倍数\n",
        "43\n",
        "偶数\n",
        "3の倍数\n",
        "偶数\n",
        "47\n",
        "2と3の倍数\n",
        "49\n",
        "偶数\n",
        "```"
      ],
      "metadata": {
        "id": "EjOXqG2hr6Gr"
      }
    },
    {
      "cell_type": "code",
      "source": [
        "for i in range(1,51):\n",
        "  if i % 2 == 0 and i % 3 == 0:\n",
        "    print('2と3の倍数')\n",
        "  elif i % 2 == 0:\n",
        "    print('偶数')\n",
        "  elif i % 3 == 0:\n",
        "    print('3の倍数')\n",
        "  else:\n",
        "    print(i)"
      ],
      "metadata": {
        "id": "_cWxkfH3sejk",
        "outputId": "f86bd035-8d59-4450-b694-abbbb2a49203",
        "colab": {
          "base_uri": "https://localhost:8080/"
        }
      },
      "execution_count": 7,
      "outputs": [
        {
          "output_type": "stream",
          "name": "stdout",
          "text": [
            "1\n",
            "偶数\n",
            "3の倍数\n",
            "偶数\n",
            "5\n",
            "2と3の倍数\n",
            "7\n",
            "偶数\n",
            "3の倍数\n",
            "偶数\n",
            "11\n",
            "2と3の倍数\n",
            "13\n",
            "偶数\n",
            "3の倍数\n",
            "偶数\n",
            "17\n",
            "2と3の倍数\n",
            "19\n",
            "偶数\n",
            "3の倍数\n",
            "偶数\n",
            "23\n",
            "2と3の倍数\n",
            "25\n",
            "偶数\n",
            "3の倍数\n",
            "偶数\n",
            "29\n",
            "2と3の倍数\n",
            "31\n",
            "偶数\n",
            "3の倍数\n",
            "偶数\n",
            "35\n",
            "2と3の倍数\n",
            "37\n",
            "偶数\n",
            "3の倍数\n",
            "偶数\n",
            "41\n",
            "2と3の倍数\n",
            "43\n",
            "偶数\n",
            "3の倍数\n",
            "偶数\n",
            "47\n",
            "2と3の倍数\n",
            "49\n",
            "偶数\n"
          ]
        }
      ]
    },
    {
      "cell_type": "markdown",
      "source": [
        "---\n",
        "## Q: while文\n",
        "変数にwhile文を使って，以下の出力を行いなさい。\n",
        "```\n",
        "# 出力結果\n",
        "1\n",
        "2\n",
        "3\n",
        "4\n",
        "5\n",
        "```"
      ],
      "metadata": {
        "id": "JVnOtTVAXMo5"
      }
    },
    {
      "cell_type": "code",
      "source": [
        "a = 0\n",
        "while a < 5:\n",
        "    a +=1\n",
        "    print(a)"
      ],
      "metadata": {
        "id": "svXHlTC7XmBF",
        "outputId": "eafc7620-89b6-4854-9152-d2fbac98aa35",
        "colab": {
          "base_uri": "https://localhost:8080/"
        }
      },
      "execution_count": 8,
      "outputs": [
        {
          "output_type": "stream",
          "name": "stdout",
          "text": [
            "1\n",
            "2\n",
            "3\n",
            "4\n",
            "5\n"
          ]
        }
      ]
    },
    {
      "cell_type": "markdown",
      "source": [
        "---\n",
        "## Q: 内包表記\n",
        "`a = [1, 2, 3, 4, 5]`を内包表記を使って以下の出力を行いなさい。\n",
        "```\n",
        "# 出力結果\n",
        "[1, 2, 3, 4, 5]\n",
        "```"
      ],
      "metadata": {
        "id": "-AmyNlH1tjd7"
      }
    },
    {
      "cell_type": "code",
      "source": [
        "a = [1, 2, 3, 4, 5]\n",
        "result = [i for i in a]\n",
        "print(result)"
      ],
      "metadata": {
        "id": "2D5jijeCtAmo",
        "outputId": "a76e31d1-e533-4283-e53e-7bffa4321aa0",
        "colab": {
          "base_uri": "https://localhost:8080/"
        }
      },
      "execution_count": 9,
      "outputs": [
        {
          "output_type": "stream",
          "name": "stdout",
          "text": [
            "[1, 2, 3, 4, 5]\n"
          ]
        }
      ]
    },
    {
      "cell_type": "markdown",
      "source": [
        "---\n",
        "## Q: 内包表記\n",
        "内包表記を使って`a = [1, 2, 3, 4, 5]`のうち偶数のみを出力しなさい。\n",
        "```\n",
        "# 出力結果\n",
        "[2, 4]\n",
        "```"
      ],
      "metadata": {
        "id": "rmbQHSsNu8OE"
      }
    },
    {
      "cell_type": "code",
      "source": [
        "a = [1, 2, 3, 4, 5]\n",
        "result = [i for i in a if i % 2 == 0]\n",
        "print(result)"
      ],
      "metadata": {
        "id": "fuewTRuduxnE",
        "outputId": "d10c3289-caff-4381-c79e-0bb543049f41",
        "colab": {
          "base_uri": "https://localhost:8080/"
        }
      },
      "execution_count": 10,
      "outputs": [
        {
          "output_type": "stream",
          "name": "stdout",
          "text": [
            "[2, 4]\n"
          ]
        }
      ]
    },
    {
      "cell_type": "markdown",
      "source": [
        "---\n",
        "## Q: タプル\n",
        "`a = (1, 2, 3)`と`b=(7, 8, 9)`を結合して，以下の出力をしなさい。\n",
        "```\n",
        "# 出力結果\n",
        "(1, 2, 3, 7, 8, 9)\n",
        "```"
      ],
      "metadata": {
        "id": "SIMAqIC7waSJ"
      }
    },
    {
      "cell_type": "code",
      "source": [
        "a = (1, 2, 3)\n",
        "b=(7, 8, 9)\n",
        "print(a + b)"
      ],
      "metadata": {
        "id": "Tae-SbfVvfGh",
        "outputId": "4e8ea0c9-f378-4514-b39c-3434a3a0803f",
        "colab": {
          "base_uri": "https://localhost:8080/"
        }
      },
      "execution_count": 11,
      "outputs": [
        {
          "output_type": "stream",
          "name": "stdout",
          "text": [
            "(1, 2, 3, 7, 8, 9)\n"
          ]
        }
      ]
    },
    {
      "cell_type": "markdown",
      "source": [
        "---\n",
        "## Q: タプル\n",
        "`a = (1, 2, 3)`の2番目の要素を抜き出して以下の出力結果をしなさい\n",
        "```\n",
        "# 出力結果\n",
        "2\n",
        "```"
      ],
      "metadata": {
        "id": "arw1MbKsxPHq"
      }
    },
    {
      "cell_type": "code",
      "source": [
        "a = (1, 2, 3)\n",
        "print(a[1])"
      ],
      "metadata": {
        "id": "TliH0KlIwt_u",
        "outputId": "734c5fc0-c2bd-4b7b-b8ff-6623619fd026",
        "colab": {
          "base_uri": "https://localhost:8080/"
        }
      },
      "execution_count": 12,
      "outputs": [
        {
          "output_type": "stream",
          "name": "stdout",
          "text": [
            "2\n"
          ]
        }
      ]
    },
    {
      "cell_type": "markdown",
      "source": [
        "---\n",
        "## Q: タプル\n",
        "`b = ('Tokyo', 'Osaka', 'Nagoya')`の都市名のうち，文字数が最大のものを探し，その都市名を出力しなさい。\n",
        "```\n",
        "# 出力結果\n",
        "Nagoya\n",
        "```"
      ],
      "metadata": {
        "id": "Ahz93E94yGiV"
      }
    },
    {
      "cell_type": "code",
      "source": [
        "b = ('Tokyo', 'Osaka', 'Nagoya')\n",
        "max = 0\n",
        "\n",
        "for i in b:\n",
        "    if len(i) > max:\n",
        "        max = len(i)\n",
        "        city_name = i\n",
        "\n",
        "print(city_name)"
      ],
      "metadata": {
        "id": "PETlB15Nx135",
        "outputId": "81aec3c0-6a13-4fe4-b4c4-d7dcf5a62cf4",
        "colab": {
          "base_uri": "https://localhost:8080/"
        }
      },
      "execution_count": 20,
      "outputs": [
        {
          "output_type": "stream",
          "name": "stdout",
          "text": [
            "Nagoya\n"
          ]
        }
      ]
    },
    {
      "cell_type": "markdown",
      "source": [
        "---\n",
        "## Q: 辞書\n",
        "`c = {'a':1, 'b':2, 'c':3, 'd':4, 'e':5}`のキーと値をそれぞれ出力しなさい\n",
        "```\n",
        "# 出力結果\n",
        "['a', 'b', 'c', 'd', 'e']\n",
        "[1, 2, 3, 4, 5]\n",
        "```"
      ],
      "metadata": {
        "id": "h3aPJYaC0-5d"
      }
    },
    {
      "cell_type": "code",
      "source": [
        "c = {'a':1, 'b':2, 'c':3, 'd':4, 'e':5}\n",
        "print(list(c.keys()))\n",
        "print(list(c.values()))"
      ],
      "metadata": {
        "id": "uIzIxetoyoyZ",
        "outputId": "0c167f0f-bbec-41ad-8211-8c672ee28a4a",
        "colab": {
          "base_uri": "https://localhost:8080/"
        }
      },
      "execution_count": 23,
      "outputs": [
        {
          "output_type": "stream",
          "name": "stdout",
          "text": [
            "['a', 'b', 'c', 'd', 'e']\n",
            "[1, 2, 3, 4, 5]\n"
          ]
        }
      ]
    },
    {
      "cell_type": "markdown",
      "source": [
        "---\n",
        "## Q: 辞書\n",
        "`c = {'a':1, 'b':2, 'c':3, 'd':4, 'e':5}`のキーと値を組み合わせたタプルを要素としたリストを出力しなさい。\n",
        "```\n",
        "# 出力結果\n",
        "[('a', 1), ('b', 2), ('c', 3), ('d', 4), ('e', 5)]\n",
        "```"
      ],
      "metadata": {
        "id": "LlEgar682eT_"
      }
    },
    {
      "cell_type": "code",
      "source": [
        "c = {'a': 1, 'b': 2, 'c': 3, 'd': 4, 'e': 5}\n",
        "print(list(c.items()))"
      ],
      "metadata": {
        "id": "bJejwOYD12VC",
        "outputId": "232f0876-8209-4f30-e3fa-e2950c155d17",
        "colab": {
          "base_uri": "https://localhost:8080/"
        }
      },
      "execution_count": 24,
      "outputs": [
        {
          "output_type": "stream",
          "name": "stdout",
          "text": [
            "[('a', 1), ('b', 2), ('c', 3), ('d', 4), ('e', 5)]\n"
          ]
        }
      ]
    },
    {
      "cell_type": "markdown",
      "source": [
        "---\n",
        "## Q: 辞書\n",
        "`c = {'a': 1, 'b': 2, 'c': 3, 'd': 4, 'e': 5}`のキーが'd'の値を出力しなさい。\n",
        "```\n",
        "# 出力結果\n",
        "4\n",
        "```"
      ],
      "metadata": {
        "id": "XHaYl-UM3Eiz"
      }
    },
    {
      "cell_type": "code",
      "source": [
        "c = {'a': 1, 'b': 2, 'c': 3, 'd': 4, 'e': 5}\n",
        "print(c['d'])"
      ],
      "metadata": {
        "id": "Y7DruOK1232d",
        "outputId": "2899b212-1099-459b-e720-388e2309a0b0",
        "colab": {
          "base_uri": "https://localhost:8080/"
        }
      },
      "execution_count": 25,
      "outputs": [
        {
          "output_type": "stream",
          "name": "stdout",
          "text": [
            "4\n"
          ]
        }
      ]
    },
    {
      "cell_type": "markdown",
      "source": [
        "---\n",
        "## Q: 辞書\n",
        "`c = {'a': 1, 'b': 2, 'c': 3, 'd': 4, 'e': 5}`に新しい要素{'f': 6}を追加した結果を出力しなさい。\n",
        "```\n",
        "# 出力結果\n",
        "{'a': 1, 'b': 2, 'c': 3, 'd': 4, 'e': 5, 'f': 6}\n",
        "```"
      ],
      "metadata": {
        "id": "f46hjX2e4vOq"
      }
    },
    {
      "cell_type": "code",
      "source": [
        "c = {'a': 1, 'b': 2, 'c': 3, 'd': 4, 'e': 5}\n",
        "c['f'] = 6\n",
        "print(c)"
      ],
      "metadata": {
        "id": "1B5MEkOV4pgz",
        "outputId": "1b7c762b-99df-480e-b803-51d1e989e786",
        "colab": {
          "base_uri": "https://localhost:8080/"
        }
      },
      "execution_count": 26,
      "outputs": [
        {
          "output_type": "stream",
          "name": "stdout",
          "text": [
            "{'a': 1, 'b': 2, 'c': 3, 'd': 4, 'e': 5, 'f': 6}\n"
          ]
        }
      ]
    },
    {
      "cell_type": "markdown",
      "source": [
        "---\n",
        "## Q: 辞書\n",
        "`c = {'a': 1, 'b': 2, 'c': 3, 'd': 4, 'e': 5}`のキーを一つずつ取り出して出力しなさい。\n",
        "```\n",
        "# 出力結果\n",
        "a\n",
        "b\n",
        "c\n",
        "d\n",
        "e\n",
        "\n",
        "```"
      ],
      "metadata": {
        "id": "-jPRF16W6SsH"
      }
    },
    {
      "cell_type": "code",
      "source": [
        "c = {'a': 1, 'b': 2, 'c': 3, 'd': 4, 'e': 5}\n",
        "for ki in c.keys():\n",
        "    print(ki)"
      ],
      "metadata": {
        "id": "R46M_E3y5V1s",
        "outputId": "d461dbae-56e5-4d41-ec9b-88cd633e837e",
        "colab": {
          "base_uri": "https://localhost:8080/"
        }
      },
      "execution_count": 27,
      "outputs": [
        {
          "output_type": "stream",
          "name": "stdout",
          "text": [
            "a\n",
            "b\n",
            "c\n",
            "d\n",
            "e\n"
          ]
        }
      ]
    },
    {
      "cell_type": "markdown",
      "source": [
        "---\n",
        "## Q: 辞書\n",
        "c = {'a': 1, 'b': 2, 'c': 3, 'd': 4, 'e': 5}の値を一つずつ取り出して出力しなさい。 \n",
        "```\n",
        "# 出力結果\n",
        "1\n",
        "2\n",
        "3\n",
        "4\n",
        "5\n",
        "```"
      ],
      "metadata": {
        "id": "WT30taPGVmVD"
      }
    },
    {
      "cell_type": "code",
      "source": [
        "c = {'a': 1, 'b': 2, 'c': 3, 'd': 4, 'e': 5}\n",
        "for atai in c.values():\n",
        "    print(atai)"
      ],
      "metadata": {
        "id": "KZpRwB0UViKI",
        "outputId": "19ea16d8-74f2-4105-cba1-f5ef1768530e",
        "colab": {
          "base_uri": "https://localhost:8080/"
        }
      },
      "execution_count": 28,
      "outputs": [
        {
          "output_type": "stream",
          "name": "stdout",
          "text": [
            "1\n",
            "2\n",
            "3\n",
            "4\n",
            "5\n"
          ]
        }
      ]
    },
    {
      "cell_type": "code",
      "source": [],
      "metadata": {
        "id": "DtdlaTQMhXd6"
      },
      "execution_count": null,
      "outputs": []
    }
  ]
}