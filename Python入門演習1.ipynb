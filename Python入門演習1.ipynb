{
  "nbformat": 4,
  "nbformat_minor": 0,
  "metadata": {
    "colab": {
      "provenance": [],
      "collapsed_sections": [],
      "authorship_tag": "ABX9TyNkrxjDXvZlKu0DY1dzNEgr",
      "include_colab_link": true
    },
    "kernelspec": {
      "name": "python3",
      "display_name": "Python 3"
    },
    "language_info": {
      "name": "python"
    }
  },
  "cells": [
    {
      "cell_type": "markdown",
      "metadata": {
        "id": "view-in-github",
        "colab_type": "text"
      },
      "source": [
        "<a href=\"https://colab.research.google.com/github/YukiAoki-GU/Python_beginners/blob/main/Python%E5%85%A5%E9%96%80%E6%BC%94%E7%BF%921.ipynb\" target=\"_parent\"><img src=\"https://colab.research.google.com/assets/colab-badge.svg\" alt=\"Open In Colab\"/></a>"
      ]
    },
    {
      "cell_type": "markdown",
      "source": [
        "## Q: if文\n",
        "`a = [1, 2, 3, 4, 5]`のリストをforループで要素を抜き出して，3になったらループを終了する処理をして以下の出力結果になる様にしなさい。\n",
        "```\n",
        "# 出力結果：\n",
        "1\n",
        "2\n",
        "3になったので終了します\n",
        "```\n"
      ],
      "metadata": {
        "id": "eOKEQaTMpZ-_"
      }
    },
    {
      "cell_type": "code",
      "execution_count": null,
      "metadata": {
        "id": "5pGSNcMcOpUr"
      },
      "outputs": [],
      "source": [
        "a = [1, 2, 3, 4, 5]\n"
      ]
    },
    {
      "cell_type": "markdown",
      "source": [
        "---\n",
        "## Q: if文\n",
        "1から50までの数字を出力し，数字が2で割り切れるときは「偶数」，3で割り切れるときは「3の倍数」と出力し，2と3の両方で割り切れるときは「2と3の倍数」とする出力をしなさい。\n",
        "```\n",
        "# 出力結果：\n",
        "1\n",
        "偶数\n",
        "3の倍数\n",
        "偶数\n",
        "5\n",
        "2と3の倍数\n",
        "7\n",
        "偶数\n",
        "3の倍数\n",
        "偶数\n",
        "11\n",
        "2と3の倍数\n",
        "13\n",
        "偶数\n",
        "3の倍数\n",
        "偶数\n",
        "17\n",
        "2と3の倍数\n",
        "19\n",
        "偶数\n",
        "3の倍数\n",
        "偶数\n",
        "23\n",
        "2と3の倍数\n",
        "25\n",
        "偶数\n",
        "3の倍数\n",
        "偶数\n",
        "29\n",
        "2と3の倍数\n",
        "31\n",
        "偶数\n",
        "3の倍数\n",
        "偶数\n",
        "35\n",
        "2と3の倍数\n",
        "37\n",
        "偶数\n",
        "3の倍数\n",
        "偶数\n",
        "41\n",
        "2と3の倍数\n",
        "43\n",
        "偶数\n",
        "3の倍数\n",
        "偶数\n",
        "47\n",
        "2と3の倍数\n",
        "49\n",
        "偶数\n",
        "```"
      ],
      "metadata": {
        "id": "EjOXqG2hr6Gr"
      }
    },
    {
      "cell_type": "code",
      "source": [],
      "metadata": {
        "id": "_cWxkfH3sejk"
      },
      "execution_count": null,
      "outputs": []
    },
    {
      "cell_type": "markdown",
      "source": [
        "---\n",
        "## Q: while文\n",
        "変数にwhile文を使って，以下の出力を行いなさい。\n",
        "```\n",
        "# 出力結果\n",
        "1\n",
        "2\n",
        "3\n",
        "4\n",
        "5\n",
        "```"
      ],
      "metadata": {
        "id": "JVnOtTVAXMo5"
      }
    },
    {
      "cell_type": "code",
      "source": [],
      "metadata": {
        "id": "svXHlTC7XmBF"
      },
      "execution_count": null,
      "outputs": []
    },
    {
      "cell_type": "markdown",
      "source": [
        "---\n",
        "## Q: 内包表記\n",
        "`a = [1, 2, 3, 4, 5]`を内包表記を使って以下の出力を行いなさい。\n",
        "```\n",
        "# 出力結果\n",
        "[1, 2, 3, 4, 5]\n",
        "```"
      ],
      "metadata": {
        "id": "-AmyNlH1tjd7"
      }
    },
    {
      "cell_type": "code",
      "source": [
        "a = [1, 2, 3, 4, 5]\n"
      ],
      "metadata": {
        "id": "2D5jijeCtAmo"
      },
      "execution_count": null,
      "outputs": []
    },
    {
      "cell_type": "markdown",
      "source": [
        "---\n",
        "## Q: 内包表記\n",
        "内包表記を使って`a = [1, 2, 3, 4, 5]`のうち偶数のみを出力しなさい。\n",
        "```\n",
        "# 出力結果\n",
        "[2, 4]\n",
        "```"
      ],
      "metadata": {
        "id": "rmbQHSsNu8OE"
      }
    },
    {
      "cell_type": "code",
      "source": [
        "a = [1, 2, 3, 4, 5]\n"
      ],
      "metadata": {
        "id": "fuewTRuduxnE"
      },
      "execution_count": null,
      "outputs": []
    },
    {
      "cell_type": "markdown",
      "source": [
        "---\n",
        "## Q: タプル\n",
        "`a = (1, 2, 3)`と`b=(7, 8, 9)`を結合して，以下の出力をしなさい。\n",
        "```\n",
        "# 出力結果\n",
        "(1, 2, 3, 7, 8, 9)\n",
        "```"
      ],
      "metadata": {
        "id": "SIMAqIC7waSJ"
      }
    },
    {
      "cell_type": "code",
      "source": [
        "a = (1, 2, 3)\n",
        "b=(7, 8, 9)\n"
      ],
      "metadata": {
        "id": "Tae-SbfVvfGh"
      },
      "execution_count": null,
      "outputs": []
    },
    {
      "cell_type": "markdown",
      "source": [
        "---\n",
        "## Q: タプル\n",
        "`a = (1, 2, 3)`の2番目の要素を抜き出して以下の出力結果をしなさい\n",
        "```\n",
        "# 出力結果\n",
        "2\n",
        "```"
      ],
      "metadata": {
        "id": "arw1MbKsxPHq"
      }
    },
    {
      "cell_type": "code",
      "source": [
        "a = (1, 2, 3)\n"
      ],
      "metadata": {
        "id": "TliH0KlIwt_u"
      },
      "execution_count": null,
      "outputs": []
    },
    {
      "cell_type": "markdown",
      "source": [
        "---\n",
        "## Q: タプル\n",
        "`b = ('Tokyo', 'tokyo', 'Osaka', 'osaka', 'Nagoya', 'nagoya')`の都市名のうち，文字数が最大のものを探し，その都市名を出力しなさい。\n",
        "```\n",
        "# 出力結果\n",
        "Nagoya\n",
        "```"
      ],
      "metadata": {
        "id": "Ahz93E94yGiV"
      }
    },
    {
      "cell_type": "code",
      "source": [
        "b = ('Tokyo', 'Osaka', 'Nagoya')\n"
      ],
      "metadata": {
        "id": "PETlB15Nx135"
      },
      "execution_count": null,
      "outputs": []
    },
    {
      "cell_type": "markdown",
      "source": [
        "---\n",
        "## Q: 辞書\n",
        "`c = {'a':1, 'b':2, 'c':3, 'd':4, 'e':5}`のキーと値をそれぞれ出力しなさい\n",
        "```\n",
        "# 出力結果\n",
        "['a', 'b', 'c', 'd', 'e']\n",
        "[1, 2, 3, 4, 5]\n",
        "```"
      ],
      "metadata": {
        "id": "h3aPJYaC0-5d"
      }
    },
    {
      "cell_type": "code",
      "source": [
        "c = {'a':1, 'b':2, 'c':3, 'd':4, 'e':5}\n"
      ],
      "metadata": {
        "id": "uIzIxetoyoyZ"
      },
      "execution_count": null,
      "outputs": []
    },
    {
      "cell_type": "markdown",
      "source": [
        "---\n",
        "## Q: 辞書\n",
        "`c = {'a':1, 'b':2, 'c':3, 'd':4, 'e':5}`のキーと値を組み合わせたタプルを要素としたリストを出力しなさい。\n",
        "```\n",
        "# 出力結果\n",
        "[('a', 1), ('b', 2), ('c', 3), ('d', 4), ('e', 5)]\n",
        "```"
      ],
      "metadata": {
        "id": "LlEgar682eT_"
      }
    },
    {
      "cell_type": "code",
      "source": [
        "c = {'a': 1, 'b': 2, 'c': 3, 'd': 4, 'e': 5}\n"
      ],
      "metadata": {
        "id": "bJejwOYD12VC"
      },
      "execution_count": null,
      "outputs": []
    },
    {
      "cell_type": "markdown",
      "source": [
        "---\n",
        "## Q: 辞書\n",
        "`c = {'a': 1, 'b': 2, 'c': 3, 'd': 4, 'e': 5}`のキーが'd'の値を出力しなさい。\n",
        "```\n",
        "# 出力結果\n",
        "4\n",
        "```"
      ],
      "metadata": {
        "id": "XHaYl-UM3Eiz"
      }
    },
    {
      "cell_type": "code",
      "source": [
        "c = {'a': 1, 'b': 2, 'c': 3, 'd': 4, 'e': 5}\n"
      ],
      "metadata": {
        "id": "Y7DruOK1232d"
      },
      "execution_count": null,
      "outputs": []
    },
    {
      "cell_type": "markdown",
      "source": [
        "---\n",
        "## Q: 辞書\n",
        "`c = {'a': 1, 'b': 2, 'c': 3, 'd': 4, 'e': 5}`に新しい要素{'f': 6}を追加した結果を出力しなさい。\n",
        "```\n",
        "# 出力結果\n",
        "{'a': 1, 'b': 2, 'c': 3, 'd': 4, 'e': 5, 'f': 6}\n",
        "```"
      ],
      "metadata": {
        "id": "f46hjX2e4vOq"
      }
    },
    {
      "cell_type": "code",
      "source": [
        "c = {'a': 1, 'b': 2, 'c': 3, 'd': 4, 'e': 5}\n"
      ],
      "metadata": {
        "id": "1B5MEkOV4pgz"
      },
      "execution_count": null,
      "outputs": []
    },
    {
      "cell_type": "markdown",
      "source": [
        "---\n",
        "## Q: 辞書\n",
        "`c = {'a': 1, 'b': 2, 'c': 3, 'd': 4, 'e': 5}`のキーを一つずつ取り出して出力しなさい。\n",
        "```\n",
        "# 出力結果\n",
        "a\n",
        "b\n",
        "c\n",
        "d\n",
        "e\n",
        "\n",
        "```"
      ],
      "metadata": {
        "id": "-jPRF16W6SsH"
      }
    },
    {
      "cell_type": "code",
      "source": [
        "c = {'a': 1, 'b': 2, 'c': 3, 'd': 4, 'e': 5}\n"
      ],
      "metadata": {
        "id": "R46M_E3y5V1s"
      },
      "execution_count": null,
      "outputs": []
    },
    {
      "cell_type": "markdown",
      "source": [
        "---\n",
        "## Q: 辞書\n",
        "c = {'a': 1, 'b': 2, 'c': 3, 'd': 4, 'e': 5}の値を一つずつ取り出して出力しなさい。 \n",
        "```\n",
        "# 出力結果\n",
        "1\n",
        "2\n",
        "3\n",
        "4\n",
        "5\n",
        "```"
      ],
      "metadata": {
        "id": "WT30taPGVmVD"
      }
    },
    {
      "cell_type": "code",
      "source": [
        "c = {'a': 1, 'b': 2, 'c': 3, 'd': 4, 'e': 5}\n"
      ],
      "metadata": {
        "id": "KZpRwB0UViKI"
      },
      "execution_count": null,
      "outputs": []
    }
  ]
}