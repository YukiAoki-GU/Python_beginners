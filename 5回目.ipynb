{
  "cells": [
    {
      "cell_type": "markdown",
      "metadata": {
        "lc_cell_meme": {
          "current": "e89d61c9-8400-11ee-af7a-8bd03f0dde81",
          "next": "e89d690e-8400-11ee-8b4f-8bd03f0dde81",
          "previous": null
        },
        "id": "syVl7OAYC4DF"
      },
      "source": [
        "# 前回の演習問題の解説\n",
        "前回の演習問題の解説は[こちら](https://www.youtube.com/watch?v=nLXRZhi8IoU)から"
      ]
    },
    {
      "cell_type": "markdown",
      "metadata": {
        "lc_cell_meme": {
          "current": "67c9fdf7-34d1-11ee-a6a1-15cb203a04b1-4-af6b-89ea-ee89-e7f4",
          "history": [
            {
              "current": "67c9fdf7-34d1-11ee-a6a1-15cb203a04b1-1-af6b",
              "next": "67ca0025-34d1-11ee-a670-15cb203a04b1",
              "previous": null
            },
            {
              "current": "67c9fdf7-34d1-11ee-a6a1-15cb203a04b1-2-af6b-89ea",
              "next": "67ca0025-34d1-11ee-a670-15cb203a04b1-1-5456",
              "previous": null
            },
            {
              "current": "67c9fdf7-34d1-11ee-a6a1-15cb203a04b1-3-af6b-89ea-ee89",
              "next": "67ca0025-34d1-11ee-a670-15cb203a04b1-2-5456-094d",
              "previous": null
            },
            {
              "current": "67c9fdf7-34d1-11ee-a6a1-15cb203a04b1-4-af6b-89ea-ee89-e7f4",
              "next": "67ca0025-34d1-11ee-a670-15cb203a04b1-3-5456-094d-36d9",
              "previous": null
            }
          ],
          "next": "67ca0025-34d1-11ee-a670-15cb203a04b1-4-5456-094d-36d9-22a5",
          "previous": "e89d690e-8400-11ee-8b4f-8bd03f0dde81"
        },
        "id": "W9J6hnfqC4DH"
      },
      "source": [
        "# はじめに\n",
        "以下のコードは10秒に一回、自動保存するコードです。\n",
        "\n",
        "はじめに実行してください。"
      ]
    },
    {
      "cell_type": "code",
      "execution_count": null,
      "metadata": {
        "lc_cell_meme": {
          "current": "67ca0025-34d1-11ee-a670-15cb203a04b1-4-5456-094d-36d9-22a5",
          "history": [
            {
              "current": "67ca0025-34d1-11ee-a670-15cb203a04b1-1-5456",
              "next": "2c5e8d3b-34c2-11ee-906a-15cb203a04b1",
              "previous": "67c9fdf7-34d1-11ee-a6a1-15cb203a04b1"
            },
            {
              "current": "67ca0025-34d1-11ee-a670-15cb203a04b1-2-5456-094d",
              "next": "2c5e8d3b-34c2-11ee-906a-15cb203a04b1-1-b2a0",
              "previous": "67c9fdf7-34d1-11ee-a6a1-15cb203a04b1-1-af6b"
            },
            {
              "current": "67ca0025-34d1-11ee-a670-15cb203a04b1-3-5456-094d-36d9",
              "next": "2c5e8d3b-34c2-11ee-906a-15cb203a04b1-2-b2a0-9825",
              "previous": "67c9fdf7-34d1-11ee-a6a1-15cb203a04b1-2-af6b-89ea"
            },
            {
              "current": "67ca0025-34d1-11ee-a670-15cb203a04b1-4-5456-094d-36d9-22a5",
              "next": "2c5e8d3b-34c2-11ee-906a-15cb203a04b1-3-b2a0-9825-996a",
              "previous": "67c9fdf7-34d1-11ee-a6a1-15cb203a04b1-3-af6b-89ea-ee89"
            }
          ],
          "next": "2c5e8d3b-34c2-11ee-906a-15cb203a04b1-4-b2a0-9825-996a-db93",
          "previous": "67c9fdf7-34d1-11ee-a6a1-15cb203a04b1-4-af6b-89ea-ee89-e7f4"
        },
        "id": "mC1OQ2d1C4DI"
      },
      "outputs": [],
      "source": [
        "%autosave 10"
      ]
    },
    {
      "cell_type": "markdown",
      "metadata": {
        "id": "yS_zzOHXiyQ3",
        "lc_cell_meme": {
          "current": "2c5e8d3b-34c2-11ee-906a-15cb203a04b1-4-b2a0-9825-996a-db93",
          "history": [
            {
              "current": "2c5e8d3b-34c2-11ee-906a-15cb203a04b1",
              "next": "2c5e8e4b-34c2-11ee-a2b2-15cb203a04b1",
              "previous": null
            },
            {
              "current": "2c5e8d3b-34c2-11ee-906a-15cb203a04b1-1-b2a0",
              "next": "2c5e8e4b-34c2-11ee-a2b2-15cb203a04b1",
              "previous": "67ca0025-34d1-11ee-a670-15cb203a04b1"
            },
            {
              "current": "2c5e8d3b-34c2-11ee-906a-15cb203a04b1-2-b2a0-9825",
              "next": "2c5e8e4b-34c2-11ee-a2b2-15cb203a04b1-1-e30a",
              "previous": "67ca0025-34d1-11ee-a670-15cb203a04b1-1-5456"
            },
            {
              "current": "2c5e8d3b-34c2-11ee-906a-15cb203a04b1-3-b2a0-9825-996a",
              "next": "2c5e8e4b-34c2-11ee-a2b2-15cb203a04b1-2-e30a-47f2",
              "previous": "67ca0025-34d1-11ee-a670-15cb203a04b1-2-5456-094d"
            },
            {
              "current": "2c5e8d3b-34c2-11ee-906a-15cb203a04b1-4-b2a0-9825-996a-db93",
              "next": "2c5e8e4b-34c2-11ee-a2b2-15cb203a04b1-3-e30a-47f2-593c",
              "previous": "67ca0025-34d1-11ee-a670-15cb203a04b1-3-5456-094d-36d9"
            }
          ],
          "next": "2c5e8e4b-34c2-11ee-a2b2-15cb203a04b1-4-e30a-47f2-593c-810c",
          "previous": "67ca0025-34d1-11ee-a670-15cb203a04b1-4-5456-094d-36d9-22a5"
        }
      },
      "source": [
        "# 関数"
      ]
    },
    {
      "cell_type": "markdown",
      "metadata": {
        "id": "HEP8Lv9nIoTX",
        "lc_cell_meme": {
          "current": "2c5e8e4b-34c2-11ee-a2b2-15cb203a04b1-4-e30a-47f2-593c-810c",
          "history": [
            {
              "current": "2c5e8e4b-34c2-11ee-a2b2-15cb203a04b1-1-e30a",
              "next": "2c5e8f18-34c2-11ee-ad51-15cb203a04b1",
              "previous": "2c5e8d3b-34c2-11ee-906a-15cb203a04b1"
            },
            {
              "current": "2c5e8e4b-34c2-11ee-a2b2-15cb203a04b1-2-e30a-47f2",
              "next": "2c5e8f18-34c2-11ee-ad51-15cb203a04b1-1-8396",
              "previous": "2c5e8d3b-34c2-11ee-906a-15cb203a04b1-1-b2a0"
            },
            {
              "current": "2c5e8e4b-34c2-11ee-a2b2-15cb203a04b1-3-e30a-47f2-593c",
              "next": "813f8702-37e5-11ee-beb6-7183cdcd32de",
              "previous": "2c5e8d3b-34c2-11ee-906a-15cb203a04b1-2-b2a0-9825"
            },
            {
              "current": "2c5e8e4b-34c2-11ee-a2b2-15cb203a04b1-3-e30a-47f2-593c",
              "next": "813f8702-37e5-11ee-beb6-7183cdcd32de-1-ab7c",
              "previous": "2c5e8d3b-34c2-11ee-906a-15cb203a04b1-3-b2a0-9825-996a"
            },
            {
              "current": "2c5e8e4b-34c2-11ee-a2b2-15cb203a04b1-4-e30a-47f2-593c-810c",
              "next": "813f8f17-37e5-11ee-a58b-7183cdcd32de-1-58cd",
              "previous": "2c5e8d3b-34c2-11ee-906a-15cb203a04b1-3-b2a0-9825-996a"
            }
          ],
          "next": "813f8f17-37e5-11ee-a58b-7183cdcd32de-2-58cd-25a2",
          "previous": "2c5e8d3b-34c2-11ee-906a-15cb203a04b1-4-b2a0-9825-996a-db93"
        }
      },
      "source": [
        "## 関数とは\n",
        "[こちら](https://www.youtube.com/watch?v=OPFJZDawwX0)の動画を見ながら進めてください。"
      ]
    },
    {
      "cell_type": "markdown",
      "metadata": {
        "lc_cell_meme": {
          "current": "813f8f17-37e5-11ee-a58b-7183cdcd32de-2-58cd-25a2",
          "history": [
            {
              "current": "813f8f17-37e5-11ee-a58b-7183cdcd32de-1-58cd",
              "next": "2c5e8f18-34c2-11ee-ad51-15cb203a04b1-2-8396-5f03",
              "previous": "813f8702-37e5-11ee-beb6-7183cdcd32de"
            },
            {
              "current": "813f8f17-37e5-11ee-a58b-7183cdcd32de-1-58cd",
              "next": "2c5e8f18-34c2-11ee-ad51-15cb203a04b1-3-8396-5f03-6130",
              "previous": "813f8702-37e5-11ee-beb6-7183cdcd32de-1-ab7c"
            },
            {
              "current": "813f8f17-37e5-11ee-a58b-7183cdcd32de-2-58cd-25a2",
              "next": "2c5e8f18-34c2-11ee-ad51-15cb203a04b1-3-8396-5f03-6130",
              "previous": "2c5e8e4b-34c2-11ee-a2b2-15cb203a04b1-3-e30a-47f2-593c"
            }
          ],
          "next": "2c5e8f18-34c2-11ee-ad51-15cb203a04b1-4-8396-5f03-6130-1fc3",
          "previous": "2c5e8e4b-34c2-11ee-a2b2-15cb203a04b1-4-e30a-47f2-593c-810c"
        },
        "id": "ZV2pxdDeC4DI"
      },
      "source": [
        "`input()`，`print()`等の組み込み関数をこれまでに使ってきました。\n",
        "\n",
        "\n",
        "新しい関数として，絶対値を求める`abs()`関数を考えます。\n",
        "```python\n",
        "print(abs(-3))\n",
        "print(abs(-2.5))\n",
        "```"
      ]
    },
    {
      "cell_type": "code",
      "execution_count": null,
      "metadata": {
        "id": "4uueh4jqkU0H",
        "lc_cell_meme": {
          "current": "2c5e8f18-34c2-11ee-ad51-15cb203a04b1-4-8396-5f03-6130-1fc3",
          "history": [
            {
              "current": "2c5e8f18-34c2-11ee-ad51-15cb203a04b1-1-8396",
              "next": "2c5e8fc8-34c2-11ee-81b2-15cb203a04b1",
              "previous": "2c5e8e4b-34c2-11ee-a2b2-15cb203a04b1"
            },
            {
              "current": "2c5e8f18-34c2-11ee-ad51-15cb203a04b1-2-8396-5f03",
              "next": "2c5e8fc8-34c2-11ee-81b2-15cb203a04b1-1-aa83",
              "previous": "2c5e8e4b-34c2-11ee-a2b2-15cb203a04b1-1-e30a"
            },
            {
              "current": "2c5e8f18-34c2-11ee-ad51-15cb203a04b1-3-8396-5f03-6130",
              "next": "2c5e8fc8-34c2-11ee-81b2-15cb203a04b1-2-aa83-1e18",
              "previous": "813f8f17-37e5-11ee-a58b-7183cdcd32de"
            },
            {
              "current": "2c5e8f18-34c2-11ee-ad51-15cb203a04b1-4-8396-5f03-6130-1fc3",
              "next": "2c5e8fc8-34c2-11ee-81b2-15cb203a04b1-3-aa83-1e18-0f79",
              "previous": "813f8f17-37e5-11ee-a58b-7183cdcd32de-1-58cd"
            }
          ],
          "next": "2c5e8fc8-34c2-11ee-81b2-15cb203a04b1-4-aa83-1e18-0f79-2d2e",
          "previous": "813f8f17-37e5-11ee-a58b-7183cdcd32de-2-58cd-25a2"
        }
      },
      "outputs": [],
      "source": []
    },
    {
      "cell_type": "markdown",
      "metadata": {
        "id": "AgI05_EMkXfS",
        "lc_cell_meme": {
          "current": "2c5e8fc8-34c2-11ee-81b2-15cb203a04b1-4-aa83-1e18-0f79-2d2e",
          "history": [
            {
              "current": "2c5e8fc8-34c2-11ee-81b2-15cb203a04b1-1-aa83",
              "next": "2c5e907b-34c2-11ee-bb09-15cb203a04b1",
              "previous": "2c5e8f18-34c2-11ee-ad51-15cb203a04b1"
            },
            {
              "current": "2c5e8fc8-34c2-11ee-81b2-15cb203a04b1-2-aa83-1e18",
              "next": "2c5e907b-34c2-11ee-bb09-15cb203a04b1-1-9740",
              "previous": "2c5e8f18-34c2-11ee-ad51-15cb203a04b1-1-8396"
            },
            {
              "current": "2c5e8fc8-34c2-11ee-81b2-15cb203a04b1-3-aa83-1e18-0f79",
              "next": "2c5e907b-34c2-11ee-bb09-15cb203a04b1-2-9740-5899",
              "previous": "2c5e8f18-34c2-11ee-ad51-15cb203a04b1-2-8396-5f03"
            },
            {
              "current": "2c5e8fc8-34c2-11ee-81b2-15cb203a04b1-4-aa83-1e18-0f79-2d2e",
              "next": "2c5e907b-34c2-11ee-bb09-15cb203a04b1-3-9740-5899-c343",
              "previous": "2c5e8f18-34c2-11ee-ad51-15cb203a04b1-3-8396-5f03-6130"
            }
          ],
          "next": "2c5e907b-34c2-11ee-bb09-15cb203a04b1-4-9740-5899-c343-28ac",
          "previous": "2c5e8f18-34c2-11ee-ad51-15cb203a04b1-4-8396-5f03-6130-1fc3"
        }
      },
      "source": [
        "`input()`や`print()`といった入出力関数を自分で作成することは難しいのですが、`abs()`関数と同等の機能は自分で作成することができます。"
      ]
    },
    {
      "cell_type": "markdown",
      "metadata": {
        "id": "RDZAktWBvICs",
        "lc_cell_meme": {
          "current": "2c5e907b-34c2-11ee-bb09-15cb203a04b1-4-9740-5899-c343-28ac",
          "history": [
            {
              "current": "2c5e907b-34c2-11ee-bb09-15cb203a04b1-1-9740",
              "next": "2c5e912a-34c2-11ee-99c0-15cb203a04b1",
              "previous": "2c5e8fc8-34c2-11ee-81b2-15cb203a04b1"
            },
            {
              "current": "2c5e907b-34c2-11ee-bb09-15cb203a04b1-2-9740-5899",
              "next": "2c5e912a-34c2-11ee-99c0-15cb203a04b1-1-a42b",
              "previous": "2c5e8fc8-34c2-11ee-81b2-15cb203a04b1-1-aa83"
            },
            {
              "current": "2c5e907b-34c2-11ee-bb09-15cb203a04b1-3-9740-5899-c343",
              "next": "2c5e912a-34c2-11ee-99c0-15cb203a04b1-2-a42b-0580",
              "previous": "2c5e8fc8-34c2-11ee-81b2-15cb203a04b1-2-aa83-1e18"
            },
            {
              "current": "2c5e907b-34c2-11ee-bb09-15cb203a04b1-4-9740-5899-c343-28ac",
              "next": "2c5e912a-34c2-11ee-99c0-15cb203a04b1-3-a42b-0580-9dd7",
              "previous": "2c5e8fc8-34c2-11ee-81b2-15cb203a04b1-3-aa83-1e18-0f79"
            }
          ],
          "next": "2c5e912a-34c2-11ee-99c0-15cb203a04b1-4-a42b-0580-9dd7-ea3d",
          "previous": "2c5e8fc8-34c2-11ee-81b2-15cb203a04b1-4-aa83-1e18-0f79-2d2e"
        }
      },
      "source": [
        "Q: 入力された値の絶対値を，`if`文を使って作りなさい。"
      ]
    },
    {
      "cell_type": "code",
      "execution_count": null,
      "metadata": {
        "id": "bXyKeestvYbM",
        "lc_cell_meme": {
          "current": "2c5e912a-34c2-11ee-99c0-15cb203a04b1-4-a42b-0580-9dd7-ea3d",
          "history": [
            {
              "current": "2c5e912a-34c2-11ee-99c0-15cb203a04b1",
              "next": "2c5e91ca-34c2-11ee-b7ae-15cb203a04b1",
              "previous": "2c5e907b-34c2-11ee-bb09-15cb203a04b1"
            },
            {
              "current": "2c5e912a-34c2-11ee-99c0-15cb203a04b1-1-a42b",
              "next": "33e92bd1-34e9-11ee-8d08-15cb203a04b1",
              "previous": "2c5e907b-34c2-11ee-bb09-15cb203a04b1"
            },
            {
              "current": "2c5e912a-34c2-11ee-99c0-15cb203a04b1-2-a42b-0580",
              "next": "33e92bd1-34e9-11ee-8d08-15cb203a04b1-1-ec7e",
              "previous": "2c5e907b-34c2-11ee-bb09-15cb203a04b1-1-9740"
            },
            {
              "current": "2c5e912a-34c2-11ee-99c0-15cb203a04b1-3-a42b-0580-9dd7",
              "next": "33e92bd1-34e9-11ee-8d08-15cb203a04b1-2-ec7e-9306",
              "previous": "2c5e907b-34c2-11ee-bb09-15cb203a04b1-2-9740-5899"
            },
            {
              "current": "2c5e912a-34c2-11ee-99c0-15cb203a04b1-4-a42b-0580-9dd7-ea3d",
              "next": "33e92bd1-34e9-11ee-8d08-15cb203a04b1-3-ec7e-9306-2652",
              "previous": "2c5e907b-34c2-11ee-bb09-15cb203a04b1-3-9740-5899-c343"
            }
          ],
          "next": "33e92bd1-34e9-11ee-8d08-15cb203a04b1-4-ec7e-9306-2652-fc5d",
          "previous": "2c5e907b-34c2-11ee-bb09-15cb203a04b1-4-9740-5899-c343-28ac"
        }
      },
      "outputs": [],
      "source": [
        "#例1:\n",
        "n = input('数値を入力してください')\n"
      ]
    },
    {
      "cell_type": "markdown",
      "metadata": {
        "lc_cell_meme": {
          "current": "33e92bd1-34e9-11ee-8d08-15cb203a04b1-4-ec7e-9306-2652-fc5d",
          "history": [
            {
              "current": "33e92bd1-34e9-11ee-8d08-15cb203a04b1-1-ec7e",
              "next": "2c5e91ca-34c2-11ee-b7ae-15cb203a04b1",
              "previous": "2c5e912a-34c2-11ee-99c0-15cb203a04b1"
            },
            {
              "current": "33e92bd1-34e9-11ee-8d08-15cb203a04b1-2-ec7e-9306",
              "next": "2c5e91ca-34c2-11ee-b7ae-15cb203a04b1-1-021e",
              "previous": "2c5e912a-34c2-11ee-99c0-15cb203a04b1-1-a42b"
            },
            {
              "current": "33e92bd1-34e9-11ee-8d08-15cb203a04b1-3-ec7e-9306-2652",
              "next": "2c5e91ca-34c2-11ee-b7ae-15cb203a04b1-2-021e-5962",
              "previous": "2c5e912a-34c2-11ee-99c0-15cb203a04b1-2-a42b-0580"
            },
            {
              "current": "33e92bd1-34e9-11ee-8d08-15cb203a04b1-4-ec7e-9306-2652-fc5d",
              "next": "2c5e91ca-34c2-11ee-b7ae-15cb203a04b1-3-021e-5962-38bd",
              "previous": "2c5e912a-34c2-11ee-99c0-15cb203a04b1-3-a42b-0580-9dd7"
            }
          ],
          "next": "2c5e91ca-34c2-11ee-b7ae-15cb203a04b1-4-021e-5962-38bd-e8c8",
          "previous": "2c5e912a-34c2-11ee-99c0-15cb203a04b1-4-a42b-0580-9dd7-ea3d"
        },
        "id": "FrKFFWMqC4DI"
      },
      "source": [
        "```python\n",
        "#例2:三項演算子を使った方法\n",
        "n = input('数値を入力してください')\n",
        "n = float(n)\n",
        "\n",
        "n = n if n >= 0 else -n\n",
        "\n",
        "print(n)\n",
        "```"
      ]
    },
    {
      "cell_type": "code",
      "execution_count": null,
      "metadata": {
        "id": "BEscJbY4keTZ",
        "lc_cell_meme": {
          "current": "2c5e91ca-34c2-11ee-b7ae-15cb203a04b1-4-021e-5962-38bd-e8c8",
          "history": [
            {
              "current": "2c5e91ca-34c2-11ee-b7ae-15cb203a04b1",
              "next": "2c5e9267-34c2-11ee-981e-15cb203a04b1",
              "previous": "2c5e912a-34c2-11ee-99c0-15cb203a04b1"
            },
            {
              "current": "2c5e91ca-34c2-11ee-b7ae-15cb203a04b1-1-021e",
              "next": "2c5e9267-34c2-11ee-981e-15cb203a04b1",
              "previous": "33e92bd1-34e9-11ee-8d08-15cb203a04b1"
            },
            {
              "current": "2c5e91ca-34c2-11ee-b7ae-15cb203a04b1-2-021e-5962",
              "next": "2c5e9267-34c2-11ee-981e-15cb203a04b1-1-c2aa",
              "previous": "33e92bd1-34e9-11ee-8d08-15cb203a04b1-1-ec7e"
            },
            {
              "current": "2c5e91ca-34c2-11ee-b7ae-15cb203a04b1-3-021e-5962-38bd",
              "next": "2c5e9267-34c2-11ee-981e-15cb203a04b1-2-c2aa-2f64",
              "previous": "33e92bd1-34e9-11ee-8d08-15cb203a04b1-2-ec7e-9306"
            },
            {
              "current": "2c5e91ca-34c2-11ee-b7ae-15cb203a04b1-4-021e-5962-38bd-e8c8",
              "next": "2c5e9267-34c2-11ee-981e-15cb203a04b1-3-c2aa-2f64-0daf",
              "previous": "33e92bd1-34e9-11ee-8d08-15cb203a04b1-3-ec7e-9306-2652"
            }
          ],
          "next": "2c5e9267-34c2-11ee-981e-15cb203a04b1-4-c2aa-2f64-0daf-626e",
          "previous": "33e92bd1-34e9-11ee-8d08-15cb203a04b1-4-ec7e-9306-2652-fc5d"
        }
      },
      "outputs": [],
      "source": [
        "#例2:三項演算子を使った方法\n",
        "n = input('数値を入力してください')\n"
      ]
    },
    {
      "cell_type": "markdown",
      "metadata": {
        "id": "EOM7urCFlTVJ",
        "lc_cell_meme": {
          "current": "2c5e9267-34c2-11ee-981e-15cb203a04b1-4-c2aa-2f64-0daf-626e",
          "history": [
            {
              "current": "2c5e9267-34c2-11ee-981e-15cb203a04b1-1-c2aa",
              "next": "2c5e9307-34c2-11ee-81b8-15cb203a04b1",
              "previous": "2c5e91ca-34c2-11ee-b7ae-15cb203a04b1"
            },
            {
              "current": "2c5e9267-34c2-11ee-981e-15cb203a04b1-2-c2aa-2f64",
              "next": "2c5e9307-34c2-11ee-81b8-15cb203a04b1-1-3a79",
              "previous": "2c5e91ca-34c2-11ee-b7ae-15cb203a04b1-1-021e"
            },
            {
              "current": "2c5e9267-34c2-11ee-981e-15cb203a04b1-2-c2aa-2f64",
              "next": "2c5e9307-34c2-11ee-81b8-15cb203a04b1-2-3a79-bf90",
              "previous": "2c5e91ca-34c2-11ee-b7ae-15cb203a04b1-2-021e-5962"
            },
            {
              "current": "2c5e9267-34c2-11ee-981e-15cb203a04b1-3-c2aa-2f64-0daf",
              "next": "c8c1f571-37e5-11ee-ae8c-7183cdcd32de",
              "previous": "2c5e91ca-34c2-11ee-b7ae-15cb203a04b1-2-021e-5962"
            },
            {
              "current": "2c5e9267-34c2-11ee-981e-15cb203a04b1-3-c2aa-2f64-0daf",
              "next": "c8c1f571-37e5-11ee-ae8c-7183cdcd32de-1-4b04",
              "previous": "2c5e91ca-34c2-11ee-b7ae-15cb203a04b1-3-021e-5962-38bd"
            },
            {
              "current": "2c5e9267-34c2-11ee-981e-15cb203a04b1-4-c2aa-2f64-0daf-626e",
              "next": "c8c1f81e-37e5-11ee-bd7c-7183cdcd32de-1-0812",
              "previous": "2c5e91ca-34c2-11ee-b7ae-15cb203a04b1-3-021e-5962-38bd"
            }
          ],
          "next": "c8c1f81e-37e5-11ee-bd7c-7183cdcd32de-2-0812-7171",
          "previous": "2c5e91ca-34c2-11ee-b7ae-15cb203a04b1-4-021e-5962-38bd-e8c8"
        }
      },
      "source": [
        "## 関数の定義\n",
        "[こちら](https://www.youtube.com/watch?v=gjp1GtOicxc)の動画を見ながら進めてください。"
      ]
    },
    {
      "cell_type": "markdown",
      "metadata": {
        "lc_cell_meme": {
          "current": "c8c1f81e-37e5-11ee-bd7c-7183cdcd32de-2-0812-7171",
          "execution_end_time": "2023-08-11T01:22:50.162817Z",
          "history": [
            {
              "current": "c8c1f81e-37e5-11ee-bd7c-7183cdcd32de-1-0812",
              "next": "2c5e9307-34c2-11ee-81b8-15cb203a04b1-2-3a79-bf90",
              "previous": "c8c1f571-37e5-11ee-ae8c-7183cdcd32de"
            },
            {
              "current": "c8c1f81e-37e5-11ee-bd7c-7183cdcd32de-1-0812",
              "next": "2c5e9307-34c2-11ee-81b8-15cb203a04b1-3-3a79-bf90-9370",
              "previous": "c8c1f571-37e5-11ee-ae8c-7183cdcd32de-1-4b04"
            },
            {
              "current": "c8c1f81e-37e5-11ee-bd7c-7183cdcd32de-2-0812-7171",
              "next": "2c5e9307-34c2-11ee-81b8-15cb203a04b1-3-3a79-bf90-9370",
              "previous": "2c5e9267-34c2-11ee-981e-15cb203a04b1-3-c2aa-2f64-0daf"
            }
          ],
          "next": "2c5e9307-34c2-11ee-81b8-15cb203a04b1-4-3a79-bf90-9370-63ee",
          "previous": "2c5e9267-34c2-11ee-981e-15cb203a04b1-4-c2aa-2f64-0daf-626e"
        },
        "lc_wrapper": {
          "log_history": [
            "/home/yaokix7971a7/Python入門テキスト(動画付き)/.log/20230811/20230811-102250-0148.log"
          ]
        },
        "id": "6O-7IAFzC4DI"
      },
      "source": [
        "絶対値を出力する`my_abs()`関数を自分で作ってみましょう。\n",
        "\n",
        "関数を作成する(定義する)には以下のように記述します。\n",
        "\n",
        "````Python\n",
        "def function(arg1, arg2, ...):\n",
        "    実行文1\n",
        "    実行文2\n",
        "    ....\n",
        "    return 戻り値\n",
        "````"
      ]
    },
    {
      "cell_type": "markdown",
      "metadata": {
        "id": "UhUWho-E0Jqq",
        "lc_cell_meme": {
          "current": "2c5e9307-34c2-11ee-81b8-15cb203a04b1-4-3a79-bf90-9370-63ee",
          "history": [
            {
              "current": "2c5e9307-34c2-11ee-81b8-15cb203a04b1-1-3a79",
              "next": "2c5e93aa-34c2-11ee-a3aa-15cb203a04b1",
              "previous": "2c5e9267-34c2-11ee-981e-15cb203a04b1"
            },
            {
              "current": "2c5e9307-34c2-11ee-81b8-15cb203a04b1-2-3a79-bf90",
              "next": "2c5e93aa-34c2-11ee-a3aa-15cb203a04b1-1-30a3",
              "previous": "2c5e9267-34c2-11ee-981e-15cb203a04b1-1-c2aa"
            },
            {
              "current": "2c5e9307-34c2-11ee-81b8-15cb203a04b1-2-3a79-bf90",
              "next": "2c5e93aa-34c2-11ee-a3aa-15cb203a04b1-2-30a3-2290",
              "previous": "2c5e9267-34c2-11ee-981e-15cb203a04b1-2-c2aa-2f64"
            },
            {
              "current": "2c5e9307-34c2-11ee-81b8-15cb203a04b1-3-3a79-bf90-9370",
              "next": "2c5e93aa-34c2-11ee-a3aa-15cb203a04b1-2-30a3-2290",
              "previous": "c8c1f81e-37e5-11ee-bd7c-7183cdcd32de"
            },
            {
              "current": "2c5e9307-34c2-11ee-81b8-15cb203a04b1-4-3a79-bf90-9370-63ee",
              "next": "2c5e93aa-34c2-11ee-a3aa-15cb203a04b1-3-30a3-2290-0baa",
              "previous": "c8c1f81e-37e5-11ee-bd7c-7183cdcd32de-1-0812"
            }
          ],
          "next": "2c5e93aa-34c2-11ee-a3aa-15cb203a04b1-4-30a3-2290-0baa-58ef",
          "previous": "c8c1f81e-37e5-11ee-bd7c-7183cdcd32de-2-0812-7171"
        }
      },
      "source": [
        "Q: `my_abs()`を作りなさい。"
      ]
    },
    {
      "cell_type": "code",
      "execution_count": null,
      "metadata": {
        "id": "qBLn5vFh0O-3",
        "lc_cell_meme": {
          "current": "2c5e93aa-34c2-11ee-a3aa-15cb203a04b1-4-30a3-2290-0baa-58ef",
          "history": [
            {
              "current": "2c5e93aa-34c2-11ee-a3aa-15cb203a04b1-1-30a3",
              "next": "2c5e9447-34c2-11ee-927b-15cb203a04b1",
              "previous": "2c5e9307-34c2-11ee-81b8-15cb203a04b1"
            },
            {
              "current": "2c5e93aa-34c2-11ee-a3aa-15cb203a04b1-2-30a3-2290",
              "next": "2c5e9447-34c2-11ee-927b-15cb203a04b1-1-b0f6",
              "previous": "2c5e9307-34c2-11ee-81b8-15cb203a04b1-1-3a79"
            },
            {
              "current": "2c5e93aa-34c2-11ee-a3aa-15cb203a04b1-3-30a3-2290-0baa",
              "next": "2c5e9447-34c2-11ee-927b-15cb203a04b1-2-b0f6-892e",
              "previous": "2c5e9307-34c2-11ee-81b8-15cb203a04b1-2-3a79-bf90"
            },
            {
              "current": "2c5e93aa-34c2-11ee-a3aa-15cb203a04b1-4-30a3-2290-0baa-58ef",
              "next": "2c5e9447-34c2-11ee-927b-15cb203a04b1-3-b0f6-892e-52c0",
              "previous": "2c5e9307-34c2-11ee-81b8-15cb203a04b1-3-3a79-bf90-9370"
            }
          ],
          "next": "2c5e9447-34c2-11ee-927b-15cb203a04b1-4-b0f6-892e-52c0-f50d",
          "previous": "2c5e9307-34c2-11ee-81b8-15cb203a04b1-4-3a79-bf90-9370-63ee"
        }
      },
      "outputs": [],
      "source": [
        "def my_abs(n):\n",
        "\n",
        "\n",
        "\n",
        "print(my_abs(n))"
      ]
    },
    {
      "cell_type": "markdown",
      "metadata": {
        "id": "_cFSOIOTkgU4",
        "lc_cell_meme": {
          "current": "2c5e9447-34c2-11ee-927b-15cb203a04b1-4-b0f6-892e-52c0-f50d",
          "history": [
            {
              "current": "2c5e9447-34c2-11ee-927b-15cb203a04b1-1-b0f6",
              "next": "2c5e94e6-34c2-11ee-9224-15cb203a04b1",
              "previous": "2c5e93aa-34c2-11ee-a3aa-15cb203a04b1"
            },
            {
              "current": "2c5e9447-34c2-11ee-927b-15cb203a04b1-2-b0f6-892e",
              "next": "2c5e94e6-34c2-11ee-9224-15cb203a04b1-1-cb09",
              "previous": "2c5e93aa-34c2-11ee-a3aa-15cb203a04b1-1-30a3"
            },
            {
              "current": "2c5e9447-34c2-11ee-927b-15cb203a04b1-3-b0f6-892e-52c0",
              "next": "2c5e94e6-34c2-11ee-9224-15cb203a04b1-2-cb09-d978",
              "previous": "2c5e93aa-34c2-11ee-a3aa-15cb203a04b1-2-30a3-2290"
            },
            {
              "current": "2c5e9447-34c2-11ee-927b-15cb203a04b1-4-b0f6-892e-52c0-f50d",
              "next": "2c5e94e6-34c2-11ee-9224-15cb203a04b1-3-cb09-d978-2ed9",
              "previous": "2c5e93aa-34c2-11ee-a3aa-15cb203a04b1-3-30a3-2290-0baa"
            }
          ],
          "next": "2c5e94e6-34c2-11ee-9224-15cb203a04b1-4-cb09-d978-2ed9-56bc",
          "previous": "2c5e93aa-34c2-11ee-a3aa-15cb203a04b1-4-30a3-2290-0baa-58ef"
        }
      },
      "source": [
        "次に合計値を求める`sum()`関数を見ていきます。\n",
        "```python\n",
        "numbers = [1, -2, -3, 4, -5]\n",
        "\n",
        "print(sum(numbers))\n",
        "```"
      ]
    },
    {
      "cell_type": "code",
      "execution_count": null,
      "metadata": {
        "id": "KqXai6llkijD",
        "lc_cell_meme": {
          "current": "2c5e94e6-34c2-11ee-9224-15cb203a04b1-4-cb09-d978-2ed9-56bc",
          "history": [
            {
              "current": "2c5e94e6-34c2-11ee-9224-15cb203a04b1-1-cb09",
              "next": "2c5e9584-34c2-11ee-a558-15cb203a04b1",
              "previous": "2c5e9447-34c2-11ee-927b-15cb203a04b1"
            },
            {
              "current": "2c5e94e6-34c2-11ee-9224-15cb203a04b1-2-cb09-d978",
              "next": "2c5e9584-34c2-11ee-a558-15cb203a04b1-1-1142",
              "previous": "2c5e9447-34c2-11ee-927b-15cb203a04b1-1-b0f6"
            },
            {
              "current": "2c5e94e6-34c2-11ee-9224-15cb203a04b1-3-cb09-d978-2ed9",
              "next": "2c5e9584-34c2-11ee-a558-15cb203a04b1-2-1142-8f80",
              "previous": "2c5e9447-34c2-11ee-927b-15cb203a04b1-2-b0f6-892e"
            },
            {
              "current": "2c5e94e6-34c2-11ee-9224-15cb203a04b1-4-cb09-d978-2ed9-56bc",
              "next": "2c5e9584-34c2-11ee-a558-15cb203a04b1-3-1142-8f80-b1f3",
              "previous": "2c5e9447-34c2-11ee-927b-15cb203a04b1-3-b0f6-892e-52c0"
            }
          ],
          "next": "2c5e9584-34c2-11ee-a558-15cb203a04b1-4-1142-8f80-b1f3-85ba",
          "previous": "2c5e9447-34c2-11ee-927b-15cb203a04b1-4-b0f6-892e-52c0-f50d"
        }
      },
      "outputs": [],
      "source": []
    },
    {
      "cell_type": "markdown",
      "metadata": {
        "id": "0XSVSR8xkk_g",
        "lc_cell_meme": {
          "current": "2c5e9584-34c2-11ee-a558-15cb203a04b1-4-1142-8f80-b1f3-85ba",
          "history": [
            {
              "current": "2c5e9584-34c2-11ee-a558-15cb203a04b1-1-1142",
              "next": "2c5e9621-34c2-11ee-a575-15cb203a04b1",
              "previous": "2c5e94e6-34c2-11ee-9224-15cb203a04b1"
            },
            {
              "current": "2c5e9584-34c2-11ee-a558-15cb203a04b1-2-1142-8f80",
              "next": "2c5e9621-34c2-11ee-a575-15cb203a04b1-1-1f5c",
              "previous": "2c5e94e6-34c2-11ee-9224-15cb203a04b1-1-cb09"
            },
            {
              "current": "2c5e9584-34c2-11ee-a558-15cb203a04b1-3-1142-8f80-b1f3",
              "next": "2c5e9621-34c2-11ee-a575-15cb203a04b1-2-1f5c-cef9",
              "previous": "2c5e94e6-34c2-11ee-9224-15cb203a04b1-2-cb09-d978"
            },
            {
              "current": "2c5e9584-34c2-11ee-a558-15cb203a04b1-4-1142-8f80-b1f3-85ba",
              "next": "2c5e9621-34c2-11ee-a575-15cb203a04b1-3-1f5c-cef9-aaac",
              "previous": "2c5e94e6-34c2-11ee-9224-15cb203a04b1-3-cb09-d978-2ed9"
            }
          ],
          "next": "2c5e9621-34c2-11ee-a575-15cb203a04b1-4-1f5c-cef9-aaac-1748",
          "previous": "2c5e94e6-34c2-11ee-9224-15cb203a04b1-4-cb09-d978-2ed9-56bc"
        }
      },
      "source": [
        "Q: `numbers = [1, -2, -3, 4, -5]`の合計値を`sum()`関数を使わずに求めなさい。"
      ]
    },
    {
      "cell_type": "code",
      "execution_count": null,
      "metadata": {
        "id": "J2NnwK93knqh",
        "lc_cell_meme": {
          "current": "2c5e9621-34c2-11ee-a575-15cb203a04b1-4-1f5c-cef9-aaac-1748",
          "history": [
            {
              "current": "2c5e9621-34c2-11ee-a575-15cb203a04b1-1-1f5c",
              "next": "2c5e96bf-34c2-11ee-a0fc-15cb203a04b1",
              "previous": "2c5e9584-34c2-11ee-a558-15cb203a04b1"
            },
            {
              "current": "2c5e9621-34c2-11ee-a575-15cb203a04b1-2-1f5c-cef9",
              "next": "2c5e96bf-34c2-11ee-a0fc-15cb203a04b1-1-4cc9",
              "previous": "2c5e9584-34c2-11ee-a558-15cb203a04b1-1-1142"
            },
            {
              "current": "2c5e9621-34c2-11ee-a575-15cb203a04b1-3-1f5c-cef9-aaac",
              "next": "2c5e96bf-34c2-11ee-a0fc-15cb203a04b1-2-4cc9-239f",
              "previous": "2c5e9584-34c2-11ee-a558-15cb203a04b1-2-1142-8f80"
            },
            {
              "current": "2c5e9621-34c2-11ee-a575-15cb203a04b1-4-1f5c-cef9-aaac-1748",
              "next": "2c5e96bf-34c2-11ee-a0fc-15cb203a04b1-3-4cc9-239f-cf8b",
              "previous": "2c5e9584-34c2-11ee-a558-15cb203a04b1-3-1142-8f80-b1f3"
            }
          ],
          "next": "2c5e96bf-34c2-11ee-a0fc-15cb203a04b1-4-4cc9-239f-cf8b-f411",
          "previous": "2c5e9584-34c2-11ee-a558-15cb203a04b1-4-1142-8f80-b1f3-85ba"
        }
      },
      "outputs": [],
      "source": [
        "numbers = [1, -2, -3, 4, -5]\n",
        "\n",
        "\n",
        "\n",
        "\n",
        "print(summation)"
      ]
    },
    {
      "cell_type": "markdown",
      "metadata": {
        "id": "40E3Eo8N2meM",
        "lc_cell_meme": {
          "current": "2c5e96bf-34c2-11ee-a0fc-15cb203a04b1-4-4cc9-239f-cf8b-f411",
          "history": [
            {
              "current": "2c5e96bf-34c2-11ee-a0fc-15cb203a04b1-1-4cc9",
              "next": "2c5e975a-34c2-11ee-b25a-15cb203a04b1",
              "previous": "2c5e9621-34c2-11ee-a575-15cb203a04b1"
            },
            {
              "current": "2c5e96bf-34c2-11ee-a0fc-15cb203a04b1-2-4cc9-239f",
              "next": "2c5e975a-34c2-11ee-b25a-15cb203a04b1-1-5e0a",
              "previous": "2c5e9621-34c2-11ee-a575-15cb203a04b1-1-1f5c"
            },
            {
              "current": "2c5e96bf-34c2-11ee-a0fc-15cb203a04b1-3-4cc9-239f-cf8b",
              "next": "2c5e975a-34c2-11ee-b25a-15cb203a04b1-2-5e0a-6372",
              "previous": "2c5e9621-34c2-11ee-a575-15cb203a04b1-2-1f5c-cef9"
            },
            {
              "current": "2c5e96bf-34c2-11ee-a0fc-15cb203a04b1-4-4cc9-239f-cf8b-f411",
              "next": "2c5e975a-34c2-11ee-b25a-15cb203a04b1-3-5e0a-6372-d0ca",
              "previous": "2c5e9621-34c2-11ee-a575-15cb203a04b1-3-1f5c-cef9-aaac"
            }
          ],
          "next": "2c5e975a-34c2-11ee-b25a-15cb203a04b1-4-5e0a-6372-d0ca-7f75",
          "previous": "2c5e9621-34c2-11ee-a575-15cb203a04b1-4-1f5c-cef9-aaac-1748"
        }
      },
      "source": [
        "Q: `numbers = [1, -2, -3, 4, -5]`の合計値を求める`my_sum()`関数を作りなさい。"
      ]
    },
    {
      "cell_type": "code",
      "execution_count": null,
      "metadata": {
        "id": "mzdZzN_V21QD",
        "lc_cell_meme": {
          "current": "2c5e975a-34c2-11ee-b25a-15cb203a04b1-4-5e0a-6372-d0ca-7f75",
          "history": [
            {
              "current": "2c5e975a-34c2-11ee-b25a-15cb203a04b1-1-5e0a",
              "next": "2c5e989a-34c2-11ee-be33-15cb203a04b1",
              "previous": "2c5e96bf-34c2-11ee-a0fc-15cb203a04b1"
            },
            {
              "current": "2c5e975a-34c2-11ee-b25a-15cb203a04b1-2-5e0a-6372",
              "next": "2c5e989a-34c2-11ee-be33-15cb203a04b1-1-e4c1",
              "previous": "2c5e96bf-34c2-11ee-a0fc-15cb203a04b1-1-4cc9"
            },
            {
              "current": "2c5e975a-34c2-11ee-b25a-15cb203a04b1-3-5e0a-6372-d0ca",
              "next": "2c5e989a-34c2-11ee-be33-15cb203a04b1-2-e4c1-dc9a",
              "previous": "2c5e96bf-34c2-11ee-a0fc-15cb203a04b1-2-4cc9-239f"
            },
            {
              "current": "2c5e975a-34c2-11ee-b25a-15cb203a04b1-4-5e0a-6372-d0ca-7f75",
              "next": "2c5e989a-34c2-11ee-be33-15cb203a04b1-3-e4c1-dc9a-dd74",
              "previous": "2c5e96bf-34c2-11ee-a0fc-15cb203a04b1-3-4cc9-239f-cf8b"
            }
          ],
          "next": "2c5e989a-34c2-11ee-be33-15cb203a04b1-4-e4c1-dc9a-dd74-eb76",
          "previous": "2c5e96bf-34c2-11ee-a0fc-15cb203a04b1-4-4cc9-239f-cf8b-f411"
        }
      },
      "outputs": [],
      "source": [
        "def my_sum(numbers):\n",
        "\n",
        "\n",
        "\n",
        "\n",
        "\n",
        "numbers = [1, -2, -3, 4, -5]\n",
        "print(my_sum(numbers))"
      ]
    },
    {
      "cell_type": "markdown",
      "metadata": {
        "id": "_KMdFSO-k0IO",
        "lc_cell_meme": {
          "current": "2c5e989a-34c2-11ee-be33-15cb203a04b1-4-e4c1-dc9a-dd74-eb76",
          "history": [
            {
              "current": "2c5e989a-34c2-11ee-be33-15cb203a04b1-1-e4c1",
              "next": "2c5e9935-34c2-11ee-8fb2-15cb203a04b1",
              "previous": "2c5e975a-34c2-11ee-b25a-15cb203a04b1"
            },
            {
              "current": "2c5e989a-34c2-11ee-be33-15cb203a04b1-2-e4c1-dc9a",
              "next": "2c5e9935-34c2-11ee-8fb2-15cb203a04b1-1-4311",
              "previous": "2c5e975a-34c2-11ee-b25a-15cb203a04b1-1-5e0a"
            },
            {
              "current": "2c5e989a-34c2-11ee-be33-15cb203a04b1-2-e4c1-dc9a",
              "next": "2c5e9935-34c2-11ee-8fb2-15cb203a04b1-2-4311-29c3",
              "previous": "2c5e975a-34c2-11ee-b25a-15cb203a04b1-2-5e0a-6372"
            },
            {
              "current": "2c5e989a-34c2-11ee-be33-15cb203a04b1-3-e4c1-dc9a-dd74",
              "next": "c8c1f910-37e5-11ee-bcff-7183cdcd32de",
              "previous": "2c5e975a-34c2-11ee-b25a-15cb203a04b1-2-5e0a-6372"
            },
            {
              "current": "2c5e989a-34c2-11ee-be33-15cb203a04b1-3-e4c1-dc9a-dd74",
              "next": "c8c1f910-37e5-11ee-bcff-7183cdcd32de-1-e85d",
              "previous": "2c5e975a-34c2-11ee-b25a-15cb203a04b1-3-5e0a-6372-d0ca"
            },
            {
              "current": "2c5e989a-34c2-11ee-be33-15cb203a04b1-4-e4c1-dc9a-dd74-eb76",
              "next": "c8c1f9cb-37e5-11ee-930b-7183cdcd32de-2-97c3-bf91",
              "previous": "2c5e975a-34c2-11ee-b25a-15cb203a04b1-3-5e0a-6372-d0ca"
            }
          ],
          "next": "c8c1f9cb-37e5-11ee-930b-7183cdcd32de-3-97c3-bf91-96f1",
          "previous": "2c5e975a-34c2-11ee-b25a-15cb203a04b1-4-5e0a-6372-d0ca-7f75"
        }
      },
      "source": [
        "## 関数を使用するメリット\n",
        "[こちら](https://www.youtube.com/watch?v=OSBIXXAn8cQ)の動画を見ながら進めてください。"
      ]
    },
    {
      "cell_type": "markdown",
      "metadata": {
        "lc_cell_meme": {
          "current": "c8c1f9cb-37e5-11ee-930b-7183cdcd32de-3-97c3-bf91-96f1",
          "history": [
            {
              "current": "c8c1f9cb-37e5-11ee-930b-7183cdcd32de-2-97c3-bf91",
              "next": "2c5e9935-34c2-11ee-8fb2-15cb203a04b1-2-4311-29c3",
              "previous": "c8c1f910-37e5-11ee-bcff-7183cdcd32de"
            },
            {
              "current": "c8c1f9cb-37e5-11ee-930b-7183cdcd32de-2-97c3-bf91",
              "next": "2c5e9935-34c2-11ee-8fb2-15cb203a04b1-3-4311-29c3-4dd1",
              "previous": "c8c1f910-37e5-11ee-bcff-7183cdcd32de-1-e85d"
            },
            {
              "current": "c8c1f9cb-37e5-11ee-930b-7183cdcd32de-3-97c3-bf91-96f1",
              "next": "2c5e9935-34c2-11ee-8fb2-15cb203a04b1-3-4311-29c3-4dd1",
              "previous": "2c5e989a-34c2-11ee-be33-15cb203a04b1-3-e4c1-dc9a-dd74"
            }
          ],
          "next": "2c5e9935-34c2-11ee-8fb2-15cb203a04b1-4-4311-29c3-4dd1-72c8",
          "previous": "2c5e989a-34c2-11ee-be33-15cb203a04b1-4-e4c1-dc9a-dd74-eb76"
        },
        "id": "BBT3EAAAC4DJ"
      },
      "source": [
        "関数を使用すると、以下のようなメリットがあります。\n",
        "\n",
        "- 再利用性\n",
        "- 独立性\n",
        "- 視認性\n",
        "\n",
        "たとえば、いちごケーキをつくることを考えます。\\\n",
        "レシピはさまざまですが、大雑把に以下の流れになります。\n",
        "\n",
        "![strawberry_cake.png](data:image/png;base64,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)"
      ]
    },
    {
      "cell_type": "markdown",
      "metadata": {
        "id": "AnS8oTnnlLRN",
        "lc_cell_meme": {
          "current": "2c5e9935-34c2-11ee-8fb2-15cb203a04b1-4-4311-29c3-4dd1-72c8",
          "history": [
            {
              "current": "2c5e9935-34c2-11ee-8fb2-15cb203a04b1-1-4311",
              "next": "2c5e99d1-34c2-11ee-9812-15cb203a04b1",
              "previous": "2c5e989a-34c2-11ee-be33-15cb203a04b1"
            },
            {
              "current": "2c5e9935-34c2-11ee-8fb2-15cb203a04b1-2-4311-29c3",
              "next": "2c5e99d1-34c2-11ee-9812-15cb203a04b1-1-2624",
              "previous": "2c5e989a-34c2-11ee-be33-15cb203a04b1-1-e4c1"
            },
            {
              "current": "2c5e9935-34c2-11ee-8fb2-15cb203a04b1-2-4311-29c3",
              "next": "2c5e99d1-34c2-11ee-9812-15cb203a04b1-2-2624-b4e3",
              "previous": "2c5e989a-34c2-11ee-be33-15cb203a04b1-2-e4c1-dc9a"
            },
            {
              "current": "2c5e9935-34c2-11ee-8fb2-15cb203a04b1-2-4311-29c3",
              "next": "2c5e99d1-34c2-11ee-9812-15cb203a04b1-2-2624-b4e3",
              "previous": "c8c1f9cb-37e5-11ee-930b-7183cdcd32de"
            },
            {
              "current": "2c5e9935-34c2-11ee-8fb2-15cb203a04b1-3-4311-29c3-4dd1",
              "next": "2c5e99d1-34c2-11ee-9812-15cb203a04b1-2-2624-b4e3",
              "previous": "c8c1f9cb-37e5-11ee-930b-7183cdcd32de-1-97c3"
            },
            {
              "current": "2c5e9935-34c2-11ee-8fb2-15cb203a04b1-4-4311-29c3-4dd1-72c8",
              "next": "2c5e99d1-34c2-11ee-9812-15cb203a04b1-3-2624-b4e3-58f5",
              "previous": "c8c1f9cb-37e5-11ee-930b-7183cdcd32de-2-97c3-bf91"
            }
          ],
          "next": "2c5e99d1-34c2-11ee-9812-15cb203a04b1-4-2624-b4e3-58f5-5e72",
          "previous": "c8c1f9cb-37e5-11ee-930b-7183cdcd32de-3-97c3-bf91-96f1"
        }
      },
      "source": [
        "- 再利用性\n",
        "\n",
        "    スポンジケーキや生クリームは、他のケーキを作るときにも必要ですから、いちごケーキを作るレシピ(プログラム)とは別に記載して、いろんなケーキから参照できるようにしたほうがよい場合があります。\n",
        "\n",
        "\n",
        "- 独立性\n",
        "\n",
        "    スポンジケーキや生クリームは、いろいろアレンジしたり、人によって作り方が異なるかもしれません。また、自分で作らずに、他人に作ってもらうかもしれません。\n",
        "\n",
        "\n",
        "- 視認性\n",
        "\n",
        "    いちごケーキは上では17の手順で作成されていましたが、一個ずつ見ると何をしているかわかりにくくなります。\n",
        "    そこで、手順ごとにまとめると全体が見通しやすくなります。\n",
        "    \n",
        "    \n",
        "    - スポンジケーキを作る\n",
        "    - 7分立ての生クリームを作る\n",
        "    - スポンジケーキに生クリームを塗る\n",
        "    - 8分立ての生クリームを作る\n",
        "    - 生クリームといちごを飾る"
      ]
    },
    {
      "cell_type": "markdown",
      "metadata": {
        "id": "0yuTINjO3iL7",
        "lc_cell_meme": {
          "current": "2c5e99d1-34c2-11ee-9812-15cb203a04b1-4-2624-b4e3-58f5-5e72",
          "history": [
            {
              "current": "2c5e99d1-34c2-11ee-9812-15cb203a04b1-1-2624",
              "next": "2c5e9a6b-34c2-11ee-a1e4-15cb203a04b1",
              "previous": "2c5e9935-34c2-11ee-8fb2-15cb203a04b1"
            },
            {
              "current": "2c5e99d1-34c2-11ee-9812-15cb203a04b1-2-2624-b4e3",
              "next": "2c5e9a6b-34c2-11ee-a1e4-15cb203a04b1-1-d17a",
              "previous": "2c5e9935-34c2-11ee-8fb2-15cb203a04b1-1-4311"
            },
            {
              "current": "2c5e99d1-34c2-11ee-9812-15cb203a04b1-3-2624-b4e3-58f5",
              "next": "2c5e9a6b-34c2-11ee-a1e4-15cb203a04b1-2-d17a-43df",
              "previous": "2c5e9935-34c2-11ee-8fb2-15cb203a04b1-2-4311-29c3"
            },
            {
              "current": "2c5e99d1-34c2-11ee-9812-15cb203a04b1-4-2624-b4e3-58f5-5e72",
              "next": "2c5e9a6b-34c2-11ee-a1e4-15cb203a04b1-3-d17a-43df-d9e0",
              "previous": "2c5e9935-34c2-11ee-8fb2-15cb203a04b1-3-4311-29c3-4dd1"
            }
          ],
          "next": "2c5e9a6b-34c2-11ee-a1e4-15cb203a04b1-4-d17a-43df-d9e0-f6e7",
          "previous": "2c5e9935-34c2-11ee-8fb2-15cb203a04b1-4-4311-29c3-4dd1-72c8"
        }
      },
      "source": [
        "Q: 関数を使わずに`numbers = [1, -2, -3, 4, -5]`の合計値の絶対値を出力するコードを書きなさい。"
      ]
    },
    {
      "cell_type": "code",
      "execution_count": null,
      "metadata": {
        "id": "zMuimf3b4faU",
        "lc_cell_meme": {
          "current": "2c5e9a6b-34c2-11ee-a1e4-15cb203a04b1-4-d17a-43df-d9e0-f6e7",
          "history": [
            {
              "current": "2c5e9a6b-34c2-11ee-a1e4-15cb203a04b1-1-d17a",
              "next": "2c5e9b07-34c2-11ee-b3dd-15cb203a04b1",
              "previous": "2c5e99d1-34c2-11ee-9812-15cb203a04b1"
            },
            {
              "current": "2c5e9a6b-34c2-11ee-a1e4-15cb203a04b1-2-d17a-43df",
              "next": "2c5e9b07-34c2-11ee-b3dd-15cb203a04b1-1-e86c",
              "previous": "2c5e99d1-34c2-11ee-9812-15cb203a04b1-1-2624"
            },
            {
              "current": "2c5e9a6b-34c2-11ee-a1e4-15cb203a04b1-3-d17a-43df-d9e0",
              "next": "2c5e9b07-34c2-11ee-b3dd-15cb203a04b1-2-e86c-ecfa",
              "previous": "2c5e99d1-34c2-11ee-9812-15cb203a04b1-2-2624-b4e3"
            },
            {
              "current": "2c5e9a6b-34c2-11ee-a1e4-15cb203a04b1-4-d17a-43df-d9e0-f6e7",
              "next": "2c5e9b07-34c2-11ee-b3dd-15cb203a04b1-3-e86c-ecfa-bbc4",
              "previous": "2c5e99d1-34c2-11ee-9812-15cb203a04b1-3-2624-b4e3-58f5"
            }
          ],
          "next": "2c5e9b07-34c2-11ee-b3dd-15cb203a04b1-4-e86c-ecfa-bbc4-579e",
          "previous": "2c5e99d1-34c2-11ee-9812-15cb203a04b1-4-2624-b4e3-58f5-5e72"
        }
      },
      "outputs": [],
      "source": [
        "numbers = [1, -2, -3, 4, -5]\n",
        "\n",
        "\n",
        "\n",
        "\n",
        "\n",
        "print(summation)\n"
      ]
    },
    {
      "cell_type": "markdown",
      "metadata": {
        "id": "iqN3Zcn94-Mq",
        "lc_cell_meme": {
          "current": "2c5e9b07-34c2-11ee-b3dd-15cb203a04b1-4-e86c-ecfa-bbc4-579e",
          "history": [
            {
              "current": "2c5e9b07-34c2-11ee-b3dd-15cb203a04b1-1-e86c",
              "next": "2c5e9ba2-34c2-11ee-ba90-15cb203a04b1",
              "previous": "2c5e9a6b-34c2-11ee-a1e4-15cb203a04b1"
            },
            {
              "current": "2c5e9b07-34c2-11ee-b3dd-15cb203a04b1-2-e86c-ecfa",
              "next": "2c5e9ba2-34c2-11ee-ba90-15cb203a04b1-1-3af7",
              "previous": "2c5e9a6b-34c2-11ee-a1e4-15cb203a04b1-1-d17a"
            },
            {
              "current": "2c5e9b07-34c2-11ee-b3dd-15cb203a04b1-3-e86c-ecfa-bbc4",
              "next": "2c5e9ba2-34c2-11ee-ba90-15cb203a04b1-2-3af7-b23b",
              "previous": "2c5e9a6b-34c2-11ee-a1e4-15cb203a04b1-2-d17a-43df"
            },
            {
              "current": "2c5e9b07-34c2-11ee-b3dd-15cb203a04b1-4-e86c-ecfa-bbc4-579e",
              "next": "2c5e9ba2-34c2-11ee-ba90-15cb203a04b1-3-3af7-b23b-f26c",
              "previous": "2c5e9a6b-34c2-11ee-a1e4-15cb203a04b1-3-d17a-43df-d9e0"
            }
          ],
          "next": "2c5e9ba2-34c2-11ee-ba90-15cb203a04b1-4-3af7-b23b-f26c-81e7",
          "previous": "2c5e9a6b-34c2-11ee-a1e4-15cb203a04b1-4-d17a-43df-d9e0-f6e7"
        }
      },
      "source": [
        "Q: 上記のコードを，`my_sum()`と`my_abs()`を使って書きなさい。"
      ]
    },
    {
      "cell_type": "code",
      "execution_count": null,
      "metadata": {
        "id": "iFbhED125LFZ",
        "lc_cell_meme": {
          "current": "2c5e9ba2-34c2-11ee-ba90-15cb203a04b1-4-3af7-b23b-f26c-81e7",
          "history": [
            {
              "current": "2c5e9ba2-34c2-11ee-ba90-15cb203a04b1-1-3af7",
              "next": "2c5e9c3e-34c2-11ee-aa03-15cb203a04b1",
              "previous": "2c5e9b07-34c2-11ee-b3dd-15cb203a04b1"
            },
            {
              "current": "2c5e9ba2-34c2-11ee-ba90-15cb203a04b1-2-3af7-b23b",
              "next": "2c5e9c3e-34c2-11ee-aa03-15cb203a04b1-1-e93e",
              "previous": "2c5e9b07-34c2-11ee-b3dd-15cb203a04b1-1-e86c"
            },
            {
              "current": "2c5e9ba2-34c2-11ee-ba90-15cb203a04b1-3-3af7-b23b-f26c",
              "next": "2c5e9c3e-34c2-11ee-aa03-15cb203a04b1-2-e93e-01fb",
              "previous": "2c5e9b07-34c2-11ee-b3dd-15cb203a04b1-2-e86c-ecfa"
            },
            {
              "current": "2c5e9ba2-34c2-11ee-ba90-15cb203a04b1-4-3af7-b23b-f26c-81e7",
              "next": "2c5e9c3e-34c2-11ee-aa03-15cb203a04b1-3-e93e-01fb-751e",
              "previous": "2c5e9b07-34c2-11ee-b3dd-15cb203a04b1-3-e86c-ecfa-bbc4"
            }
          ],
          "next": "2c5e9c3e-34c2-11ee-aa03-15cb203a04b1-4-e93e-01fb-751e-8c1a",
          "previous": "2c5e9b07-34c2-11ee-b3dd-15cb203a04b1-4-e86c-ecfa-bbc4-579e"
        }
      },
      "outputs": [],
      "source": [
        "numbers = [1, -2, -3, 4, -5]\n",
        "\n",
        "\n",
        "\n",
        "\n",
        "\n",
        "print(zettaiti)"
      ]
    },
    {
      "cell_type": "markdown",
      "metadata": {
        "id": "TxOtlfDz5tut",
        "lc_cell_meme": {
          "current": "2c5e9c3e-34c2-11ee-aa03-15cb203a04b1-4-e93e-01fb-751e-8c1a",
          "history": [
            {
              "current": "2c5e9c3e-34c2-11ee-aa03-15cb203a04b1-1-e93e",
              "next": "2c5e9cd9-34c2-11ee-a5dc-15cb203a04b1",
              "previous": "2c5e9ba2-34c2-11ee-ba90-15cb203a04b1"
            },
            {
              "current": "2c5e9c3e-34c2-11ee-aa03-15cb203a04b1-2-e93e-01fb",
              "next": "2c5e9cd9-34c2-11ee-a5dc-15cb203a04b1-1-b38e",
              "previous": "2c5e9ba2-34c2-11ee-ba90-15cb203a04b1-1-3af7"
            },
            {
              "current": "2c5e9c3e-34c2-11ee-aa03-15cb203a04b1-3-e93e-01fb-751e",
              "next": "2c5e9cd9-34c2-11ee-a5dc-15cb203a04b1-2-b38e-ad39",
              "previous": "2c5e9ba2-34c2-11ee-ba90-15cb203a04b1-2-3af7-b23b"
            },
            {
              "current": "2c5e9c3e-34c2-11ee-aa03-15cb203a04b1-4-e93e-01fb-751e-8c1a",
              "next": "2c5e9cd9-34c2-11ee-a5dc-15cb203a04b1-3-b38e-ad39-5783",
              "previous": "2c5e9ba2-34c2-11ee-ba90-15cb203a04b1-3-3af7-b23b-f26c"
            }
          ],
          "next": "2c5e9cd9-34c2-11ee-a5dc-15cb203a04b1-4-b38e-ad39-5783-4007",
          "previous": "2c5e9ba2-34c2-11ee-ba90-15cb203a04b1-4-3af7-b23b-f26c-81e7"
        }
      },
      "source": [
        "Q: 関数を使わずに`numbers = [1, -2, -3, 4, -5]`の各要素の絶対値の合計を出力するコードを書きなさい。"
      ]
    },
    {
      "cell_type": "code",
      "execution_count": null,
      "metadata": {
        "id": "XuLs7xtr8I3s",
        "lc_cell_meme": {
          "current": "2c5e9cd9-34c2-11ee-a5dc-15cb203a04b1-4-b38e-ad39-5783-4007",
          "history": [
            {
              "current": "2c5e9cd9-34c2-11ee-a5dc-15cb203a04b1-1-b38e",
              "next": "2c5e9d86-34c2-11ee-a4a1-15cb203a04b1",
              "previous": "2c5e9c3e-34c2-11ee-aa03-15cb203a04b1"
            },
            {
              "current": "2c5e9cd9-34c2-11ee-a5dc-15cb203a04b1-2-b38e-ad39",
              "next": "2c5e9d86-34c2-11ee-a4a1-15cb203a04b1-1-8fa8",
              "previous": "2c5e9c3e-34c2-11ee-aa03-15cb203a04b1-1-e93e"
            },
            {
              "current": "2c5e9cd9-34c2-11ee-a5dc-15cb203a04b1-3-b38e-ad39-5783",
              "next": "2c5e9d86-34c2-11ee-a4a1-15cb203a04b1-2-8fa8-940d",
              "previous": "2c5e9c3e-34c2-11ee-aa03-15cb203a04b1-2-e93e-01fb"
            },
            {
              "current": "2c5e9cd9-34c2-11ee-a5dc-15cb203a04b1-4-b38e-ad39-5783-4007",
              "next": "2c5e9d86-34c2-11ee-a4a1-15cb203a04b1-3-8fa8-940d-e94a",
              "previous": "2c5e9c3e-34c2-11ee-aa03-15cb203a04b1-3-e93e-01fb-751e"
            }
          ],
          "next": "2c5e9d86-34c2-11ee-a4a1-15cb203a04b1-4-8fa8-940d-e94a-a5ad",
          "previous": "2c5e9c3e-34c2-11ee-aa03-15cb203a04b1-4-e93e-01fb-751e-8c1a"
        }
      },
      "outputs": [],
      "source": [
        "numbers = [1, -2, -3, 4, -5]\n",
        "\n",
        "\n",
        "\n",
        "\n",
        "\n",
        "print(goukei)"
      ]
    },
    {
      "cell_type": "markdown",
      "metadata": {
        "id": "66Hb6csIDG4w",
        "lc_cell_meme": {
          "current": "2c5e9d86-34c2-11ee-a4a1-15cb203a04b1-4-8fa8-940d-e94a-a5ad",
          "history": [
            {
              "current": "2c5e9d86-34c2-11ee-a4a1-15cb203a04b1-1-8fa8",
              "next": "2c5e9e28-34c2-11ee-869e-15cb203a04b1",
              "previous": "2c5e9cd9-34c2-11ee-a5dc-15cb203a04b1"
            },
            {
              "current": "2c5e9d86-34c2-11ee-a4a1-15cb203a04b1-2-8fa8-940d",
              "next": "2c5e9e28-34c2-11ee-869e-15cb203a04b1-1-ad6a",
              "previous": "2c5e9cd9-34c2-11ee-a5dc-15cb203a04b1-1-b38e"
            },
            {
              "current": "2c5e9d86-34c2-11ee-a4a1-15cb203a04b1-3-8fa8-940d-e94a",
              "next": "2c5e9e28-34c2-11ee-869e-15cb203a04b1-2-ad6a-57d2",
              "previous": "2c5e9cd9-34c2-11ee-a5dc-15cb203a04b1-2-b38e-ad39"
            },
            {
              "current": "2c5e9d86-34c2-11ee-a4a1-15cb203a04b1-4-8fa8-940d-e94a-a5ad",
              "next": "2c5e9e28-34c2-11ee-869e-15cb203a04b1-3-ad6a-57d2-4105",
              "previous": "2c5e9cd9-34c2-11ee-a5dc-15cb203a04b1-3-b38e-ad39-5783"
            }
          ],
          "next": "2c5e9e28-34c2-11ee-869e-15cb203a04b1-4-ad6a-57d2-4105-8726",
          "previous": "2c5e9cd9-34c2-11ee-a5dc-15cb203a04b1-4-b38e-ad39-5783-4007"
        }
      },
      "source": [
        "Q: 上記のコードを，`my_sum()`と`my_abs()`を使って書きなさい。"
      ]
    },
    {
      "cell_type": "code",
      "execution_count": null,
      "metadata": {
        "id": "huc_wqkNDL-W",
        "lc_cell_meme": {
          "current": "2c5e9e28-34c2-11ee-869e-15cb203a04b1-4-ad6a-57d2-4105-8726",
          "history": [
            {
              "current": "2c5e9e28-34c2-11ee-869e-15cb203a04b1-1-ad6a",
              "next": "2c5e9ec6-34c2-11ee-8b5d-15cb203a04b1",
              "previous": "2c5e9d86-34c2-11ee-a4a1-15cb203a04b1"
            },
            {
              "current": "2c5e9e28-34c2-11ee-869e-15cb203a04b1-2-ad6a-57d2",
              "next": "2c5e9ec6-34c2-11ee-8b5d-15cb203a04b1-1-de1d",
              "previous": "2c5e9d86-34c2-11ee-a4a1-15cb203a04b1-1-8fa8"
            },
            {
              "current": "2c5e9e28-34c2-11ee-869e-15cb203a04b1-3-ad6a-57d2-4105",
              "next": "2c5e9ec6-34c2-11ee-8b5d-15cb203a04b1-2-de1d-d834",
              "previous": "2c5e9d86-34c2-11ee-a4a1-15cb203a04b1-2-8fa8-940d"
            },
            {
              "current": "2c5e9e28-34c2-11ee-869e-15cb203a04b1-4-ad6a-57d2-4105-8726",
              "next": "2c5e9ec6-34c2-11ee-8b5d-15cb203a04b1-3-de1d-d834-3f8b",
              "previous": "2c5e9d86-34c2-11ee-a4a1-15cb203a04b1-3-8fa8-940d-e94a"
            },
            {
              "current": "2c5e9e28-34c2-11ee-869e-15cb203a04b1-4-ad6a-57d2-4105-8726",
              "next": "2c5e9ec6-34c2-11ee-8b5d-15cb203a04b1-4-de1d-d834-3f8b-9e1b",
              "previous": "2c5e9d86-34c2-11ee-a4a1-15cb203a04b1-4-8fa8-940d-e94a-a5ad"
            }
          ],
          "next": "3a8f3fa8-84d4-11ee-a050-8bd03f0dde81",
          "previous": "2c5e9d86-34c2-11ee-a4a1-15cb203a04b1-4-8fa8-940d-e94a-a5ad"
        }
      },
      "outputs": [],
      "source": [
        "numbers = [1, -2, -3, 4, -5]\n",
        "\n",
        "\n",
        "\n",
        "\n",
        "\n",
        "print(goukei)"
      ]
    },
    {
      "cell_type": "markdown",
      "metadata": {
        "lc_cell_meme": {
          "current": "3a8f3fa8-84d4-11ee-a050-8bd03f0dde81",
          "history": [
            {
              "current": "3a8f3fa8-84d4-11ee-a050-8bd03f0dde81",
              "next": "3a8f4725-84d4-11ee-8567-8bd03f0dde81",
              "previous": "2c5ea1d1-34c2-11ee-a728-15cb203a04b1-4-4ed4-cdd2-d654-22d3"
            },
            {
              "current": "3a8f3fa8-84d4-11ee-a050-8bd03f0dde81",
              "next": "3a8f4725-84d4-11ee-8567-8bd03f0dde81-1-26e8",
              "previous": "2c5ea1d1-34c2-11ee-a728-15cb203a04b1-4-4ed4-cdd2-d654-22d3"
            }
          ],
          "next": "3a8f4725-84d4-11ee-8567-8bd03f0dde81-1-26e8",
          "previous": "2c5e9e28-34c2-11ee-869e-15cb203a04b1-4-ad6a-57d2-4105-8726"
        },
        "id": "FYBBkBXgC4DM"
      },
      "source": [
        "---\n",
        "# 演習問題\n",
        "以下は、令和７年度大学入学共通テスト試作問題『情報I』の一部です。   \n",
        "\n",
        "**---ここから抜粋---**\n",
        "\n",
        "データの通信において、受信したデータに誤りがないか確認する方法の一つにパリティチェックがある。この方法では、データにパリティビットを追加してデータの誤りを検出する。ここでは送信データの1の個数を数えて、1の個数が偶数ならパリティビット0を、1の個数が奇数ならパリティビット1を送信データに追加して通信することを考える。例えば、図1に示すように送信データが「01000110」の場合、パリティビットが1となるため、パリティビットを追加したデータ「010001101」を送信側より送信する。\n",
        "\n"
      ]
    },
    {
      "cell_type": "markdown",
      "metadata": {
        "lc_cell_meme": {
          "current": "3a8f4725-84d4-11ee-8567-8bd03f0dde81-1-26e8",
          "history": [
            {
              "current": "3a8f4725-84d4-11ee-8567-8bd03f0dde81-1-26e8",
              "next": null,
              "previous": "3a8f3fa8-84d4-11ee-a050-8bd03f0dde81"
            }
          ],
          "next": "821613d9-84d4-11ee-98eb-8bd03f0dde81",
          "previous": "3a8f3fa8-84d4-11ee-a050-8bd03f0dde81"
        },
        "id": "6JabYkiAC4DM"
      },
      "source": [
        "![](data:image/png;base64,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)\n",
        "\n",
        "**---抜粋はここまで---**"
      ]
    },
    {
      "cell_type": "markdown",
      "metadata": {
        "lc_cell_meme": {
          "current": "821613d9-84d4-11ee-98eb-8bd03f0dde81",
          "next": "821618df-84d4-11ee-a4e4-8bd03f0dde81",
          "previous": "3a8f4725-84d4-11ee-8567-8bd03f0dde81-1-26e8"
        },
        "id": "M41FMP00C4DM"
      },
      "source": [
        "入力された2桁の16進数を8ビットの2進数に変換し、末尾にパリティビットの追加を行い9ビットで出力する関数`kadai()`を以下の手順で作成しましょう。\n",
        "\n",
        "|10進数|16進数|2進数|\n",
        "|----|----|----|\n",
        "|0|0|0000|\n",
        "|1|1|0001|\n",
        "|2|2|0010|\n",
        "|3|3|0011|\n",
        "|4|4|0100|\n",
        "|5|5|0101|\n",
        "|6|6|0110|\n",
        "|7|7|0111|\n",
        "|8|8|1000|\n",
        "|9|9|1001|\n",
        "|10|A|1010|\n",
        "|11|B|1011|\n",
        "|12|C|1100|\n",
        "|13|D|1101|\n",
        "|14|E|1110|\n",
        "|15|F|1111|\n",
        "\n",
        "\n",
        "16進数は$2^4=16$で位が上がるので、1桁の16進数を2進数で表すには4桁の数字となる.  \n",
        "\n",
        "手順1: 入力側が1桁の16進数、出力側が10進数となる関数`step1()`を作成する.  \n",
        "手順2: 入力側が10進数、出力側が2進数となる関数`step2()`を作成する.  \n",
        "手順3: 関数`step1()`、関数`step2()`を組み合わせて、入力側が2桁の16進数、出力側が8ビットの2進数となる関数`step3()`を作成する.  \n",
        "手順4: 関数`step3()`にパリティビットを加え、入力側が2桁の16進数、出力側が9ビットの2進数+パリティビットとなる関数`kadai()`を作成する.  "
      ]
    },
    {
      "cell_type": "markdown",
      "metadata": {
        "lc_cell_meme": {
          "current": "821618df-84d4-11ee-a4e4-8bd03f0dde81",
          "next": "8216197b-84d4-11ee-beed-8bd03f0dde81",
          "previous": "821613d9-84d4-11ee-98eb-8bd03f0dde81"
        },
        "id": "79CvXWsYC4DM"
      },
      "source": [
        "---\n",
        "## 手順1\n",
        "入力側が1桁の16進数、出力側が10進数となる関数`step1()`を作成しましょう.  \n",
        "\n",
        "方針:  \n",
        "16進数のリスト\n",
        "\n",
        "```python\n",
        "hex_list = ['0', '1', '2', '3', '4', '5', '6', '7', '8', '9', 'A', 'B', 'C', 'D', 'E', 'F']\n",
        "```\n",
        "\n",
        "を用い、リストのオフセットを調べることで10進数を求めましょう.  \n",
        "入力側の型は`str`、出力側の方は`int`とし、以下のような挙動をすることとします.  \n",
        "```python\n",
        "step1('A')\n",
        ">> 10\n",
        "```\n",
        "\n",
        "ヒント：   \n",
        "リストのオフセットの求め方は11月8日のテキストを参照"
      ]
    },
    {
      "cell_type": "code",
      "execution_count": null,
      "metadata": {
        "lc_cell_meme": {
          "current": "8216197b-84d4-11ee-beed-8bd03f0dde81",
          "next": "821619ea-84d4-11ee-bcd9-8bd03f0dde81",
          "previous": "821618df-84d4-11ee-a4e4-8bd03f0dde81"
        },
        "lc_wrapper": {
          "log_history": [
            "/home/yaokix7971a7/.log/20231117/20231117-080336-0195.log",
            "/home/yaokix7971a7/.log/20231117/20231117-081221-0278.log"
          ]
        },
        "id": "ol5PCzvpC4DM"
      },
      "outputs": [],
      "source": [
        "def step(s):\n",
        "    hex_list = ['0', '1', '2', '3', '4', '5', '6', '7', '8', '9', 'A', 'B', 'C', 'D', 'E', 'F']\n",
        "\n",
        "\n",
        "\n",
        "step1('A')"
      ]
    },
    {
      "cell_type": "markdown",
      "metadata": {
        "lc_cell_meme": {
          "current": "821619ea-84d4-11ee-bcd9-8bd03f0dde81",
          "history": [
            {
              "current": "821619ea-84d4-11ee-bcd9-8bd03f0dde81",
              "next": "82161a52-84d4-11ee-90ba-8bd03f0dde81",
              "previous": "8216197b-84d4-11ee-beed-8bd03f0dde81"
            }
          ],
          "next": "82161a52-84d4-11ee-90ba-8bd03f0dde81-1-79c3",
          "previous": "8216197b-84d4-11ee-beed-8bd03f0dde81"
        },
        "id": "swvRenh5C4DV"
      },
      "source": [
        "---\n",
        "## 手順2\n",
        "入力側が0~15までの10進数、出力側が4桁の2進数となる関数`step2()`を作成しましょう.  \n",
        "\n",
        "方針：  \n",
        "以下のように10進数を2で整数除算を行い、余りから2進数を求められることを利用しましょう.  "
      ]
    },
    {
      "cell_type": "markdown",
      "metadata": {
        "lc_cell_meme": {
          "current": "82161a52-84d4-11ee-90ba-8bd03f0dde81-1-79c3",
          "history": [
            {
              "current": "82161a52-84d4-11ee-90ba-8bd03f0dde81-1-79c3",
              "next": null,
              "previous": "821619ea-84d4-11ee-bcd9-8bd03f0dde81"
            }
          ],
          "next": "c9a0db1a-84d4-11ee-9989-8bd03f0dde81",
          "previous": "821619ea-84d4-11ee-bcd9-8bd03f0dde81"
        },
        "id": "VnS86SH-C4DV"
      },
      "source": [
        "![](data:image/png;base64,iVBORw0KGgoAAAANSUhEUgAAAUsAAADeCAYAAAC0ayLaAAABW2lDQ1BJQ0MgUHJvZmlsZQAAKJF1kDFLA0EQhV80MWoEPbARLFIpQpSQKNYxRRAsQmJMVFJcNmciXM7l7kQEEaxtrPwDiuAviKX2NiooiIXaaGOjcI0e62yiXqI48JiPx9vZYYCObpVz3Q+gZthmJjUTLiwuhYNPCEFBAEMYUZnFE+n0HEXw3dvLuYZP9qtxOatH21Eu+fH99gO/eM6/HvzNt1VvWbMY9Q9SlHHTBnwR4vSGzSVvEQ+atBTxnuRKkw8ll5p80sjMZ5LE58QDrKqWie+II6UWv9LCNX2dfe0gt+/TjFxWziENI4EscqQwCkghjiks/JOfbOSTWAPHJkysooIqbHqZIIdDh0Y8CwMME4gQxxAlxeWdf9/P86wiML1LXxU9b9kF6gbQ/+h5o3QfpQs4e+Gqqf5c1ef4rZV4rMmhOhDYF+ItDwTHAPdGiPe6EO4R0HkLnDqfQvtlXuq/NFgAAABWZVhJZk1NACoAAAAIAAGHaQAEAAAAAQAAABoAAAAAAAOShgAHAAAAEgAAAESgAgAEAAAAAQAAAUugAwAEAAAAAQAAAN4AAAAAQVNDSUkAAABTY3JlZW5zaG90q6BSQgAAAdZpVFh0WE1MOmNvbS5hZG9iZS54bXAAAAAAADx4OnhtcG1ldGEgeG1sbnM6eD0iYWRvYmU6bnM6bWV0YS8iIHg6eG1wdGs9IlhNUCBDb3JlIDYuMC4wIj4KICAgPHJkZjpSREYgeG1sbnM6cmRmPSJodHRwOi8vd3d3LnczLm9yZy8xOTk5LzAyLzIyLXJkZi1zeW50YXgtbnMjIj4KICAgICAgPHJkZjpEZXNjcmlwdGlvbiByZGY6YWJvdXQ9IiIKICAgICAgICAgICAgeG1sbnM6ZXhpZj0iaHR0cDovL25zLmFkb2JlLmNvbS9leGlmLzEuMC8iPgogICAgICAgICA8ZXhpZjpQaXhlbFlEaW1lbnNpb24+MjIyPC9leGlmOlBpeGVsWURpbWVuc2lvbj4KICAgICAgICAgPGV4aWY6UGl4ZWxYRGltZW5zaW9uPjMzMTwvZXhpZjpQaXhlbFhEaW1lbnNpb24+CiAgICAgICAgIDxleGlmOlVzZXJDb21tZW50PlNjcmVlbnNob3Q8L2V4aWY6VXNlckNvbW1lbnQ+CiAgICAgIDwvcmRmOkRlc2NyaXB0aW9uPgogICA8L3JkZjpSREY+CjwveDp4bXBtZXRhPgomUkgFAABAAElEQVR4Ae2dB9wWxfHHNwYVsVdQUOzYK2LBEhs2VMTee+8lqPFvTdSIvUVRg4JdFGOssQYrdtTYSxAbGhFrsN9/vmP2vOfee/o95e6d+Xye5+729vb2fns7Nzszu/ObQMgZGQKGgCFgCJREYKqSZ+2kIWAIGAKGgCJgzNJeBEPAEDAEKkDAmGUFIFkWQ8AQMARazix//vln9/vf/979+9//DlvjmWeecddee214XG7n8ssvd2eccUZitldeecXtsssu7rPPPks8n/VEcPvxxx+b+hjWZk2FuyU322+//dx2223Xknv7m3700Udup512cu+8845PKrt97LHH3O233142Xy0ZmsIs6cxLLLGEu/vuuzvUcezYse68884rYGaXXnqpO/fccx2dshitv/767qmnntLTgPnqq6/q/vPPP++WXXZZ99VXX+nxs88+6/7xj3+4GWaYoVhRmU5fc8013cCBA1N/Bmuz1CHNVIFvvfWWm3feeVOr8yGHHOJ2220399NPP1VcJrxh9OjR7t1333VPPvmke+655xz9mx8CFecnTpxYUN7f/vY3N3To0IK0tA66pFVQqXK6dOnidt55Z7fttts6OP/SSy8dZv/jH//o9tlnH7fiiitqGl+T6667TvNNNVVxXr722mu7Aw44QBkmjHCmmWZS5nrooYe61Vdf3c0444xa3iOPPOIGDx7spplmmvCeednhpXn//ffdFVdckfojWZulDmkqBQ4bNsyNGTPGXXLJJW7mmWeuqcz7779fGQptzO83v/lNh3JgRPTFN954IzyH4wwCDB/SJZdc0p199tnhuXI7jOxefPFF99vf/rZc1vD8yJEj3Q477OCuvvpqfWYEoM8//9wttNBCWo8ffvjB/eEPf3B33XWX23333d2mm26q/X7uuecOy0hzJ1VmSeWnnnrqxPode+yxChZSEF+JHj16uAcffNDdc8897oILLnC33HKLXseXhHNIi2+//bY2DF+jlVde2S288MJh2UceeaTjK/Lmm2+GaTfeeKP7z3/+48466yxNo1EpD7CrpX/9618qkb788suOoTzPtthii7nFF1/cbbjhhq5v377VFlk0Py/h999/76addtqiebg/jHG66aZz5P/vf//rLrroIv0IvP766+62225T6RoJm+dF8i5H3333nV6f1Fm41tqsHIKVnadt0/pYv/TSSzpCK9bPKqlR7969VYCAUcK84u0/YcIE9/e//90hDcbfSfoi/Yo+Wg0hvMwzzzwVX/Lhhx+6O+64wyHsrLLKKnodqjZGifCNKMG0eZch/0zR8+X2P/30UzfHHHOUy+ZKMsuPP/7YIandeeed2nHg4nFCujnhhBNUJIbrL7PMMipuH3zwwfGsbvjw4W7HHXd0VG722WdXXWX37t0VEJ/58ccfd3POOaeD8cEUfOOQ3zPLc845x7333nturbXW0jKRVmEeNOwaa6zhjjnmGLf11lu7r7/+2k2aNElBv++++/QWlEljs4XZxOmLL75wxx9/vPvrX//qfve737n55ptPmTtfOa579NFHXf/+/R06nVNPPbXk8J5nGDJkiKoEGC7EOwwSNB8KhhcwQ16m3WSoAp7xlxSVAxJznMDvhhtucPPPP79bddVV9fqVVlopni08Rlo47bTT9CPCCzn99NO7fv36qZSw/PLLh/n8jrVZ8oikXNsigZ188snKdGBwdEY6/YUXXpg4vC1Xnm8PJL0tttjCdevWzSfpkJQ+8cknn4Q/+gPvW9euXfXjyUjM0yKLLOL4FaNrrrnG9enTx+27777FshSk0y+QHOlvkydP1j5HvyMNnkCfQhqmfowuYWx8QOjb4ERf5MO87rrrhuXS/xZddNGQUXICwSqpD/CM8f4SFlRmB4n0qquuUj6HOrAUFWWWV155pUN64+GhL7/8skM5dHIekHOrrbaa44t166236hdpypQpyiiiFyEVIelBMBuuR9K86aabwmzbb7+9MjyG2MVolllmcZTPVwRGyQ8ibdddd1WmBoAADrg9e/bU8zTcmWee6f7v//5Pr9XEyB+SG4wDMR7mxFBj1KhRzg8H+AoDLrgg8jNUeeKJJ1xcXUA5+++/vzJpX3xc/4p0zYdj1lln1ZeflwfFNIyMvKeffrq/VLcwaF468lGPgw46yL3wwgtu3Lhxic9ScHHkAGZ87733ugUWWEClT3S6Dz30kKMzIUHHv/7WZhHwZLeStuUK3hPeGz5mMAgv/dNevFtzzTWXFlxpeZpZ/hjxDBo0yB/qFibFO4N6i3eXH+8//YEfbR0nRm18lGHoCCEYSVHn0KeoE8wOYQTyAgZMkSFvXArjvUXV5QmpF+GGfPwQfugjs802m1tqqaV09EkeJFqEBH7RofM333zjUDdER0c8I/0coYB6wpcY6dEP6Q/xPujrUm6LsAc9/fTT5bIqEIJFIckwjlk9gTCLQCzJun/00UcXZpKjzTffXM/JVy08J0wgkIoHAkwgHTtMj+6IviUQHWMgVvBApLdAGi78bbzxxsGJJ56ox/IVDaQDB/JFil4e7osOJBBGGGy22WZaTxkiB8Jk9b5iJQ6koweHH354mF/ADqThwuPojrwIgRhLApHKCuotX7xAPgTRrLovIAfyQgZiiOpwTnQqgbx0wRFHHBEIM1SM5KUtyCcK9OCUU04J5CUI0+UDpXm5vhTJ8EQxfvjhh0tlSzx30kknBfLBCqRz6XkZPQTyoup95cuaeA2J1ma/QFNJ2/Ju0H9EeAhEutILwVs6tqbLsPGXwuS/kvJ8ZmFger18oH1SzVv50GpZ9DGI90IEn+CBBx5I/MnoUvPLyKTDPUWXGIhKLBCVWCBMrMN5EkTACEQwSjwXTzzwwAP1XvLBCU9RvgzlA7GO608k40AMUHpe7B0BfQKS0V4gVnzdr+RPPl7Kh8CjHPHV6EAy1AxkeBgIxw9kGKYVjzNLGUoH8nUI5AsSdjxfkHyR9BoRm31SwRYmKTqRQL5mytDkyxb4nwwvtExeIvmKBL169QpE2iq4ngNeGPk6axkybA5E0go++OADLWePPfYI5OsbiAI8ELVAeK18kZQ5hwmRHZieDFsC+XJHUoNA9JOBqCIK0vwB6TJU8IfhlvqIrlOPZRivWMSZZZg5ssOLSyeTr3EktXBXdLKBSCvK9EWPq4xOVA4BH6ko0fiiVw1kiBFNTtzfc8899b5HHXVU4nkSrc1+gaaStuUjSTvSh6IkErymy3A8TK6kPJ9ZhrKBSFGBDLF9Us1b0UtqXbwg8qc//SkQCTiA8SX9+KjyTLx/1ZCoIAIZdgfwj0022aTspf/85z/1Gel3nll+++23gUikwXHHHRdez3kEI6geZhkWWMFOIrOMXleMWYriVcFDuowTnQ5g//KXv+gpmBpMFakOBiZDW02HWca/NnwVLr744niR4TESIBIZXxnR1Wk694NBQjS+DH8UcBkmq/TnXwheYr5aScRXFSkySkjGSIaiw4kmh/viC6r3KcUIq2GWMvRW3HgRkkjUCMoAwXajjTYKROUR8GUEsxVWWEEvgUmLKkI/ZEiM4m2QVFRBmpd4REURplubuaBUuwJUsbblXaKNkDCjBBMiHWyTqFh5Pq/ouHUk5Y/r2cL0qAvSKoRAwmiIfpr08yMkn7/cvUXVoIKE6BK13yNlM2osRYyyFlxwQWWCMG/PLMUGEYjHS8io6Zcce2myWcyyuG+OIFmKMP5ASVYxr/fCkAPhXynivf7Q4aBfqZXQ2eGITXnogrDcoRz3BiX0I+jZ0MVgQUdniaUY4pqo25KvA7oY9I/rrbeeT9ItLhboRtAXJhH6E5TU1KEWAh/0WvJxUAdgDGjUP8lPTDqa22CDDdTijUIa3RG6K3xK5SOg+l98Lnk+dE5gghEM/Wwpoh298Ute5jCrtVkIRdU7xfqGd3FDHyhMo+pyMZgII6v6ukovwF7AO5n0k1FbpcVoPizp8kFXAw/6QPnwhBbrYgXxjuOPjdXb8wj6JXYGPFwwYGIUpTz0nFGjVbEy00wvauApdxMaHIIxxclbfVHUQiL1hFmw4qFE9oSxQYba/lAbCkaAocNbwmEGWMsg7oerAGBi8EAxjUUXxgXYpAOiVw5vtdVWaoFcbrnllNFgSYwTDrjU1Vvb/XkYGQ1E2UmEexOK5Vqdd1FYixRYUPQ666zTQYFOBtHLqnIfbGCKnjDOYHGH+Ejhy4ZhqlICWxnmKLPmRfVkbeaRqH5brm9gEAXzpL5T6m6NZpYYfWBGSUR9KyXqCZOTkaUamkSqdDICVU+SUmUgeMVn3+AGhxEYyzyGXWbjYamnD3iPAPq8Z66lyq/33K9cq8qS+EpCWKni5L+aPk/8fPQYVx+Ykies5EiEWBM9s8RiHCUYCg3L1wqpEB8uXCGwdnNv7otVG0YMuFj9YEq4E8kQKFqU7ovory8ulkoZCmkaDBRL+GWXXdYhv0+AUYluteqX3l/PlxdrHC8iLiG4ESER4p6E1ZOXwxNTz3Dg964T4I5bF9NCsYwzo4EXqhpGiesUnQMme/755/tbld125jYrC45k8O89bRR3HOf9RFjAWl0tcS2WXwiXLlE9VVtEyfy4lTGaSiIkuUoJqzd+yDfffLPDHY13mZGKF54qLYd8Ufc+RpI8P/1YVHFhMfAAfo2mqWq9gR8OeNeiaDl+ClISY4rmgxnydaWz+h9SIsyRYyQ23B6iTIPrYTB8nWGoSFzs44wulnWdDQTThFFClA8Dxi2GbRIhCSNBMkyH+ErBgJAoYbZJhO/ciBEjOkiGSXmLpXFfJF7877gPDrgwfYY8119/fcFlMELPKKkfrhp8vcGCIUpUWi+4sMgBX/DDDjtMPzRIq+XayhfT2dvM41BqW6xvoEKiv6BqiTuClyrPn4MJif5dR0iie9dhLQyUPsK7UA/RrrxfMOGknxcayFcJMWKB0SEtohpCNeFxqeR6nwecoliJAUhVT0iqnsCzlo8P1zPEx7UQVVg5qlmy9EPPpEZCyoEQl0sRXwP0j4jrnvBH8w3Ci8A+P6ZDxoef+FHSKHyxYDR49uP0GyUYKbMRICRFz3Ciedhn2I7kxrRJGKG45Wh5SUwIBrXlllvqbB4/BI6XV8sxjB2JmFlJXt+bVA46WPQ2zC7iowKBUaW+ZkjE22yzjTJY/F7Re1ZK1mblkaJv0C/44VfoCb9iPnTl+oXPH9/CbGA6rJuAesk7YvPOoudDkvOSZ/zacse0K/6f+BAnkZcsK5Xg0H8iyCCAoGajjzMJoh5Ct045vP9RBuqFnFrKhodQL7Z8gEpRzcwS/RaNDnNjho+4Beh9YDRUnhcmytw46afk4ZCNZIRTKUwQx2jPlPzsExyuIZgADeSZgibK31577aXO7xgz0IkgpSENUqYnvuToKLke738MIgyzk14Isai71157TfWhSHtMpfTTrHx53iAjLgzaCXCmr3XaGRjw8kf1pDB2mDQU1R/6+/stnQ6copgwzInqGX3e+Jb78hKDCVNM40ateH5rszgi5Y95t/kwI6Gh/vHviJ8hwko6tRCjDpglaqvolD+YJ+85IyGMdEhzzJJBd8iPkRajB29LSLo37wGMln4YZ7gILbwvGE1hzJUSo0TeNT7+6B4ZidVKqKl2kwkVqJ5wRC9F1egvsY3gAO8NxKXKTXQdwhEcFxt+OI1LAYEwED3Gn1EMK4JfoC4+nBMdjZr7ceHBGZ003IKiJGK8uibIzBbNL7qR6Omq93EfgChHmI7+8D8UnZ+my9dCXRVwxxCGqmm4GuEwjyuCAKpp8b+k9PHjxwdiidb64/YhVmv1HYtf649xwfH4yQujeMgwWtO8uxPH8lKqC5DoVNUPDfcKsBNJLxA9pi+uw1aG0AHl4lyOL2yccFGROeIFzvU+jzBYvQe+nPjVRX+yaIH62Pm81maFbQYulbQtLjDCuBRn8aRQ/0DcwWhbJk7IR9FDXFF5PrMwLHWZi/oO+3O4x+GzKcwpwM+Zfotfo0h4gaifOrhBedchrqPcSn+8lzKSK/l++jqxxZ9TBJgAn+CkdzWaN7qPk7x8aDSJyST0cfpguTJwORKpO1pUavuJzFIkDm1YGjf+E/FXAfA1YDaCfMnCfPhJxRklTtMwBu8gLUPlAP8r/Pt4+ZgxhIc+swTwwZQvcsBsEvwpcYaGsdDoIobrbUXaDEQnGchQUl8eXhKYJzOJZBgbiK5E/TlpIGbKRAlfNZzp5UtcMHsmmidpX8R/9esq11hcKzqaEI84fjiAQ6Kq0JcaXHwe+fLrC4JzfSmiDjj5wvhhmjj0M9tKdFeB6HfD8pJm+ETP+/v6LeV5n1Rrs1/ffd9mtEklbUs+cdsKROWj7xr4MtkC31iPL3mgSsv7JfcvkyRECvKHNW+ZiePbvZYt70cpgvnK0FZ5Ax+I+HOXupZz4vIWyHRgnbwi6qlApPWiAgoCDv7G/MT4G4guvlzxNZ3/DVcJWHUTw2HE/CRDAQYIrMZRtx30bQxVsJThD8jEfwFY68GwhR+uAVi6+SH+o1NkiIG/IUN3fLkQn6PWcuZkM/xhyCCMtsOQghuwcgnzshmap7l6UC0gom8FO/RPqAgq1TtyL7wBsNqjCgE/jxdY8WOI7/Va1dbN2qxaxJLz4+nAeoy8/17VlJyzslTKo02jOrvKrizMxTuHqgz3NwxHlZJXi2FQKTUkx6oukqH2M/oi+vhqCJ9j7BnYJLA5iKSZ2JcpE76BShB/Z3TEDPdZ0CdtSo1Zpl2xUuWh2+PF835W0bzoZ/Bz4+UsReg1qmFMpcqyc+URsDYrj1Ezc/D+oweM6vibef9y90KYQpDA4FkJ8TzIfXF9ayXXVponk8yy0oezfIaAIWAIpIVAzX6WaVXAyjEEDAFDIAsIGLPMQitZHQ0BQ6DlCBizbHkTWAUMAUMgCwgYs8xCK1kdDQFDoOUIGLNseRNYBQwBQyALCBizzEIrWR0NAUOg5QgYs2x5E1gFDAFDIAsIGLPMQitZHQ0BQ6DlCBizbHkTWAUMAUMgCwgYs8xCK1kdDQFDoOUIGLNseRNYBQwBQyALCBizzEIr5aCOrBpjZAhkGQFbSCPLrZehurOkWEqrAWboqa2qeULAJMs8tWYbPwvB5IwMgSwjYJJlllvP6m4IGAJNQ8Aky6ZB3blvtPbaa6cKAIu9GhkCzUTAmGUFaBNTmChwSUR4C4mHk3SqaJrEKHJDhw5NPE98c2KIE5WvUkIXyHL/cSJc7rXXXhtPLnr85z//WWOJJ2XgOSUQVlX1ipZDvOe0iOddfvnly0amTOt+Vo4hAALGLBPeg7fffltjh0uERI1vQ1heYoUT64Y0wv2yJD9EHJ/HH388oZTCJOKSE5cZIu4JTBGiXOJ2S0RGPYYpESNIImbqcdIflmXCapCHH/vx5fdhKBK4ye28884lY5D78gn7IMHnNDwv+/wI0SFRADWs6gUXXKBb7uXPs4WpSzCqRGbty2Z74oknRg/r2idGNvgRK54PWa0EjnxQ4kTMF7AglLKRIRAiIJ3KKIYAUeUk8JGG/5VY3AHhY2eeeeaAfUICc27gwIEBUSYJeUokSsLt8iP0pzDDMPyuL/rUU08NJEa6XkO4TiL0cf0aa6yhYYR9vr333ltDl/rjpC2hcwlzSrhffkQIlJjKBVmPPfbYYO6559bwoUQZLBValwuHDBmioX6JFikMUSP/SaC4QAJTaZQ9eWECouz50L7gwY9jInVKPPKC+zfqgCig3I8ooHfccYfuS3C1mm4nAbcSsRYJW59fPgY1lWsX5ROBxFC47fiooqMq2+Hj9RYJMKAj7b777hq3GGZHbGyJEhmIRBHPXnAsgeGD1157TUPpHnnkkRqOl7C6pIlUqXlvvfVW7aw9e/YMJFKehqElVDChgUWSLCgPZrXSSivp9Z5ZEpaXmMoSmVHzEuKW+Mh33XVXwbXxA5GIgu22206Tx44dq2GGYdCerrnmGq3XE088oeF+YfB8AIoR9yNUq0hqmoUQxDB26LvvvtM6EooUmjx5cgCTKVdHzRz5I451vUQoZZizSH5hUYRPhnnyMaqGYIR8AB566KEOl1Em54j/bWQIeATanlnedNNNKn0RUxtGJOFiA5gFnbgYyfBRJTcYwMYbb6zSAy//yJEjNSb5HnvsEVCehNINZPibWAwMEIYhhgmNx80x+6uttlowxxxzaEdaZJFFgl69eoWB388///wOTJLCia1OLOOjjjpKJTikSRg3x0iS1ANGdffdd2snPeCAA4LDDz9cf1x30EEH6c9XFGbvmSWx06OM8MEHH1Tmcdlll/nsgYRiDSREcXDggQd2wA2GCk7ERfdEjGcJjxqI2iEQXWOw6KKLBjIc96cD0d8GSK7VEPjXSkjrok7QeoqKokMxMG4Y5n777Rd8/PHHHc4nJRBjmjp9+umnHU4T051zSO1GhoBHoPY32JfQwK3oAvWlpSOsueaagcT41mNeZIkJnnhngtsz/IQZSUxyzQPDhSEQ+N2ThNoMFlxwwUB0fToc9ul+K6F0A9Fd6iGSoBhxdP+DDz4IYJwMe8XgocyRYPJIhUsuuWQgMYt9EeGW85TB8G6zzTYLnwGp8vTTTw8lXcpkyIyUxI9n5FkJOM8HwhPnYJYSV1mHzC+++KKeOvPMM/UjQJlxAosFFlhAcYEJegJjmB/0wAMPKB6rrrqq1gPM4z8YPefBzUuivqxS2yQJrlR+ziH9SfxoHf6j+qCuxQgJmzrRzuAWZe5J19xyyy06Akg6x8gB3BlFGBkCHoG29rPEoIIC/7jjjnPdu3eX99c5YTru+OOPd7POOmsHyywW4XXWWcdNmTLFPfbYY27qqafWawjYPmbMGE3ThP/9iXThpOM7YS4drMAiwTrcXUQvp0YAyhTG4WRo5m6//XYnjM2JxKdGAGFwTpiglo/BRph79DbhPoahjTbayInE6maZZRYtl3uIztMJE3ZLLLGEE+nInXPOOXoNhqNBgwapASUsRHawzFOWfBScdGh3ww03aH0wDB1zzDFqpMEQ42MoS2NrIHqMSKLncxiRRPJ0opKIFutGjx7tRGLUIPUFJxIOdtppJ4fRRyT3hLP1JdGOeAxgFGJfJGk1KmEYiz6Xvwt55EPoFl54YcWEZ8A4RfsI43QiJfus4fbCCy90oq5womsN0/zOxIkTtRzaUlQYPtm2nRyBLu38/H369NEOGa0jTApmKbozDcIuOqzwNB1AJAz33HPPhYySk7z0oi8M8/kdOsK+++7rLrnkkg7M8vrrr3dffPGFdjZvucY6insNTGa99dbzxSiDvuKKK7TzFWOU1GvzzTd3IhU6GVZq/e+//351x4FBYlUW1YAT6S4sF8u7SKvhcXxH9JtqoafDw2wfffRRtV7DCPlQiI7VifTpNthgAyeSrxNdo+OeuDrxEYgT14DrbbfdFj/V4RhLOIyrUqpmuiPWdSze4AzD5MNy5ZVXOtHthswSLwTquv322ytDhVmKesTBxLfccksnUrZatPnYrLzyyh2qSduCnwy19SMBY/UkRi3dNWu4R8S2IFD5294meNGRIJhklFGShtQkxpgCBgOTgJnQiZIIl5uLLrrIiQHG+U5CPqQUmJjo+rTzIVnC5MT44WRYr0Uh0SDJ3Xfffdpp6XBIcdF7kQdJkM6LtLTtttsqA6bji5Vd6yY6N5UMkYaZFoi7zpxzzqnuMaWYJfdGyoWRRCWkAQMGaP2QysVY0cHX0kuuminyB0ODYYuaIZKavEtefo0gJGaYfJTESBc91A+Z6Bsdo4Y4idXeiceAjki8dB3PAyOkvfl40WZRos2gRj1f9F62nx0EMudnefXVVyu64jpTgDKSBdJbVOIjA5IUEkj//v0L8vsDcf1RyQRGCH3zzTc6FIVZIqnAgJG46FBIm6I3dfvvv79DihWdoxN3IWVqYtlWpgkjwmEa6Q4GS6ek4yMxwii5z4033ujEdUjvxxCRTnvyySerBMSQ3kt2XCNuQZov6Q9GIEYrZd4MrdMgGI1Y9sv+yFcNic6ymuyp5C3GKCkcKRvJffjw4U6MaQX3E723HsO0jQwBj0CmJEsxyqgOE+YlRg//DLplyAmjg8lFCWaCXhKmmETowaaaaiplDv78Rx99pI7hYvnWJO8gTr5LL71UdZNiwVZdY5Rpw0hxcj733HOdGHVUImWoh4Mz0/MY+iFdihFC64MOkXT0ljitQ1tttZUyYlQEdOYttthC04v9iaVaVQxItxtuuKHq7hgeU1ekVyRmr+/lXl6/JwYfh142SnwQkNbElzGanLhfzQyjxALKJOL0L+5K4bCb54kSHyk+kHH1Cs9AOs+JaiRpCE45jBjQ9/IBE6+GaNH6QYPRGrMsgKXTH2SGWdI5YRwMqzHyxCUusWw7pB2MNp4JwEDFeVmlvGItjcQjlm+9ljwM7a+66iodvjL0o9PAfBiSIVF6YviO1MkP8oyITrrrrrs6cQvyWVWnyawgpExxeXLi7K1MHSMEBDOmvHvvvVenOqKTpYytt95aO3VYUJEdJFmYCwYh6kmdYS58KDD6+CmPUUaSNNSGyYCjuEAVudOvyXwUyF8p8UHg/pUSKgqmhHr848wSyR2VTPyj6duBusWZYPTefEChPffcM5qs+7w3MErubWQIeAQywSyRjpAyxFFcmQnW8Tiha6MDMHTFMk2nQYc4v0iUzLVOIizK4uqjQ+D4eYaiDN299TWqv4L50BlhaJ5gBF5qi0skGJigffbZx4kfYDjMRpqkQ4uPoy9GmTZMGd3osGHDwvRiO0jbqBpgGpTFNdwfDBjiM9zs3bu3MnUY9qGHHlqsKGUOqAyQzidNmqRWfYwrnjDq8NyUyTbOwHy+NLZ8QLylHWyRuMHFq1kw8CChw4QhjFtMJz3iiCMquj1Yif9pwYiCC7kXowLPTCsqzDJ1DgTk5WhrEmlMp/bxHsswM+C4GOFfiJ8dfolieVb/PJyuk0gs5up3iP9eqTKFKQSrrLJKgKOyJxzGxYqu0xqZOYM/Jr6L+G6KKsBnK9jiLC7MRR3RmRmCAzrHMtQuyCdDdZ1SyfPirJ5E3s8Sn03KABcc8UU3qw7z+HRCYrgKxFVJ95mxhL8q/oWVkFiZ1YE+mlcYrdY/mtaMfRlO68wdmaMf3o7pmUwu8ER7CmMPROL0STVtmU4J9sJ4a7reLsovAm0tWSIdshAEFl1xAFcXD/SVxYihL3oodITo/NC9CaMryI5OjuEp0il+jTfffHOBm1FBZjlgKIbxBMk1Svg24rsJyeuhkhaSJQYojDRx2muvvRx6TnRtSHqUh+SLkcgTw3RUDUhtSE64vaBSwMIfJe7HDys+bk8MWbkWK7g446uByucHQwh9Kv6kSMO4ZHkrO8N36oEE7dUN5Mcyj0UePD2h56Q8roGog5emwd7rXX3+6PafsurQ78TSXy1xncxoUov/MsssU3A59/eEKkI+QCqNoo/ETataQi2CdR1f3bgutNqyLH/+EGhrZslwCMsxhC4x7j7CMC06xKazo2/ElSY6bOZ6hlz4VDJMx8rNcA33kmJ+kVzjCQYdz0dZ+AJWSjAdyuH+GGNgbjwbQ32ZsugwKsFQ0Zehe0SnyLPgawiDx/3IPxMMih+qAgimATZYcdElRofHMF5PWH1FwlUmTD6G2DDE3XbbLVQ3wAxx5GaIi244WhbtwX3JD3FfyictbljTDJG/anWWXIq6A5xpq7gDPef9h4B9iA+jzNd3GN1QN6DKqFTvCMabbrqp6pPxejAyBOIItDWzxJoLg6BT4osYJzp6lFn6856p+GO2SHNIG0h3OGmX6kRIaxiUYL4wC4xKMAruB8mQXLeySIduo3+ekWFs8i4pdGokJKyzSD8snYYRB8kQKRi/SiRdpEyYmTe+YKnlWqRBZjMhtfLRIC3KKJB8uQ5jTnS2CjNRovmoJwwYowbMAWbJTCgYEfUWlYUySPSV6EHjlmSMYWBSzkIfxaPWfZZJY1SBf6qXrDGOgRUfGtzEkJDjxAhEVA3qiYBzOpJ2OQJXGDIMnVFH1N+23LV2vvMg0NbTHVvVDDBBZsR4ZllNPWBOSFsYKJimB8GcYWgwavwrYVCeMFrg64efJRJdEhOHCcI4+GAwnIbRYpwq5uKz7rrrKuPDzxPpV/R7/naJW4aeuETxccICzzUM7eOEkz6YwOSbQXwgogwRVypUJxAuWTBU794Vrw++tVGc4+f9MYwX7PFQYGZT0ofW57Vt50bAmGUT2t9PDWRoGyf0ZEhyuC+VIpiwHxKjUmCOutc7xq+D0WN1R93g3ajieaLHDN9RE8B44rOiovlkwQ6VspnbXi2ddNJJjl+9hLsQ+l6maxpjqxdNu74aBIxZVoOW5a0ZAa9OqbkAu9AQaDEChdMiWlwZu31+EajFEp5fNOzJsoiASZZZbDWrsyFgCDQdAZMsmw5557xhGvrKzomcPXW7IGCSZbu0RM7rYTrLnDdwJ3g8kyw7QSO3wyOyiK+RIZBlBEyyzHLrWd0NAUOgaQiYZJkS1KyMxHqVxYi1K5nRQ9yXJIqeZzYNM2zyRH51oDSfqRzmld4LP1gc8o0MgVIIGLMshU6F55iOiaN2qfnRLLxBYDIWo0ii6Hn2mVrJ1MS8ENM906RSmHOuGDFlkuXcmOHjibaT1ad0Wq1Ps60hEEfAmGUckRqOWbSXoGYDBw4serUPhxGNzxPNHD3PiudMK2QaZF4obZ1lEubMu1988cV10ZNll122QzRPsJTY6U7C+RZ8tGg31vFsReiLvLRvp3gO+Qob1YmALEysayDKsmqJJbHmpViDA1lGrOLzrFEpL2Agy6ElXtPZE+OYy5RRXfOSePHykQl69eql8eNl7ncIlV+rUubjh2nsyKIcivWOO+5YkG4HhkAUAYYeRnUgwEK+ssKQLrorqxMlliRLhWlnlGBmFZ+XZeb0GongmHhN1hJh/GlREuayNJviBUOEJGSxHvsFg2UFpkBUG4HELEpcoFlW1A9ktSFdQDmtelo5+ULAhuF1jh9YAJjVfQjjwNA5iTDqsJpQ0pqM5E86zzJo+Cayso5RIQJJmLN0G+SX0WMBYIggdhBrhaKnBOukBU0IW4LBiLVGjQyBJASMWSahUkWaX9uSKItJRDxvVhZnFXMfZTGar9h5VtUhP9En5fscvSST+2nqA5Mw99gSZwjy4Wx79OihAesILMdiz8VWQPft56/PJMhW6YYikCwKNfSW+SqcdSUh0ZElPpg33LAeZRKVOk+ZLODLKupJ60smldeuaWkupJGEOeXzgTn22GN17VBWyyfoGGuLsrAvq6izbmcx8u3Hx8nIEEhCwCTLJFSqSPP+kL6zRS9lhXXcgFhYlng6cSp33peZhw6MSiEtSsKciJMMoZEciR/EKvOsmM5Hinsz/CbeEivrE6oiLunmCeu0cLZyChEwybIQj6qPvCO6HwZGC2Blcxb2JT4OYSbiVO48Q0joww8/jF/aqY+LYQ6jJAaPJ2LwoOa4/PLLNfYRTBJpkwWECRPyyCOPhCFvDWuPmm2LIWDMshgyFaZ7Jhh1cvaXlhpik6fceeIAQUmhJvREhv7S1LuWwtxDQgxxwnpgeMO4Q/RH9JJInT7CJtKmjw+eJ6w9BrZNFwEbhteJJ0G/IG9Q8MXBPDEqEIExSV9X7jzl0Kkhfw89yOhfmjN4PB5xzD00TF1k+E3wNoLEQTidE4aDITltwrAdfbCnPGHtn8m26SJgkmWdePrYOb6z+eJuuukmx9Q6Zuwk6evKnaccX6a/hy87i9taQuEWe06Ph8cnno9okHgg3H777aErEQHkiHcEMfcefTG6ZE++LF+2T7etIeARMGbpkahxy/AOGj9+vG79X7khdrnzdGZ0lUQonH/++X2xthUEimEOOOiBiVS5zz77FEw/7devn7vzzjvVyENwNqRPwuZ68u3ny/bptjUEQgTy5WPf/KcRvzydKSISSXjzt956S9NkgYYwLbpT7jx5pWNrGWJFj15q+4JAEuYAI4afQAw1wSKLLBIwyydKwiB19o68+IFEyQxkmB5Ep0KKcUjxHjduXPQy2zcEQgRMZxl+NmrbWXDBBVXSwZn5+eef10IwHEDFfCvLnedahukQM0vyQGmGlUjCHIwIkcvKTiyyEQ/pS/xx4pAjrbMk28iRI93UU0+t0KLPfPrppx3lsgCHkSGQiEDINm2nZgTOP/98lUr8PG6kTJn6GEjs7sQyy50XXWcgDtb6k46dWEbWEuXlS7XKcczrKfyMM87Q9jv55JPrKcauzTkCJlkmfkKqS9xzzz3V8jpq1CjVhckw0A0ZMsT5+cnR0tCVlTpPXpyr8SXELzBqhIiWk7X9JI+Aep4hink95XAt7cZ8cZZvMzIEiiFgYSWKIVNluizz5SZMmOC22WabKq/smJ1hIf6ArLPo3WQ65rKUtDCXlYr0Y7fmmmsaqIZAUQSMWRaFxk6kiQA6yzT1lmnWzcoyBCpBwJhlJShZnroRwNdUVFp1l2MFGAKtQsB0lq1CvpPdN+2wEp0MPnvcNkDAJMs2aASrgiFgCLQ/AiZZtn8b5aKGjQiFmwtg7CEyg4BJlplpqmxX1HSW2W4/q71zJlnaW9AUBExn2RSY7SYNRMAkywaCa0UbAoZAfhAwyTKhLc0nMAGUOpOSlqmrs0i73BBoKgImWRaBm85NnJa0p+kVuV3uk01nmfsmzv0D5lKyZNHdeh2gYZTNtOBSX+qdV4oHCMvrc9pz5ReB3DBLwsUefPDBrmfPnq5r1666AMU666wTLptWbRMiUfKrd4rejTfe6Hr37q1zj2X9xA7VuO666zRM67TTTqv1pv7HHXdc7hinSegdmt4SsoZAXlZVGjBggC6ztcACCwTrr79+IPFX9Jilzj744IOaHlOkIS2jloslPkwgC2Ho9fJO6HbKlCkFRclCEJouq6EHsgBHwEK/EpxM0/xybwUXZPgADNImiaETSMjbQEJGBKeeemraxVt5hkABAum/wQXFN+9AJMBg9OjRwc8//6w3ZS3JueeeWxmPLAhbc0VEIgpgmtWSX7PyiCOOCGCGMIs4s2TFdAnXWrCq95VXXql5oyuvV3vvdsyfNrMcPnx4iCtlH3300e342FanHCGQG2aZ1Cay5qEynqOOOirpdEVpMEoYZrV0/PHHBy+//LJeNt988yUyy6QyJdCW5p1jjjmSTmc2rZYPTrGHlfhFipFEawx22WUX3TdmWQwtS08LgdzoLEW66ECffPKJpnXv3r3DuUoT0LXVEsZVJEa3xBJLVHqbMN8tt9yi+3379g3TbKcQAVG1uAsuuMBJvBxH+xgZAs1AILfRHWUYriuOA+LGG29cF5aeYTaiY3766acakfCrr75yjzzyiMbemXPOOd3QoUPrqnO7XZxmKNz+/fs7fkaGQDMRyC2zFF2h+/bbb912221Xk4TXrEZgRfRdd9214HZY8WUYXpBmB4aAIdBaBHI5DL/oooscLjnzzDOPk8BWdSNMfOlahuKV3HijjTZS96YnnnjCjRgxwkn4XIe7kYRmdZ9//nklRWQij+iNMlFPq6QhUAyB3DHL22+/3R122GHqZ3nXXXclBg0rBkYr0gnfutxyy6mvpRgrdChOQDNxd3LXX399K6rUkHvW66/akEpZoYZAFQjkilmKxVUDhkkYWiduRKnFgB4zZkzTDAnTTTed69evnzYh+sy8kISZzcuj2HN0UgRywyyffPJJt9lmm7kff/xRjSTrrbde2zcpdRZfy4J6Spxw9/DDD2taLdb0gsLa6KARxrE2ejyrSidAIDcGnsGDB7uvv/5aDSPoK/l5klkxbtiwYU5mevikqrboK5Faq6GzzjrLjR8/Xi+ZNGmSblEPIPWuscYaTmaeOHFAd1dccYWT2Ueqo2Ru+A033OBk9o9KxYTCzQtVi19entueI0cIpOWw2epyJL62OidL03TYTjXVVIH4XNZURVm0NuBXLS299NId6uHrhrM89MwzzwRiPAqnOHJedJiBWMdrnqJZbT2blb8WDIvV7ZVXXgkOPPBA/YnEqjiL3lePDzrooOCLL74odqmlGwI1I2BLtJX58HnDhN+WyV7T6W+++ca9//77jsU0ZLaPE+ZeUzntfFGaS7Shj95yyy0TH5f7vPvuu27eeedNPG+JhkCtCBizLINcmp28zK1yfRqndBuK57qJc/9wxixLNLGXJv22RFY7ZQgYAjlHIDcGnrTbCQaJu4soONIuulOWZ5Jlp2z2XD20SZYJzYn123duc3lJAKiGJFNn1ACaXdJWCOTPkpACvEiUYr11xihTAPN/RYCnkSGQZQRMsoy1nh9+x5Lt0BCoGwEMXPYBrhvGlhVgOssY9N6YwxRHs97GwKnj0Ks16ijCLjUEWoqASZZF4PdM02+LZLPkChEwnWWFQFm2tkUglzrLNELhwiSRLjH2GNWPgEnp9WNoJbQWgdwwy7RD4dIsGCVstZx0XtBG6up++OGHdCpppRgCJRDIDbPcbbfdHIv+MmVQQuHqFmkGXdmHH35YAoLip3wHN+myOEaVnmEYniY9//zzbtNNN3WE4OjWrZsumnzhhRemeQsryxAoQCA3zHK11VbTNSzffvttd++997pXX33VSShcJ4squFGjRhU8dDUHJl1Wg1Zz8j733HOO0Bss7rzYYovpCk6vvfaaO+SQQ3IXu6g5iNpdKkEgN8wSprbFFls4L8HMNddcYaAyFqnICjGk/Omnn7JS3YrrmabOksiZhNxgGTyCvF1zzTXqucACJGeccYazYXnFzWIZq0AgN8wy6ZnTCoVL2Y0cirPeJVLRwgsv7FgpnVATssSbk7jjSY/VqdPAColy9tln1/AhHgxWl2ed0M8++8w9+OCDPtm2hkBqCOSWWaYZCjc1tBMKgqGvsMIKDn0bixSjeyUWD8u2vfPOOwlXZDMJ3XEahHoFyXH11VcPRxG+XIK8QXnCzT+bbVuPQG6d0rMSClcWq3UTJkxw++23n7v44otzuZZlmq85H0GoR48eHYolmieUp9hFHR7SElqGQC4ly6yEwsXdiYVs6eQXXHBBrhllWqs3+RAdqCvihPoCQio3MgTSRiB3zDJLoXAfe+wxNeYQj2fqqadOu23bqry0dL4+jhLxluLkGbLPEz9vx4ZAPQjkillicd1mm200KFgWQuGif4PGjRunrjASR0gNPOgwCWaWJ0pLZ4lhB5o8eXIHeCZOnKhpeEIYGQJpI5AbnWU0FO4tt9zishAKFx9QCCa/yCKLuEGDBjmGmXfffbfbY4893M8//+wkuFnabd6S8ryDf70397F1xo4d26EoCQCnaX369OlwzhIMgXoRyM1CGj179tSZOrPOOquGlo0CU28o3EYtAoER6txzz3XHHnusO+2008IqX3311WoRR8J89tlnw3Tb+QUBHNFff/11d8cdd7hNNtlEE1966SX1KmAiAgHLvL+tYWYIpIZAzXEh2+zCdguFWwk8xx9/vIZxFUfqguxTpkzR9DnmmKMgPcsHMmkgteqL14DiI7pJDX87ZMiQYLbZZtO0yy+/PLX7WEGGQBSB3Ogs0WHJgyX+mBHDHOJaiJWHGkULLLCAFv3mm28W3EKYpR7POOOMBelZPkhzQZIDDjjAnX322Q5DDu5WQ4cOdeh7hVG6vfbaK8swWd3bGIHcDMMbgbFfy9Jv074H85kXX3xxnY3y1ltvaYfnHkzZO+aYY9RYdeONN6Z925aU16jFf5nKisuQGXVa0qyd6qbGLEs0N3ov5pw3illy6wEDBrj77rvPLbnkkrogBEwTnWWXLl3cCy+8oMy0RBXtlCFQgMDjT73gVuu3bEFaFg++//57/Qi2Vd2jY3Lb/xUBdGxp6tl+LblwT6Y7BgMHDlR9m7wYgSwGEYhhJ3j66acLM2b8SKzhGX+CbFS/e58BwWNPjmtqZW+44YZgvvnmC8S4GsjC20XvXS6fqMuCE044IVhuueUCMcoG3bt3DzbffPNAZrglllmuvMSL6khEx2cUQwAm2ezOLW5EwSuvvBLI7JNYbfJxyIfAqPEIwCybxTDfe++9gg89bYxxMk6V5pM1EVRogEnusMMOwYorrqjHvXv3DmSaa1hspeWFF6S0Y29wDEgYJY1uP8Mg7XdA/Gljb1v6hzDKvltf1hSGudBCCwWiLgrEBU6lymLMspJ8sphzyBhl5SgFRvyMA1ngWdPFoBeCVUl5YeYUd4xZJoDZjJc64baWZAjUjQDMcs197mkKw8T1TZYR1DozDC/GLCvJB8PlelkjoQAD+iLpq6yySpheSXlh5hR3zMAjLREnb9Dx2/h5O64egUZZw6uvSXtf0WOxDequYJ+1jtAy/jt5gnvvxZvd6JFDG270kaGyrp6F21vXrl2LPkOxfMy4e+CBBxzhQkRnGV7PGgC40OHt4FecCk/KTrHyonnS2s/NdMe0AKEcmCSdmy0/o/oRSGshjfpr0v4leGZXb027zTqfm3eZrdzgXYY0hWHWU1/PCONL7+FLO9NMM+k0YBESWzozKzdO6dGGSiMUroj/GtnROnkU2dr3RRdc+8V2Zc0IRBkmbkXtSuWW3mNiybffftvS6ueGWVoo3Ja+R2Vv3ggJHWlku+2202FadG592cp0sgxZYJh+Wb1iS+/hd1xqeN+MJs0NsyQcQ9qhcOngSJbNkC4ZYiAR55XSXtiCJeyY/cQMJzrYl19+mVfoUnkuGObs862sQ/JUCky5kGJL7+GczlRmpiun/Q5V+wi5YZaNCoXL0mJpzmuON9B1113nxNKncc75crJ60nHHHZdrxhnHoNpjojmyhB0rzBOvyKg8Ahh7Jk14UnWX5XM3P0expfcIe8xShe2w7F5umCU6sUaEwm2kro01OHfccUf3xhtvaN1Zz5KhJUPKRgxbm98Ffr0jOuC0iAVICMPBosl8zIxKI9BMq3jpmhQ/O3jwYD05fPjwglDG5513nqbvtNNOxS9u0pkuTbpPS26TVihcLOMMxdPumLIEmyMGNutaTj/99IrRVVdd5XbffXc3atQod/rpp7cEt3a/af/+/R0/o/IINJJRErd9/PjxWglvoDnssMN0XQPCEhMuBaoknzifu/nnn9898cQT6olCX2Mt13vuuUfVLURA8FRJeT5vmtvcMkskNBaogDbeeOO6MEubSfrKyEwEJw62/lC3ngn4VdQLTmb4gA8Oelmj8gi8Puac8plK5PCuR41klNx+5MiRjkWXozRs2DA9xHLtmWUl+RAWHnnkEbf99ts7RlzEp+rWrZvbaKON3IgRI9SI5+9TSXk+b5rb3DJLpDUaDGvpEksskSZmDS2LkBhQ3759G3ofK7w9EZj42j/qqph3am80o6SSL774YkV1rTRfr169lGHSb1ntHmECK3icKi0vfl29xx1rUm+JbXB9o0LhNkLCJMb1XXfd5b766it9UW666Sa1/LGgbZ7IpMrmtWYzGGUjnwZDZzsYdOLPmDtmmaVQuDQGw41dd921oF3WWWcdhz4zT9QInW+e8EnzWZo1xTHNOmehrNxYwwEbi2uWQuFSZ3QyzIdFsY1uRpalUt/BlVZayX3++edkyQWhszRqDgLNmAvenCdpr7vkhllGQ+EylM1CKFxeBUIisHAAvpb4DKLkJizuBx984K6//vr2elusNm2PgDHKxjVRbobh+Gkxk4NQuDh68/NUbyhchpBp+gn6eiVtp5tuOtevXz9HEDP0mXmhNHWWr776qgYqAxv2ITwfaH9meZx66qm6+IKe6GR/eQgp0bZNJi9xLiiLoXDHjh0bCFMswJ8V02U2Az42wc0331xwLssHLKqcFonHgOIDRvGfMMuiYQjSur+V0zkRsPUsy3zG/Ewavy2TvarT++23n7viiis0aBk6SuaGS1wRdZtYdtll1d9s2mmnrarMds2MxCddrF2rZ/UyBMoikJtheNknrSEDDJJ54Y3q5HvvvbcjHO69997r7r77bq0hOkys40x5zAuj5MEa4XZVQ5PaJYZAzQiYZFkCOi9N+m2JrHWdkiBljvjXMEdZnt9JhMe6yrOLDQFDIH0EjFkWwRQGOWbMmKYZdopUIzfJ4Nnoj05uwLIHaUsEjFkmNAudupHD74Rb5j7JdJa5b+LcP6CN9xKa2CTKBFDqTGrkUnd1Vs0uNwQqQsAkyxhMXqqMJduhIVA3AvjqmqGrbhhbVkCXlt25TW8c1atF99u0upmpFtMdm+XYnxlQrKKZQsAkyyLNhY7NJIEi4NSQbDrLGkCzS9oKgVzqLNMKhWuLP6T3rprOMj0sraTWIJAbZpl2KFx0S/xsKJ7Oi9kIHC0UbjptY6VUhkBumGUjQuEiDTUysmNlTZSPXAzD0yQLhZsmmlZWJQjkhlk2IhSuly5ZdajRRPzr3r17u9lmm80RK9moOAIWCrc4NnamcQjkhlkiBTYqFG4jpUumORLZjlhBEyZM0IDyxEnOG6VpCbdQuHl7O7LxPLlhlklwpxUKt5GSJdIr4T4JsMZanHklnjMtIgLmwQcfnBjMKq17WDmGQByB3DLLtEPhNoph7rDDDu6FF15wZ599dkG4z3hDZf04bZ1l1vGw+mcPgdw6pWclFO4pp5ySvbfGamwIdEIEcilZNioUbid8P1J75EatCZpaBa0gQ6AMArljllkLhVumfXJzulFqjNwAZA/S9gjkillicc1aKNy2f0NSqqDNhkoJSCumZQjkRmcZDYUrAa0yEwq3ZS1vNzYEDIGqEMjNQho9e/Z0H374obrfDBgwoACEekPhNmsRCJzS8bWcMmWK69q1a8Ez2MGvCMRD4T744INuhRVWcKuuumqnD4X7K0q2lzYCuWGW+Ch+/vnnifgQ02bixIluzjnnTDxfKtHPafbbUnnrPZdnZgl+aWE4evRot+WWWybCzYft3XffdRJOOPG8JRoCtSKQG2ZZKwDlrvMd3G/L5a/2/FlnneXGjx+vl40YMcJ9/fXXjhC5SMNrrLGG23bbbastsi3zN0s6b8uHt0rlAgFjlmWasdGdfJlllnEvvfRSYi323HNPjSueeDJjibb4b8YazKrbAQFjlh0g+TXBS5N+++sZ2zMEDIHOhkCuXIfSbDwYJAtoGKNMB1XDMR0crZTWIWCSZQL2OFD7YWOaC0Ak3KrTJDVandFpgLQHbRkCJlkmQI9EyZJvxigTwKkxycJK1AicXdY2CJhkGWsKP/yOJduhIVA3AhYAr24IW1qAMcuWwt95bu7VGp3nie1J84aAMcu8tWibPo/pLNu0YaxaFSNgOsuKobKM9SBgOst60LNr2wEBkyzboRWsDoaAIdD2CJhk2UZNlOeojgzDjQyBLCNgzLLFrUckR4aoyy+/vOvWrZvr0aOHGzRokHvvvfdaXDO7vSFgCEQRMGYZRaMF+7vvvrsjDs9HH32ki2b06tXL3XbbbbqIho9O2YJqpX7LNEPhpl45K9AQqAAB01lWAFKjsowbN04lSpZme/7553UtTmLVbL755o7wGER8JPCakSFgCLQeAZMsW9gGV199td79yCOPDGOGo9vzDHLUqFEtrF26tzadZbp4WmnNR8CYZfMxD+9IvHCIdSuj1LdvXz185513osm2bwgYAi1EwJhlC8H/+OOP9e4YdaI0wwwzuJlmmslNmjTJ5SWErOksoy1s+1lEwJhlC1sNZghNN910HWoxzTTTuJ9++sl9++23Hc5ZgiFgCDQfAWOWzcc8vCMSJEQoiTghUXbp0iU3gcssFG68he04awgYs2xhi80+++x698mTJxfUAud00giwZoaRAmjswBBoGQLGLFsGvQsjEI4dO7agFs8995zDWb1Pnz4F6Vk+yIvuNcttYHWvDwFjlvXhV9fVgwcP1uuHDx/ufvjhh7Cs8847T/d32mmnJIjnegAAAapJREFUMC3rO6w+b2QIZBkBc0pvYet98803bqmlltJQuP3793frrruue+qpp9w999zjFl98cffkk0+6GWecsYU1TO/WqBNMukwPTyup+QgYs2w+5gV3fP/9993222+vjBHpkvnha621liOGODrLvJAt/puXluy8z2HMsk3aHhehd9991y200EJqBW+Talk1DAFD4H8ImM6yTV6Frl27qkEHd6E8koXCzWOrdq5nMsmyc7V3y57WdJYtg95unBICJlmmBKQVUxoBCytcGh872/4ImGTZ/m1kNTQEDIE2QMAkyzZohM5QBZvu2BlaOd/PaJJlvtu3bZ7OdJZt0xRWkRoRMMmyRuDssuoQsFC41eFludsPAZMs269NrEaGgCHQhgiYZNmGjZLHKpnOMo+t2rmeyZhl52rvlj0tUziNDIEsI2DD8Cy3ntXdEDAEmoaASZZNg9puZAgYAllGwJhlllvP6m4IGAJNQ8CYZdOgthsZAoZAlhEwZpnl1rO6GwKGQNMQMGbZNKjtRoaAIZBlBIxZZrn1rO6GgCHQNASMWTYNaruRIWAIZBmB/wfUQQDB1Eg5VgAAAABJRU5ErkJggg==)"
      ]
    },
    {
      "cell_type": "markdown",
      "metadata": {
        "lc_cell_meme": {
          "current": "c9a0db1a-84d4-11ee-9989-8bd03f0dde81",
          "next": "c9a0dd69-84d4-11ee-a7f9-8bd03f0dde81",
          "previous": "82161a52-84d4-11ee-90ba-8bd03f0dde81-1-79c3"
        },
        "id": "wtnaZ1ujC4DV"
      },
      "source": [
        "入力側の型はint、出力側の型はstrとし、以下のような挙動をすることとします.  \n",
        "\n",
        "```python\n",
        "step2(13)\n",
        ">> '1101'\n",
        "```\n",
        "\n",
        "ヒント：  \n",
        "整数除算や余りの求め方は11月1日のテキストを参照"
      ]
    },
    {
      "cell_type": "code",
      "execution_count": null,
      "metadata": {
        "lc_cell_meme": {
          "current": "c9a0dd69-84d4-11ee-a7f9-8bd03f0dde81",
          "next": "c9a0de5c-84d4-11ee-9d78-8bd03f0dde81",
          "previous": "c9a0db1a-84d4-11ee-9989-8bd03f0dde81"
        },
        "id": "DC1xroHhC4DV"
      },
      "outputs": [],
      "source": [
        "def step2(s):\n",
        "\n",
        "\n",
        "\n",
        "step2(13)"
      ]
    },
    {
      "cell_type": "markdown",
      "metadata": {
        "lc_cell_meme": {
          "current": "c9a0de5c-84d4-11ee-9d78-8bd03f0dde81",
          "next": "c9a0df12-84d4-11ee-88b5-8bd03f0dde81",
          "previous": "c9a0dd69-84d4-11ee-a7f9-8bd03f0dde81"
        },
        "id": "xTGEkbvSC4DV"
      },
      "source": [
        "---\n",
        "## 手順3\n",
        "関数`step1()`、関数`step2()`を組み合わせて、入力側が2桁の16進数、出力側が8ビットの2進数となる関数`step3()`を作成しましょう.  \n",
        "入力側の型はstr、出力側の型はstrとし、以下のような挙動をすることとします.  \n",
        "\n",
        "```python\n",
        "step3('08')\n",
        ">> '00001000'\n",
        "```"
      ]
    },
    {
      "cell_type": "code",
      "execution_count": null,
      "metadata": {
        "lc_cell_meme": {
          "current": "c9a0df12-84d4-11ee-88b5-8bd03f0dde81",
          "next": "c9a0dfbc-84d4-11ee-b232-8bd03f0dde81",
          "previous": "c9a0de5c-84d4-11ee-9d78-8bd03f0dde81"
        },
        "id": "dbj6IfuoC4DV"
      },
      "outputs": [],
      "source": [
        "def step3(s):\n",
        "\n",
        "\n",
        "step3('08')"
      ]
    },
    {
      "cell_type": "markdown",
      "metadata": {
        "lc_cell_meme": {
          "current": "c9a0dfbc-84d4-11ee-b232-8bd03f0dde81",
          "history": [
            {
              "current": "c9a0dfbc-84d4-11ee-b232-8bd03f0dde81",
              "next": null,
              "previous": "c9a0df12-84d4-11ee-88b5-8bd03f0dde81"
            }
          ],
          "next": "dcf94959-84d4-11ee-9e81-8bd03f0dde81",
          "previous": "c9a0df12-84d4-11ee-88b5-8bd03f0dde81"
        },
        "id": "S_W4jOykC4DV"
      },
      "source": [
        "---\n",
        "## 手順4\n",
        "関数`step3()`にパリティビットを加え、入力側が2桁の16進数、出力側が9ビットの2進数+パリティビットとなる関数`kadai()`を作成しましょう.  \n",
        "入力側の型はstr、出力側の型はstrとし、以下のような挙動をすることとします.  \n",
        "\n",
        "```python\n",
        "kadai('7A')\n",
        ">> '011110101'\n",
        "```"
      ]
    },
    {
      "cell_type": "code",
      "execution_count": null,
      "metadata": {
        "lc_cell_meme": {
          "current": "dcf94959-84d4-11ee-9e81-8bd03f0dde81",
          "next": null,
          "previous": "c9a0dfbc-84d4-11ee-b232-8bd03f0dde81"
        },
        "id": "OLn9-IDlC4DV"
      },
      "outputs": [],
      "source": [
        "def kadai(s):\n",
        "\n",
        "\n",
        "kadai('7A')"
      ]
    }
  ],
  "metadata": {
    "colab": {
      "provenance": [],
      "toc_visible": true
    },
    "kernelspec": {
      "display_name": "Python 3",
      "language": "python",
      "name": "python3"
    },
    "language_info": {
      "file_extension": ".py",
      "mimetype": "text/x-python",
      "name": "python",
      "nbconvert_exporter": "python",
      "pygments_lexer": "ipython3",
      "version": "3.9.2"
    },
    "lc_notebook_meme": {
      "current": "2c5e8896-34c2-11ee-9e32-15cb203a04b1",
      "lc_server_signature": {
        "current": {
          "notebook_dir": "/home/yaokix7971a7",
          "notebook_path": "/",
          "server_url": "https://mn.cmd.gunma-u.ac.jp/user/yaokix7971a7/",
          "signature_id": "01c3a48e-369d-11ee-98ff-f30753351279"
        },
        "history": [
          {
            "notebook_dir": "/home/yaokix7971a7",
            "notebook_path": "/Python入門テキスト",
            "server_url": "https://mn.cmd.gunma-u.ac.jp/user/yaokix7971a7/",
            "signature_id": "94b9410e-2990-11ee-93d3-15cb203a04b1"
          },
          {
            "notebook_dir": "/home/yaokix7971a7",
            "notebook_path": "/Python入門テキスト",
            "server_url": "https://mn.cmd.gunma-u.ac.jp/user/yaokix7971a7/",
            "signature_id": "01c3a48e-369d-11ee-98ff-f30753351279"
          },
          {
            "notebook_dir": "/home/yaokix7971a7",
            "notebook_path": "/Python入門テキスト(動画付き)",
            "server_url": "https://mn.cmd.gunma-u.ac.jp/user/yaokix7971a7/",
            "signature_id": "01c3a48e-369d-11ee-98ff-f30753351279"
          },
          {
            "notebook_dir": "/home/yaokix7971a7",
            "notebook_path": "/Python入門テキスト_H5P",
            "server_url": "https://mn.cmd.gunma-u.ac.jp/user/yaokix7971a7/",
            "signature_id": "01c3a48e-369d-11ee-98ff-f30753351279"
          }
        ]
      }
    },
    "toc": {
      "base_numbering": 1,
      "nav_menu": {},
      "number_sections": true,
      "sideBar": true,
      "skip_h1_title": false,
      "title_cell": "Table of Contents",
      "title_sidebar": "Contents",
      "toc_cell": false,
      "toc_position": {},
      "toc_section_display": true,
      "toc_window_display": false
    }
  },
  "nbformat": 4,
  "nbformat_minor": 0
}