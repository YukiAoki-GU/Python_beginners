{
  "cells": [
    {
      "cell_type": "markdown",
      "metadata": {
        "id": "view-in-github",
        "colab_type": "text"
      },
      "source": [
        "<a href=\"https://colab.research.google.com/github/YukiAoki-GU/Python_beginners/blob/main/Python%E5%85%A5%E9%96%80%E3%83%86%E3%82%AD%E3%82%B9%E3%83%884.ipynb\" target=\"_parent\"><img src=\"https://colab.research.google.com/assets/colab-badge.svg\" alt=\"Open In Colab\"/></a>"
      ]
    },
    {
      "cell_type": "markdown",
      "metadata": {
        "id": "8aK8tploJvWD"
      },
      "source": [
        "---\n",
        "# 4-1 反復(for)\n",
        "処理を繰り返し行う場合に使います。\n",
        "\n",
        "書式は以下のようです。\n",
        "\n",
        "```\n",
        "for 変数 in 値などの並び:\n",
        "□□□□実行文\n",
        "```"
      ]
    },
    {
      "cell_type": "markdown",
      "metadata": {
        "id": "8qB0zRS8hXTD"
      },
      "source": [
        "シンプルな使い方は以下のようです。\n",
        "\n",
        "0から始まる変数`num`が1ずつ増え，5になるまで`print()`を繰り返します。\n"
      ]
    },
    {
      "cell_type": "code",
      "execution_count": null,
      "metadata": {
        "colab": {
          "base_uri": "https://localhost:8080/"
        },
        "id": "t1bc9NRRJj_P",
        "outputId": "17b8638e-9883-4c80-b0a1-d1b28ea31fb5"
      },
      "outputs": [
        {
          "name": "stdout",
          "output_type": "stream",
          "text": [
            "0\n",
            "1\n",
            "2\n",
            "3\n",
            "4\n"
          ]
        }
      ],
      "source": [
        "for num in range(5):\n",
        "    print(num)"
      ]
    },
    {
      "cell_type": "markdown",
      "metadata": {
        "id": "395ImrgYijYv"
      },
      "source": [
        "`range`関数はリスト表示すると以下のようなものです。"
      ]
    },
    {
      "cell_type": "code",
      "execution_count": null,
      "metadata": {
        "colab": {
          "base_uri": "https://localhost:8080/"
        },
        "id": "ESgND6enhHBm",
        "outputId": "62bf9061-a395-4a3a-9fdc-bbc0416fb10c"
      },
      "outputs": [
        {
          "name": "stdout",
          "output_type": "stream",
          "text": [
            "[0, 1, 2, 3, 4]\n"
          ]
        }
      ],
      "source": [
        "r = range(5)\n",
        "print(list(r))"
      ]
    },
    {
      "cell_type": "markdown",
      "metadata": {
        "id": "9UtQlYyjjHHV"
      },
      "source": [
        "開始の値を決めたいときは次のように書きます。\n",
        "\n",
        "```\n",
        "range(開始値, 終了値)\n",
        "```\n",
        "\n",
        "例えば0からではなく1から始めたい場合は以下のようです。"
      ]
    },
    {
      "cell_type": "code",
      "execution_count": null,
      "metadata": {
        "colab": {
          "base_uri": "https://localhost:8080/"
        },
        "id": "mZnjpZkvexNo",
        "outputId": "4e60547e-22f5-4317-f30e-32e45f55d597"
      },
      "outputs": [
        {
          "name": "stdout",
          "output_type": "stream",
          "text": [
            "1\n",
            "2\n",
            "3\n",
            "4\n"
          ]
        }
      ],
      "source": [
        "for num in range(1, 5):\n",
        "    print(num)"
      ]
    },
    {
      "cell_type": "markdown",
      "metadata": {
        "id": "WzNvTsEajq9x"
      },
      "source": [
        "開始値から増やす値(ステップ値)を決めたいときは次のように書きます。\n",
        "```\n",
        "range(開始値, 終了値, ステップ値)\n",
        "```\n",
        "\n",
        "例えば，3からステップ2で8までは以下です。"
      ]
    },
    {
      "cell_type": "code",
      "execution_count": null,
      "metadata": {
        "colab": {
          "base_uri": "https://localhost:8080/"
        },
        "id": "SeLJzx_Ge48D",
        "outputId": "246776a9-f348-4c83-b28f-abf2be1956e3"
      },
      "outputs": [
        {
          "name": "stdout",
          "output_type": "stream",
          "text": [
            "3\n",
            "5\n",
            "7\n"
          ]
        }
      ],
      "source": [
        "for num in range(3, 8, 2):\n",
        "    print(num)"
      ]
    },
    {
      "cell_type": "markdown",
      "metadata": {
        "id": "yVaHT_ILkQxS"
      },
      "source": [
        "Q: 1から10までの自然数を出力しなさい。"
      ]
    },
    {
      "cell_type": "code",
      "execution_count": null,
      "metadata": {
        "id": "hsF76ak-kX_L"
      },
      "outputs": [],
      "source": []
    },
    {
      "cell_type": "markdown",
      "metadata": {
        "id": "N53J7ERTkqTY"
      },
      "source": [
        "Q: 一桁の奇数を出力しなさい。"
      ]
    },
    {
      "cell_type": "code",
      "execution_count": null,
      "metadata": {
        "id": "OJJFM0BBkyzk"
      },
      "outputs": [],
      "source": []
    },
    {
      "cell_type": "markdown",
      "metadata": {
        "id": "nl1OCJDflEL2"
      },
      "source": [
        "Q: 一桁の奇数の合計値を出力しなさい。"
      ]
    },
    {
      "cell_type": "code",
      "execution_count": null,
      "metadata": {
        "id": "l_WRpcP9lKUJ"
      },
      "outputs": [],
      "source": []
    },
    {
      "cell_type": "markdown",
      "metadata": {
        "id": "7tLbzyBhldgH"
      },
      "source": [
        "Pythonらしい書き方として以下のように表すことができます。"
      ]
    },
    {
      "cell_type": "code",
      "execution_count": null,
      "metadata": {
        "colab": {
          "base_uri": "https://localhost:8080/"
        },
        "id": "ylvI5KzXlpVY",
        "outputId": "e8676426-ab98-4d03-f9bf-cac6a5b57296"
      },
      "outputs": [
        {
          "name": "stdout",
          "output_type": "stream",
          "text": [
            "トマト\n",
            "きゅうり\n",
            "ナス\n"
          ]
        }
      ],
      "source": [
        "l = ['トマト', 'きゅうり', 'ナス']\n",
        "for i in l:\n",
        "    print(i)"
      ]
    },
    {
      "cell_type": "markdown",
      "metadata": {
        "id": "b-UDWx_tmK9V"
      },
      "source": [
        "上のコードは以下と同じ意味になります。"
      ]
    },
    {
      "cell_type": "code",
      "execution_count": null,
      "metadata": {
        "colab": {
          "base_uri": "https://localhost:8080/"
        },
        "id": "lulfrJuPmMrg",
        "outputId": "7b1e1b7b-6351-4d88-9b82-2cd108c7480e"
      },
      "outputs": [
        {
          "name": "stdout",
          "output_type": "stream",
          "text": [
            "3\n",
            "トマト\n",
            "きゅうり\n",
            "ナス\n"
          ]
        }
      ],
      "source": [
        "l = ['トマト', 'きゅうり', 'ナス']\n",
        "print(len(l))\n",
        "\n",
        "for i in range(len(l)):\n",
        "    print(l[i])"
      ]
    },
    {
      "cell_type": "markdown",
      "metadata": {
        "id": "cJGxTNs3nDRQ"
      },
      "source": [
        "以下のようにも使えます。"
      ]
    },
    {
      "cell_type": "code",
      "execution_count": null,
      "metadata": {
        "colab": {
          "base_uri": "https://localhost:8080/"
        },
        "id": "16hCj3JqnGKN",
        "outputId": "b3b48794-4e59-40cc-c6fa-281e3a4ac318"
      },
      "outputs": [
        {
          "name": "stdout",
          "output_type": "stream",
          "text": [
            "こ\n",
            "ん\n",
            "に\n",
            "ち\n",
            "は\n"
          ]
        }
      ],
      "source": [
        "w = 'こんにちは'\n",
        "for i in w:\n",
        "    print(i)"
      ]
    },
    {
      "cell_type": "markdown",
      "metadata": {
        "id": "NVvc6qtPS8br"
      },
      "source": [
        "---\n",
        "# 4-2 反復(while, break)\n",
        "繰り返す回数があらかじめ分かっていない場合，`for`文ではなく`while`文を使います。\n",
        "\n",
        "書式は以下のようです。\n",
        "\n",
        "```\n",
        "while 条件:\n",
        "□□□□実行文(条件がTrueの間実行される)\n",
        "```"
      ]
    },
    {
      "cell_type": "markdown",
      "metadata": {
        "id": "pjXEovtoGWl5"
      },
      "source": [
        "Q: 入力した正の整数から1ずつ引いた値をプラスの間，出力し続けなさい。"
      ]
    },
    {
      "cell_type": "code",
      "execution_count": null,
      "metadata": {
        "id": "B0c9X1T3TBne"
      },
      "outputs": [],
      "source": []
    },
    {
      "cell_type": "markdown",
      "metadata": {
        "id": "lrW4qlWAnteE"
      },
      "source": [
        "何かが起きるまでループを続けたいが，それがいつ起きるかを最初からは分からない場合，それが起きたとき`break`によりループを抜けます。\n",
        "\n",
        "以下は，入力が何もなくEnterキーを押されるまで，入力を聞かれ続けるコードの例です。"
      ]
    },
    {
      "cell_type": "code",
      "execution_count": null,
      "metadata": {
        "colab": {
          "base_uri": "https://localhost:8080/"
        },
        "id": "gEg_Xa7BofSP",
        "outputId": "7d42e9f1-c336-45e1-ba01-91a71ea45903"
      },
      "outputs": [
        {
          "name": "stdout",
          "output_type": "stream",
          "text": [
            " Enterキーを押したら終了しますa\n",
            " Enterキーを押したら終了しますasdf\n",
            " Enterキーを押したら終了しますfda\n",
            " Enterキーを押したら終了しますasdf\n",
            " Enterキーを押したら終了します\n"
          ]
        }
      ],
      "source": [
        "while True:\n",
        "       key = input('何も入力せずにEnterキーを押したら終了します')\n",
        "       if not key:\n",
        "           break"
      ]
    },
    {
      "cell_type": "markdown",
      "metadata": {
        "id": "bs6wn4bdisWb"
      },
      "source": [
        "Q. 「私の好きなケーキを当ててみて」と問い，`my_favorite_cakes = ['いちごケーキ', 'チーズケーキ', '抹茶ケーキ']`のリスト中にあるケーキ名以外が入力されるまでは「ハズレ」と出力し，問いを続けるコードを書きなさい。また「降参」と入力された場合もループを抜けられるものとする。"
      ]
    },
    {
      "cell_type": "code",
      "execution_count": null,
      "metadata": {
        "id": "xvXshz3sHkdG"
      },
      "outputs": [],
      "source": []
    },
    {
      "cell_type": "markdown",
      "metadata": {
        "id": "s92-kmY4J_FE"
      },
      "source": [
        "---\n",
        "# 4-3 リスト型その2(スライス，並び替え，pop，内包表記)\n",
        "\n",
        "前回学んだリストの続きを勉強しましょう。"
      ]
    },
    {
      "cell_type": "markdown",
      "metadata": {
        "id": "PTgEAhTp0viU"
      },
      "source": [
        "\n",
        "## スライス\n",
        "*   リストの一部を取り出すには`:`(コロン)を使って表せる「スライス」を使います。スライスでは選択範囲の開始位置startと終了位置stopを`[start:stop]`のように書きます。 start  ≤  n  <  stopの範囲が取り出されます。 "
      ]
    },
    {
      "cell_type": "code",
      "execution_count": null,
      "metadata": {
        "colab": {
          "base_uri": "https://localhost:8080/"
        },
        "id": "v2LqZmHHKDUu",
        "outputId": "63498df5-4798-4edc-ceb0-60a74241d160"
      },
      "outputs": [
        {
          "name": "stdout",
          "output_type": "stream",
          "text": [
            "[0, 1, 2]\n"
          ]
        }
      ],
      "source": [
        "#[0:3]を取り出す例\n",
        "n = [0, 1, 2, 3, 4, 5, 6, 7, 8, 9]\n",
        "print(n[0:3])"
      ]
    },
    {
      "cell_type": "markdown",
      "metadata": {
        "id": "tu5oZZoIrUxq"
      },
      "source": [
        "Q: `cakes = ['いちごケーキ', 'チーズケーキ', '抹茶ケーキ', 'ガトーショコラ', 'ティラミス', 'モンブラン']`のチーズケーキからティラミスまでを取り出しなさい。"
      ]
    },
    {
      "cell_type": "code",
      "execution_count": null,
      "metadata": {
        "id": "ae15q_9iriOl"
      },
      "outputs": [],
      "source": []
    },
    {
      "cell_type": "markdown",
      "metadata": {
        "id": "LRv7cQTPrHyL"
      },
      "source": [
        "*   startやstopを省略することができます。"
      ]
    },
    {
      "cell_type": "code",
      "execution_count": null,
      "metadata": {
        "colab": {
          "base_uri": "https://localhost:8080/"
        },
        "id": "nJ_MUMl4sHIg",
        "outputId": "50120c71-1dea-49f8-80e0-fdbb2f5d7136"
      },
      "outputs": [
        {
          "name": "stdout",
          "output_type": "stream",
          "text": [
            "[0, 1, 2, 3]\n"
          ]
        }
      ],
      "source": [
        "#4未満を取り出す例\n",
        "n = [0, 1, 2, 3, 4, 5, 6, 7, 8, 9]\n",
        "print(n[:4])"
      ]
    },
    {
      "cell_type": "markdown",
      "metadata": {
        "id": "365cYc1zsbx-"
      },
      "source": [
        "*   `[start:stop:step]`により，増分stepを指定することができます。"
      ]
    },
    {
      "cell_type": "code",
      "execution_count": null,
      "metadata": {
        "colab": {
          "base_uri": "https://localhost:8080/"
        },
        "id": "JT8_rAeftAUs",
        "outputId": "25dec2b5-13c5-4986-d310-5a223c23e80a"
      },
      "outputs": [
        {
          "name": "stdout",
          "output_type": "stream",
          "text": [
            "['いちごケーキ', '抹茶ケーキ', 'ティラミス']\n"
          ]
        }
      ],
      "source": [
        "# 偶数番目のケーキだけを取り出す場合\n",
        "cakes = ['いちごケーキ', 'チーズケーキ', '抹茶ケーキ', 'ガトーショコラ', 'ティラミス', 'モンブラン']\n",
        "print(cakes[0:6:2])"
      ]
    },
    {
      "cell_type": "markdown",
      "metadata": {
        "id": "3h3lSnKstQnL"
      },
      "source": [
        "Q: `n = [0, 1, 2, 3, 4, 5, 6, 7, 8, 9]`のうち3の倍数だけを取り出しなさい。"
      ]
    },
    {
      "cell_type": "code",
      "execution_count": null,
      "metadata": {
        "id": "CJyjYZQNtlsz"
      },
      "outputs": [],
      "source": []
    },
    {
      "cell_type": "markdown",
      "metadata": {
        "id": "4HGutRKRvnFH"
      },
      "source": [
        "## 並び替え\n",
        "*   リストを(文字コード順に)並び替えるために、`sorted()`関数があります。"
      ]
    },
    {
      "cell_type": "code",
      "execution_count": null,
      "metadata": {
        "colab": {
          "base_uri": "https://localhost:8080/"
        },
        "id": "cwZVnHQcvuu0",
        "outputId": "fe19ab86-3de0-4299-eafb-cb11743d0bcf"
      },
      "outputs": [
        {
          "name": "stdout",
          "output_type": "stream",
          "text": [
            "['あ', 'か', 'さ', 'た', 'な', 'は', 'ま', 'や', 'ら', 'わ']\n"
          ]
        }
      ],
      "source": [
        "a = ['ら', 'か', 'た', 'は', 'や', 'わ', 'あ', 'さ', 'な', 'ま']\n",
        "print(sorted(a))"
      ]
    },
    {
      "cell_type": "markdown",
      "metadata": {
        "id": "3Epd6Wcpwt2E"
      },
      "source": [
        "Q : `n = [8, 4, 3, 9, 2, 5, 6, 1, 7]`を小さい順に並び替えなさい。"
      ]
    },
    {
      "cell_type": "code",
      "execution_count": null,
      "metadata": {
        "id": "ERVklwE9w9a-"
      },
      "outputs": [],
      "source": []
    },
    {
      "cell_type": "markdown",
      "metadata": {
        "id": "awuhZ-7re2PS"
      },
      "source": [
        "## pop()\n",
        "指定した位置の要素を削除し，その要素の値を取得できます。\n",
        "\n",
        "例を以下に示します。\n",
        "\n",
        "```\n",
        "l = [0, 1, 2, 3, 4, 5, 6, 7, 8, 9]\n",
        "\n",
        "print(l.pop(0))\n",
        "# 0\n",
        "\n",
        "print(l)\n",
        "# [1, 2, 3, 4, 5, 6, 7, 8, 9]\n",
        "\n",
        "print(l.pop(3))\n",
        "# 4\n",
        "\n",
        "print(l)\n",
        "# [1, 2, 3, 5, 6, 7, 8, 9]\n",
        "```\n",
        "\n",
        "負の値を使って末尾（最後）からの位置を指定することもできる。末尾（最後）は'-1'。\n",
        "\n",
        "```\n",
        "print(l.pop(-2))\n",
        "# 8\n",
        "\n",
        "print(l)\n",
        "# [1, 2, 3, 5, 6, 7, 9]\n",
        "```\n",
        "\n",
        "引数を省略して位置を指定しない場合は、末尾（最後）の要素を削除する。\n",
        "\n",
        "```\n",
        "print(l.pop())\n",
        "# 9\n",
        "\n",
        "print(l)\n",
        "# [1, 2, 3, 5, 6, 7]\n",
        "```"
      ]
    },
    {
      "cell_type": "markdown",
      "metadata": {
        "id": "kLqZSzHa173i"
      },
      "source": [
        "## 内包表記\n",
        "\n",
        "内包表記を使うと、ある規則に基づいたリスト等を簡単に生成することができます。"
      ]
    },
    {
      "cell_type": "code",
      "execution_count": null,
      "metadata": {
        "colab": {
          "base_uri": "https://localhost:8080/"
        },
        "id": "zpsG7BN0Ac3P",
        "outputId": "cb6a31a7-5f93-4308-d735-9416ce7a0ea6"
      },
      "outputs": [
        {
          "data": {
            "text/plain": [
              "[1, 2, 3, 4, 5, 6, 7, 8, 9]"
            ]
          },
          "execution_count": 29,
          "metadata": {},
          "output_type": "execute_result"
        }
      ],
      "source": [
        "# 1から9までの整数のリストの例\n",
        "[x for x in range(1,10)]"
      ]
    },
    {
      "cell_type": "code",
      "execution_count": null,
      "metadata": {
        "colab": {
          "base_uri": "https://localhost:8080/"
        },
        "id": "jGvwNfkbAede",
        "outputId": "0203b0f0-cffc-4c96-ab38-1a76d8b03b7c"
      },
      "outputs": [
        {
          "data": {
            "text/plain": [
              "[2, 4, 6, 8]"
            ]
          },
          "execution_count": 32,
          "metadata": {},
          "output_type": "execute_result"
        }
      ],
      "source": [
        "# 一桁の2の倍数の例\n",
        "[2*n for n in range(1,5)]"
      ]
    },
    {
      "cell_type": "code",
      "execution_count": null,
      "metadata": {
        "colab": {
          "base_uri": "https://localhost:8080/"
        },
        "id": "7SPw5r27AgK9",
        "outputId": "02870c36-189a-4560-ece5-a1020d33500a"
      },
      "outputs": [
        {
          "data": {
            "text/plain": [
              "[2, 4, 6, 8, 10]"
            ]
          },
          "execution_count": 34,
          "metadata": {},
          "output_type": "execute_result"
        }
      ],
      "source": [
        "#　一桁の2の倍数の例2\n",
        "[n for n in range(1,11) if n % 2 == 0]"
      ]
    },
    {
      "cell_type": "code",
      "execution_count": null,
      "metadata": {
        "colab": {
          "base_uri": "https://localhost:8080/"
        },
        "id": "HdjMxHsKAmeG",
        "outputId": "ada1f96d-ad96-4d90-b995-5f0f027a7900"
      },
      "outputs": [
        {
          "data": {
            "text/plain": [
              "[0, '奇数', 2, '奇数', 4, '奇数', 6, '奇数', 8, '奇数']"
            ]
          },
          "execution_count": 36,
          "metadata": {},
          "output_type": "execute_result"
        }
      ],
      "source": [
        "#一桁の整数のリストで奇数の時'奇数'と表示する例\n",
        "[x if x % 2 == 0 else '奇数' for x in range(0,10)]"
      ]
    },
    {
      "cell_type": "markdown",
      "metadata": {
        "id": "C4BKzXlJLdjd"
      },
      "source": [
        "---\n",
        "# 演習問題4-1\n",
        "空のリスト`l`を作り，`for`， `append`を使うことで`l = [1, 2, 3, 4, 5, 6, 7, 8, 9, 10]`を作りなさい。"
      ]
    },
    {
      "cell_type": "code",
      "execution_count": null,
      "metadata": {
        "id": "O4C4X-0dLjJm"
      },
      "outputs": [],
      "source": []
    },
    {
      "cell_type": "markdown",
      "metadata": {
        "id": "7C0fLG6aM6sk"
      },
      "source": [
        "# 演習問題4-2\n",
        "上のリストに格納されている数値を足し合わせるコードを作りなさい。"
      ]
    },
    {
      "cell_type": "code",
      "execution_count": null,
      "metadata": {
        "id": "GIwZHOeLMsVO"
      },
      "outputs": [],
      "source": []
    },
    {
      "cell_type": "markdown",
      "metadata": {
        "id": "fJkhih8DOl_7"
      },
      "source": [
        "# 演習問題4-3\n",
        "`l2 = [1, 5, 3, 2, 4, 7, 9, 6, 8]`内の最大値を見つけるコードを作りなさい。"
      ]
    },
    {
      "cell_type": "code",
      "execution_count": null,
      "metadata": {
        "id": "t1ZtO8DvPGgn"
      },
      "outputs": [],
      "source": []
    },
    {
      "cell_type": "markdown",
      "metadata": {
        "id": "neZ5KT0r3c0t"
      },
      "source": [
        "# 演習問題4-4\n",
        "以下を満たすリストを生成する内包表記を書きなさい。\n",
        "- 1以上100以下の4の倍数のリスト\n",
        "- `l = [2, 4, 6, 8, 10, 12, 14, 16, 18, 20]`のうち3の倍数のリスト"
      ]
    },
    {
      "cell_type": "code",
      "execution_count": null,
      "metadata": {
        "id": "fH66iK-h3ihv"
      },
      "outputs": [],
      "source": []
    },
    {
      "cell_type": "code",
      "execution_count": null,
      "metadata": {
        "id": "79SzGxyu3k_B"
      },
      "outputs": [],
      "source": []
    }
  ],
  "metadata": {
    "colab": {
      "collapsed_sections": [],
      "provenance": [],
      "toc_visible": true,
      "authorship_tag": "ABX9TyOg7gZvsZym7dyB6aBwjHOm",
      "include_colab_link": true
    },
    "kernelspec": {
      "display_name": "Python 3",
      "language": "python",
      "name": "python3"
    },
    "language_info": {
      "codemirror_mode": {
        "name": "ipython",
        "version": 3
      },
      "file_extension": ".py",
      "mimetype": "text/x-python",
      "name": "python",
      "nbconvert_exporter": "python",
      "pygments_lexer": "ipython3",
      "version": "3.8.8"
    }
  },
  "nbformat": 4,
  "nbformat_minor": 0
}