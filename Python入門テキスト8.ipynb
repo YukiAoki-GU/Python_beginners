{
  "cells": [
    {
      "cell_type": "markdown",
      "metadata": {
        "id": "view-in-github",
        "colab_type": "text"
      },
      "source": [
        "<a href=\"https://colab.research.google.com/github/YukiAoki-GU/Python_beginners/blob/main/Python%E5%85%A5%E9%96%80%E3%83%86%E3%82%AD%E3%82%B9%E3%83%888.ipynb\" target=\"_parent\"><img src=\"https://colab.research.google.com/assets/colab-badge.svg\" alt=\"Open In Colab\"/></a>"
      ]
    },
    {
      "cell_type": "markdown",
      "metadata": {
        "id": "m6zgn89BmoLk"
      },
      "source": [
        "# 8ライブラリーの利用\n",
        "\n",
        "### ライブラリーとは\n",
        "\n",
        "`print()`, `input()`等の組み込み関数は、プログラム中で何の指定もせずに使用することができました。\\\n",
        "Pythonにはこれ以外にも、標準ライブラリーや外部ライブラリーとして、多くの関数等が用意されています。\n",
        "![](images/library_1.png)\n",
        "\n",
        "標準ライブラリーやインストール済の外部ライブラリーの関数等を利用するためには、`import`文で、「パッケージ」や「モジュール」を読み込みます。\n",
        "\n",
        "インストールされていない「パッケージ」や「ライブラリー」を利用するには、まずそれらをインストールします。\n",
        "\n",
        "「ライブラリー」、「パッケージ」、「モジュール」の用語は混同して使われることが多いのですが、以下の図のようになります。\n",
        "![](images/library_2.png)\n",
        "\n",
        "関数等を定義したプログラムを一つのファイルとして保存したものが「モジュール」になります。\n",
        "\n",
        "一つのモジュールには、複数の関数等を定義することができます。\n",
        "\n",
        "関連したいくつかのモジュールを一つにまとめたもの(ディレクトリー/フォルダー)をパッケージといいます。\n",
        "モジュール以外にもさまざまな情報が記載されたファイルも含みます。\n",
        "\n",
        "図書館を例にすれば、以下のようなイメージですが、モジュールもパッケージもライブラリーと言われることがあります。\n",
        "\n",
        "- 関数等: 本の中のページや節\n",
        "- モジュール: 単行本\n",
        "- パッケージ: 全集\n",
        "- ライブラリー: 書架、図書館\n"
      ]
    },
    {
      "cell_type": "markdown",
      "metadata": {
        "id": "4Ys24r1TnAiz"
      },
      "source": [
        "### 標準ライブラリー\n",
        "\n",
        "標準ライブラリーには以下のパッケージがあります。\n",
        "\n",
        "- テキスト処理サービス\n",
        "    - string --- 一般的な文字列操作\n",
        "    - re --- 正規表現操作\n",
        "    - …\n",
        "- バイナリデータ処理\n",
        "    - …\n",
        "- データ型\n",
        "    - datetime --- 基本的な日付型および時間型\n",
        "    - calendar --- 一般的なカレンダーに関する関数群\n",
        "    - array --- 効率のよい数値アレイ\n",
        "    - …\n",
        "- 数値と数学モジュール\n",
        "    - math --- 数学関数\n",
        "    - random --- 擬似乱数を生成する\n",
        "    - statistics --- 数理統計関数\n",
        "    - …\n",
        "- 関数型プログラミング用モジュール\n",
        "- ファイルとディレクトリへのアクセス\n",
        "- データの永続化\n",
        "- データ圧縮とアーカイブ\n",
        "- ファイルフォーマット\n",
        "    - csv --- CSV ファイルの読み書き\n",
        "- 暗号関連のサービス\n",
        "- 汎用オペレーティングシステムサービス\n",
        "- 並行実行\n",
        "- ネットワーク通信とプロセス間通信\n",
        "- インターネット上のデータの操作\n",
        "- 構造化マークアップツール\n",
        "- XMLを扱うモジュール群\n",
        "- インターネットプロトコルとサポート\n",
        "- マルチメディアサービス\n",
        "- 国際化\n",
        "- プログラムのフレームワーク\n",
        "- 開発ツール\n",
        "- デバッグとプロファイル\n",
        "- ソフトウェア・パッケージと配布\n",
        "- Python ランタイムサービス\n",
        "- カスタム Python インタプリタ\n",
        "- モジュールのインポート\n",
        "- Python言語サービス\n",
        "- 各種サービス\n",
        "- MS Windows 固有のサービス\n",
        "- Unix 固有のサービス\n",
        "\n",
        "詳細は https://docs.python.org/ja/3.8/library/ を参照してください。"
      ]
    },
    {
      "cell_type": "markdown",
      "metadata": {
        "id": "Ifw7KXWfnGnH"
      },
      "source": [
        "#### mathモジュール\n",
        "\n",
        "mathモジュールには、円周率$\\pi$や自然対数の底$e$といった定数や、基本的な数学関数が定義されています。\n",
        "\n",
        "mathモジュールを使用するには\n",
        "````Python\n",
        "import math\n",
        "````\n",
        "と記述します。\n",
        "\n",
        "モジュールやパッケージに定義されている関数等は、`モジュール名.関数名`のように書いて使用します。"
      ]
    },
    {
      "cell_type": "code",
      "execution_count": null,
      "metadata": {
        "id": "WHiFH_zvm1gE"
      },
      "outputs": [],
      "source": [
        "import math\n",
        "\n",
        "print(math.pi)\n",
        "print(math.e)\n",
        "print(math.sin(math.pi / 4))\n",
        "print(math.cos(0))"
      ]
    },
    {
      "cell_type": "markdown",
      "metadata": {
        "id": "veO0X2lrnK4d"
      },
      "source": [
        "モジュールやパッケージに定義されている関数等は、`dir()`関数で調べられます。"
      ]
    },
    {
      "cell_type": "code",
      "execution_count": null,
      "metadata": {
        "id": "hIl0agSgnM1E"
      },
      "outputs": [],
      "source": [
        "import math\n",
        "dir(math)"
      ]
    },
    {
      "cell_type": "markdown",
      "metadata": {
        "id": "6WyY-3CdAjoc"
      },
      "source": [
        "Q: 以下の値を求めよ。\n",
        "\n",
        "$$ a = \\cos(30°) $$\n",
        "$$ b = \\frac{\\sqrt3}{2} $$\n",
        "$$ c = \\log_e10 $$\n",
        "$$ d = e^c $$\n"
      ]
    },
    {
      "cell_type": "code",
      "execution_count": null,
      "metadata": {
        "id": "lsYxF-hKB9cG"
      },
      "outputs": [],
      "source": [
        "import math"
      ]
    },
    {
      "cell_type": "markdown",
      "metadata": {
        "id": "uUU9DGNanOoD"
      },
      "source": [
        "モジュール名の`math`を毎回付けるのは大変です。その場合は\n",
        "````Python\n",
        "from math import pi, sin\n",
        "````\n",
        "のように記述することによって、`math`をつけなくても関数等を利用できるようになります。"
      ]
    },
    {
      "cell_type": "code",
      "execution_count": null,
      "metadata": {
        "id": "iRYoo4JUnYIe"
      },
      "outputs": [],
      "source": [
        "from math import pi, sin\n",
        "\n",
        "print(pi)\n",
        "print(sin(pi / 4))"
      ]
    },
    {
      "cell_type": "markdown",
      "metadata": {
        "id": "cxHbOMM4nafp"
      },
      "source": [
        "`import math`と異なり、`pi`と`sin`しか読み込んでいないので、`cos()`関数は定義されていません。"
      ]
    },
    {
      "cell_type": "code",
      "execution_count": null,
      "metadata": {
        "id": "TYIk7qdJncL7"
      },
      "outputs": [],
      "source": [
        "from math import pi, sin\n",
        "\n",
        "print(pi)\n",
        "print(cos(pi / 4))"
      ]
    },
    {
      "cell_type": "markdown",
      "metadata": {
        "id": "jlIyHZuOneCE"
      },
      "source": [
        "モジュール名や関数名には別名をつけることができます。\n",
        "\n",
        "````Python\n",
        "import モジュール名\n",
        "import モジュール名 as 別名\n",
        "from モジュール名 import 関数名 as 別名\n",
        "````"
      ]
    },
    {
      "cell_type": "code",
      "execution_count": null,
      "metadata": {
        "id": "302YeR1sngF6"
      },
      "outputs": [],
      "source": [
        "import math as m\n",
        "\n",
        "print(m.pi)\n",
        "print(m.sin(m.pi / 4))"
      ]
    },
    {
      "cell_type": "code",
      "execution_count": null,
      "metadata": {
        "id": "XXrZ9BA2niEe"
      },
      "outputs": [],
      "source": [
        "from math import pi as p, sin as s\n",
        "\n",
        "print(p)\n",
        "print(s(p / 4))"
      ]
    },
    {
      "cell_type": "markdown",
      "metadata": {
        "id": "H8o_-ZeonmV1"
      },
      "source": [
        "#### datetimeモジュール\n",
        "\n",
        "日付や時刻に関する`datetime`モジュールがあります。"
      ]
    },
    {
      "cell_type": "code",
      "execution_count": null,
      "metadata": {
        "id": "whBdeAgDnoDE"
      },
      "outputs": [],
      "source": [
        "import datetime\n",
        "\n",
        "dir(datetime)"
      ]
    },
    {
      "cell_type": "markdown",
      "metadata": {
        "id": "GDjrRizZnqme"
      },
      "source": [
        "`datetime`型は、日付(年、月、日)と時刻(時、分、秒、マイクロ秒)の情報を持ちます。\n",
        "それぞれの情報へのアクセスには、属性`year`, `month`, `day`, `hour`, `minute`, `second`, `microsecond`でアクセスできます。\n",
        "\n",
        "`date`型は、日付(年、月、日)との情報を持ちます。\n",
        "それぞれの情報へのアクセスには、属性`year`, `month`, `day`でアクセスできます。\n",
        "\n",
        "※複素数型から実数部と虚数部を取り出すために、`real`属性と`img`属性を用いたのと同様です。"
      ]
    },
    {
      "cell_type": "code",
      "execution_count": null,
      "metadata": {
        "id": "JW4Xuw6ZnsNf"
      },
      "outputs": [],
      "source": [
        "import datetime as dt\n",
        "\n",
        "now = dt.datetime.now()\n",
        "\n",
        "print('現在の日付と時刻は', now)\n",
        "print('現在の日付と時刻は', now.year, '年', now.month, '月', now.day, '日',\n",
        "      now.hour, '時', now.minute, '分', now.second, '秒', now.microsecond)\n",
        "\n",
        "today = dt.date.today()\n",
        "print('今日の日付は', today)\n",
        "print('今日の日付は', today.year, '年', today.month, '月', now.day, '日')"
      ]
    },
    {
      "cell_type": "markdown",
      "metadata": {
        "id": "4zDZ48qonxCj"
      },
      "source": [
        "`datetime.datetime`で日付と時刻を設定することができます。\n",
        "\n",
        "引数`hour`, `minute`, `second`, `microsecond`, `tzinfo`は省略することができます。\n",
        "\n",
        "````Python\n",
        "datetime(year, month, day, hour=0, minute=0, second=0, microsecond=0, tzinfo=None)\n",
        "````\n",
        "\n",
        "日付と時刻の差(-)は計算することができます。\n",
        "\n",
        "日付と時刻の差は`timedelta`型になり、属性`days`, `seconds`, `microseconds`が使えます。\\\n",
        "`timedelta`型は`total_seconds()`メソッドで総秒数を得ることができます。"
      ]
    },
    {
      "cell_type": "markdown",
      "metadata": {
        "id": "p970dUiUZzDc"
      },
      "source": [
        "Q: 以下の出力をするコードを書きなさい。\n",
        "\n",
        "今年も残すところ x 日 となりました\n",
        "\n",
        "今年も残すところ y 秒となりました"
      ]
    },
    {
      "cell_type": "code",
      "source": [
        "import datetime as dt"
      ],
      "metadata": {
        "id": "FBUzdw5ytwaD"
      },
      "execution_count": null,
      "outputs": []
    },
    {
      "cell_type": "markdown",
      "source": [
        "#### randomモジュール\n",
        "\n",
        "randomモジュールは、乱数を発生させる標準モジュールです。。"
      ],
      "metadata": {
        "id": "PfUpDm_hz7LL"
      }
    },
    {
      "cell_type": "code",
      "source": [
        "import random\n",
        "dir(random)"
      ],
      "metadata": {
        "id": "JO_y6HsfuXpF"
      },
      "execution_count": null,
      "outputs": []
    },
    {
      "cell_type": "code",
      "source": [
        "# 0.0 <= x < 1.0でのfloat型の乱数を発生\n",
        "x = random.random()\n",
        "print(x)"
      ],
      "metadata": {
        "id": "-2hzK8ZD0ib1"
      },
      "execution_count": null,
      "outputs": []
    },
    {
      "cell_type": "code",
      "source": [
        "# a <= x <= bでのfloat型の乱数を発生\n",
        "a = 1.3\n",
        "b = 4.5\n",
        "x = random.uniform(a, b)\n",
        "print(x)"
      ],
      "metadata": {
        "id": "uQZnZP-o067i"
      },
      "execution_count": null,
      "outputs": []
    },
    {
      "cell_type": "code",
      "source": [
        "# a <= x <= bでのint型の乱数を発生\n",
        "a = 3\n",
        "b = 6\n",
        "x = random.randint(a, b)\n",
        "print(x)"
      ],
      "metadata": {
        "id": "e8PjOXya1cAn"
      },
      "execution_count": null,
      "outputs": []
    },
    {
      "cell_type": "code",
      "source": [
        "# 配列の中身をランダムに出力\n",
        "cakes = ['いちごケーキ', 'チーズケーキ', '抹茶ケーキ', 'ガトーショコラ', 'ティラミス', 'モンブラン']\n",
        "x = random.choice(cakes)\n",
        "print(x)"
      ],
      "metadata": {
        "id": "pKZZHWhI1t67"
      },
      "execution_count": null,
      "outputs": []
    },
    {
      "cell_type": "code",
      "source": [
        "# 配列の中身をシャッフル\n",
        "cakes = ['いちごケーキ', 'チーズケーキ', '抹茶ケーキ', 'ガトーショコラ', 'ティラミス', 'モンブラン']\n",
        "random.shuffle(cakes)\n",
        "print(cakes)"
      ],
      "metadata": {
        "id": "JThT8NDB2ueI"
      },
      "execution_count": null,
      "outputs": []
    },
    {
      "cell_type": "markdown",
      "source": [
        "Q: グー，チョキ，パーをランダムに出力しなさい。"
      ],
      "metadata": {
        "id": "cNF0jjhL3SCg"
      }
    },
    {
      "cell_type": "code",
      "source": [],
      "metadata": {
        "id": "y-MgfKI73BM-"
      },
      "execution_count": null,
      "outputs": []
    }
  ],
  "metadata": {
    "colab": {
      "provenance": [],
      "collapsed_sections": [],
      "authorship_tag": "ABX9TyO+ZjIZByJFdazbgwVObdMy",
      "include_colab_link": true
    },
    "kernelspec": {
      "display_name": "Python 3",
      "language": "python",
      "name": "python3"
    },
    "language_info": {
      "codemirror_mode": {
        "name": "ipython",
        "version": 3
      },
      "file_extension": ".py",
      "mimetype": "text/x-python",
      "name": "python",
      "nbconvert_exporter": "python",
      "pygments_lexer": "ipython3",
      "version": "3.8.8"
    }
  },
  "nbformat": 4,
  "nbformat_minor": 0
}