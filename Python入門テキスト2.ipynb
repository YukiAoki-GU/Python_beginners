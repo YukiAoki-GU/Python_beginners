{
  "cells": [
    {
      "cell_type": "markdown",
      "metadata": {
        "id": "view-in-github",
        "colab_type": "text"
      },
      "source": [
        "<a href=\"https://colab.research.google.com/github/YukiAoki-GU/Python_beginners/blob/main/Python%E5%85%A5%E9%96%80%E3%83%86%E3%82%AD%E3%82%B9%E3%83%882.ipynb\" target=\"_parent\"><img src=\"https://colab.research.google.com/assets/colab-badge.svg\" alt=\"Open In Colab\"/></a>"
      ]
    },
    {
      "cell_type": "markdown",
      "metadata": {
        "id": "cIVfskFDs8JN"
      },
      "source": [
        "# 2-1 データの型\n",
        "## 全角と半角\n",
        "\n",
        "コードは半角で! 全角と半角の区別をしっかりしましょう。"
      ]
    },
    {
      "cell_type": "markdown",
      "metadata": {
        "id": "GuqKdW2-NEZu"
      },
      "source": [
        "Q: 半角の数値を1文字入力しなさい。入力された文字をUnicode値(国際規格の文字コード)に変換し2進数で表示する。"
      ]
    },
    {
      "cell_type": "code",
      "execution_count": null,
      "metadata": {
        "id": "EMppSR9ADl24"
      },
      "outputs": [],
      "source": [
        "x = str(input('半角の数値を1文字入力してください:'))\n",
        "bin(ord(x))"
      ]
    },
    {
      "cell_type": "markdown",
      "metadata": {
        "id": "sh0Au_cnN6pm"
      },
      "source": [
        "Q: 全角の数値を1文字入力し，同様に2進数で表示しなさい。"
      ]
    },
    {
      "cell_type": "code",
      "execution_count": null,
      "metadata": {
        "id": "qMm3mygPOHqK"
      },
      "outputs": [],
      "source": [
        "x = str(input('全角の数値を1文字入力してください:'))\n",
        "bin(ord(x))"
      ]
    },
    {
      "cell_type": "markdown",
      "metadata": {
        "id": "ae1NYZOnI2g7"
      },
      "source": [
        "---\n",
        "## 文字列と数値"
      ]
    },
    {
      "cell_type": "markdown",
      "metadata": {
        "id": "wOH_3SvFJRI0"
      },
      "source": [
        "Pythonにおける基本的なデータ型は以下です。"
      ]
    },
    {
      "cell_type": "markdown",
      "metadata": {
        "id": "Vy286nBtJxkN"
      },
      "source": [
        "| データ型 | 書き方 | 説明 |\n",
        "|:--- | :--- | :--- |\n",
        "| 文字列 | str() | `\"`あるいは`'`でくくる | \n",
        "| 整数   | int() | 小数点を含まない数値 |\n",
        "| 浮動小数点 | float() | 小数点を含む数値 |\n",
        "\n",
        "その他の基本的な型として，リスト型，タプル型，辞書型などがありますが，今後学びます。\n"
      ]
    },
    {
      "cell_type": "markdown",
      "metadata": {
        "id": "12hLFynWOl9G"
      },
      "source": [
        "Q: 自分の名前を文字列として表示しなさい。"
      ]
    },
    {
      "cell_type": "code",
      "execution_count": null,
      "metadata": {
        "id": "re1M7ZivJyZc"
      },
      "outputs": [],
      "source": []
    },
    {
      "cell_type": "markdown",
      "metadata": {
        "id": "R_sSdjk7PE-l"
      },
      "source": [
        "Q: 数字の1を整数として表示しなさい。"
      ]
    },
    {
      "cell_type": "code",
      "execution_count": null,
      "metadata": {
        "id": "-HZc0xc5JysW"
      },
      "outputs": [],
      "source": []
    },
    {
      "cell_type": "markdown",
      "metadata": {
        "id": "1EPj4cmzPNjb"
      },
      "source": [
        "Q: 数字の1を文字列として表示しなさい。"
      ]
    },
    {
      "cell_type": "code",
      "execution_count": null,
      "metadata": {
        "id": "FdVSdQnQPcVB"
      },
      "outputs": [],
      "source": []
    },
    {
      "cell_type": "markdown",
      "metadata": {
        "id": "maKPu_nGPc0S"
      },
      "source": [
        "Q: 数字の1を浮動小数点として表示しなさい。"
      ]
    },
    {
      "cell_type": "code",
      "execution_count": null,
      "metadata": {
        "id": "2Rivw5KNPh4V"
      },
      "outputs": [],
      "source": []
    },
    {
      "cell_type": "markdown",
      "metadata": {
        "id": "b94Pah_ouc_0"
      },
      "source": [
        "---\n",
        "# 2-2 演算子\n",
        "Pythonにおける基本的な演算子は以下です。\n"
      ]
    },
    {
      "cell_type": "markdown",
      "metadata": {
        "id": "VFIYPN95vAAY"
      },
      "source": [
        "| 種類 | 説明 | 演算子 |\n",
        "|:--- | :--- | :--- |\n",
        "| 代入演算子| 左辺に右辺を代入する | `=` |\n",
        "| 算術演算子 | 加減乗除する | `+`, `-`, `*`(乗算), `/`(除算), `//`(整数除算), `%`(剰余), `**`(べき算) |\n",
        "| 累算代入演算子 | 左辺と右辺の値を演算し得られる結果を左辺に代入する | `+=`, `-=`, `/=`, `//=`, など |\n",
        "| 比較演算子 | 比較する演算子 | `==`, `!=`, `>`, `>=`, `<`, `<=` |\n"
      ]
    },
    {
      "cell_type": "markdown",
      "metadata": {
        "id": "cuOzJ7fLbpzE"
      },
      "source": [
        "数学での`=`とプログラミングでの`=`は意味が違います。\n",
        "\n",
        "数学で$a = 1$は不成立ですが，プログラミングでは変数$a$に1を代入しなさい，という意味です。"
      ]
    },
    {
      "cell_type": "markdown",
      "metadata": {
        "id": "OLkQrJZFTk4A"
      },
      "source": [
        "Q: $1+2$を計算しなさい"
      ]
    },
    {
      "cell_type": "code",
      "execution_count": null,
      "metadata": {
        "id": "XRx_6N0sRlTW"
      },
      "outputs": [],
      "source": []
    },
    {
      "cell_type": "markdown",
      "metadata": {
        "id": "fbaDfu4OT6Ld"
      },
      "source": [
        "Q: $10-3$を計算しなさい。"
      ]
    },
    {
      "cell_type": "code",
      "execution_count": null,
      "metadata": {
        "id": "YfgW12N2SMPR"
      },
      "outputs": [],
      "source": []
    },
    {
      "cell_type": "markdown",
      "metadata": {
        "id": "8IGuMJ-5T_tc"
      },
      "source": [
        "Q: $7 \\times 5$ を計算しなさい。"
      ]
    },
    {
      "cell_type": "code",
      "execution_count": null,
      "metadata": {
        "id": "GUqokan1Uw98"
      },
      "outputs": [],
      "source": []
    },
    {
      "cell_type": "markdown",
      "metadata": {
        "id": "82BLQrszaFJm"
      },
      "source": [
        "Q: $2+(3\\times4)$を計算しなさい。"
      ]
    },
    {
      "cell_type": "code",
      "execution_count": null,
      "metadata": {
        "id": "66RjezvSaL0h"
      },
      "outputs": [],
      "source": []
    },
    {
      "cell_type": "markdown",
      "metadata": {
        "id": "F4PuEdHTaPaS"
      },
      "source": [
        "Q: $(-1)^2$を計算しなさい。"
      ]
    },
    {
      "cell_type": "code",
      "execution_count": null,
      "metadata": {
        "id": "swKZaWh5aZ6N"
      },
      "outputs": [],
      "source": []
    },
    {
      "cell_type": "markdown",
      "metadata": {
        "id": "za-tPoyLUxTU"
      },
      "source": [
        "Q: $10 / 3$を少数で計算しなさい。"
      ]
    },
    {
      "cell_type": "code",
      "execution_count": null,
      "metadata": {
        "id": "M1U61nhIVGx6"
      },
      "outputs": [],
      "source": []
    },
    {
      "cell_type": "markdown",
      "metadata": {
        "id": "KBOvUmKRVT7W"
      },
      "source": [
        "Q: 10/3を整数で計算しなさい。"
      ]
    },
    {
      "cell_type": "code",
      "execution_count": null,
      "metadata": {
        "id": "VT5a0k-SVaRl"
      },
      "outputs": [],
      "source": []
    },
    {
      "cell_type": "code",
      "execution_count": null,
      "metadata": {
        "id": "Q8dJf1HtVdas"
      },
      "outputs": [],
      "source": []
    },
    {
      "cell_type": "markdown",
      "metadata": {
        "id": "SdTX4z2PVi4R"
      },
      "source": [
        "Q: $10/3$の余りを計算しなさい。"
      ]
    },
    {
      "cell_type": "code",
      "execution_count": null,
      "metadata": {
        "id": "R4w7JKp0VpCJ"
      },
      "outputs": [],
      "source": []
    },
    {
      "cell_type": "markdown",
      "metadata": {
        "id": "ZXmpi6fiWU4b"
      },
      "source": [
        "Q: $a = 10$に5をかけたものを$a$に代入しなさい。"
      ]
    },
    {
      "cell_type": "code",
      "execution_count": null,
      "metadata": {
        "id": "duT7d9dWWk3J"
      },
      "outputs": [],
      "source": [
        "a=10\n",
        "\n",
        "a"
      ]
    },
    {
      "cell_type": "markdown",
      "metadata": {
        "id": "zjjjAzfGW8zn"
      },
      "source": [
        "Q: 1は2より小さいことが真であることを示しなさい。"
      ]
    },
    {
      "cell_type": "code",
      "execution_count": null,
      "metadata": {
        "id": "QS2Me64iXLGN"
      },
      "outputs": [],
      "source": []
    },
    {
      "cell_type": "markdown",
      "metadata": {
        "id": "-QpLHc3rXR23"
      },
      "source": [
        "Q: 2は1より小さいことが偽であることを示しなさい。"
      ]
    },
    {
      "cell_type": "code",
      "execution_count": null,
      "metadata": {
        "id": "0Zz67-cPSWSs"
      },
      "outputs": [],
      "source": []
    },
    {
      "cell_type": "markdown",
      "metadata": {
        "id": "DoqPpE4QYRuR"
      },
      "source": [
        "---\n",
        "# 2-3 変数\n",
        "プログラミングでの変数は数学での変数とは意味が違います。\n",
        "\n",
        "数学での変数とは，未知数あるいは不定数を表す文字のこと。\n",
        "\n",
        "プログラミングでの変数とは，文字や数字などに付けられた名前のこと。"
      ]
    },
    {
      "cell_type": "code",
      "execution_count": null,
      "metadata": {
        "id": "4m7l-PeuScj8"
      },
      "outputs": [],
      "source": [
        "a=1\n",
        "a=a+2"
      ]
    },
    {
      "cell_type": "code",
      "execution_count": null,
      "metadata": {
        "id": "6lBSe8ZtdlF0"
      },
      "outputs": [],
      "source": [
        "a"
      ]
    },
    {
      "cell_type": "markdown",
      "metadata": {
        "id": "No1GxC5VgKNj"
      },
      "source": [
        "大文字と小文字は区別されています。"
      ]
    },
    {
      "cell_type": "code",
      "execution_count": null,
      "metadata": {
        "id": "eHOKGzoggCGL"
      },
      "outputs": [],
      "source": [
        "A"
      ]
    },
    {
      "cell_type": "markdown",
      "metadata": {
        "id": "bvkT7l2XgqLN"
      },
      "source": [
        "変数として全角を使うことができます。"
      ]
    },
    {
      "cell_type": "code",
      "execution_count": null,
      "metadata": {
        "colab": {
          "base_uri": "https://localhost:8080/"
        },
        "id": "KDsf698mgC1-",
        "outputId": "828f743b-0f2a-48c9-8d38-2a86f3ad572a"
      },
      "outputs": [
        {
          "data": {
            "text/plain": [
              "1"
            ]
          },
          "execution_count": 84,
          "metadata": {},
          "output_type": "execute_result"
        }
      ],
      "source": [
        "変数 = 1\n",
        "変数"
      ]
    },
    {
      "cell_type": "markdown",
      "metadata": {
        "id": "vkQx9W5_hVMH"
      },
      "source": [
        "# 2-4 関数\n",
        "printとinput"
      ]
    },
    {
      "cell_type": "markdown",
      "metadata": {
        "id": "4Q2XWnNgirT7"
      },
      "source": [
        "`print()`関数は変数などを出力するものです。"
      ]
    },
    {
      "cell_type": "code",
      "execution_count": null,
      "metadata": {
        "id": "5jAlaaxEgs5y"
      },
      "outputs": [],
      "source": [
        "a=1\n",
        "a\n",
        "a+=2\n",
        "a\n",
        "a*=3\n",
        "a"
      ]
    },
    {
      "cell_type": "code",
      "execution_count": null,
      "metadata": {
        "id": "QebFbprviKhO"
      },
      "outputs": [],
      "source": [
        "a=1\n",
        "print(a)\n",
        "a+=2\n",
        "print(a)\n",
        "a*=3\n",
        "print(a)"
      ]
    },
    {
      "cell_type": "markdown",
      "metadata": {
        "id": "dCNuNN4Vi1Mq"
      },
      "source": [
        "`input()`関数はキーボードを使ってデータを入力できます。"
      ]
    },
    {
      "cell_type": "code",
      "execution_count": null,
      "metadata": {
        "colab": {
          "base_uri": "https://localhost:8080/",
          "height": 53
        },
        "id": "vCZnODehiWqi",
        "outputId": "8da4df2c-81af-4df4-bcf5-cff0ab9af545"
      },
      "outputs": [
        {
          "name": "stdout",
          "output_type": "stream",
          "text": [
            "文字を入力してください。こんにちは\n"
          ]
        },
        {
          "data": {
            "application/vnd.google.colaboratory.intrinsic+json": {
              "type": "string"
            },
            "text/plain": [
              "'こんにちは'"
            ]
          },
          "execution_count": 87,
          "metadata": {},
          "output_type": "execute_result"
        }
      ],
      "source": [
        "input(\"文字を入力してください。\")"
      ]
    },
    {
      "cell_type": "markdown",
      "metadata": {
        "id": "a1VuBoRTjKb5"
      },
      "source": [
        "Q: 自分の名前と学籍番号をそれぞれ入力し，「〇〇の学籍番号は××です」と出力するプログラムを書きなさい。"
      ]
    },
    {
      "cell_type": "code",
      "execution_count": null,
      "metadata": {
        "id": "xcVK04Fzjj8t"
      },
      "outputs": [],
      "source": []
    },
    {
      "cell_type": "markdown",
      "metadata": {
        "id": "QOFBKAsxkA4R"
      },
      "source": [
        "---\n",
        "## 演習問題2-1\n",
        "\n",
        "税抜き価格を$x$円として入力の受け付けを行う。消費税を10\\%として、レジ袋3円も同時に購入したときの支払金額を求めるプログラムを作成しなさい。出力は`支払金額は・・円です`のようにされるものとする。"
      ]
    },
    {
      "cell_type": "code",
      "execution_count": null,
      "metadata": {
        "id": "TEkCMg54jEgX"
      },
      "outputs": [],
      "source": []
    },
    {
      "cell_type": "markdown",
      "metadata": {
        "id": "uDaCq5QilnTn"
      },
      "source": [
        "演習問題2-2\n",
        "摂氏温度を入力して、華氏に変換した温度を出力するプログラムを作成しなさい。出力は華氏温度は・・度のようにされるものとする。 なお華氏と摂氏には以下の関係式がある。\n",
        "\n",
        "$華氏 = 摂氏 * \\frac{9}{5} + 32$"
      ]
    },
    {
      "cell_type": "code",
      "execution_count": null,
      "metadata": {
        "id": "p_60bz8sA27v"
      },
      "outputs": [],
      "source": []
    }
  ],
  "metadata": {
    "colab": {
      "collapsed_sections": [],
      "provenance": [],
      "authorship_tag": "ABX9TyMOsyPnNfC+G5EUPZH3GpjS",
      "include_colab_link": true
    },
    "kernelspec": {
      "display_name": "Python 3",
      "language": "python",
      "name": "python3"
    },
    "language_info": {
      "codemirror_mode": {
        "name": "ipython",
        "version": 3
      },
      "file_extension": ".py",
      "mimetype": "text/x-python",
      "name": "python",
      "nbconvert_exporter": "python",
      "pygments_lexer": "ipython3",
      "version": "3.8.8"
    }
  },
  "nbformat": 4,
  "nbformat_minor": 0
}