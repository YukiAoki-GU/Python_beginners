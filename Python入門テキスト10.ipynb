{
  "cells": [
    {
      "cell_type": "markdown",
      "metadata": {
        "id": "view-in-github",
        "colab_type": "text"
      },
      "source": [
        "<a href=\"https://colab.research.google.com/github/YukiAoki-GU/Python_beginners/blob/main/Python%E5%85%A5%E9%96%80%E3%83%86%E3%82%AD%E3%82%B9%E3%83%8810.ipynb\" target=\"_parent\"><img src=\"https://colab.research.google.com/assets/colab-badge.svg\" alt=\"Open In Colab\"/></a>"
      ]
    },
    {
      "cell_type": "markdown",
      "metadata": {
        "id": "TH4hoDTb_vQ2"
      },
      "source": [
        "# 10 pandasライブラリ\n",
        "\n",
        "Numpyライブラリのndarray型(配列)は同じ型と大きさの要素からなる多次元の入れ物でした。\\\n",
        "しかしながら、データを扱う際には，以下の表のように，異なる型のデータを扱ったりデータにラベルをつけたい場合があります。\n",
        "\n",
        "| ケーキ      | 価格 | \n",
        "|:-----------|----:|\n",
        "| いちごケーキ | 350 |\n",
        "| チーズケーキ | 400 |\n",
        "| 抹茶ケーキ   | 450 |\n",
        "| ガトーショコラ| 470 |\n",
        "| ティラミス   | 500 |\n",
        "| モンブラン   | 370 |\n",
        "\n",
        "\n",
        "|    | ケーキ      | 価格 | \n",
        "|:--:|:-----------|----:|\n",
        "| 1  | いちごケーキ | 350 |\n",
        "| 2  | チーズケーキ | 400 |\n",
        "| 3  | 抹茶ケーキ   | 450 |\n",
        "| 4  | ガトーショコラ| 470 |\n",
        "| 5  | ティラミス   | 500 |\n",
        "| 6  | モンブラン   | 370 |\n",
        "\n",
        "\n",
        "「pandas」ライブラリ(パッケージ)を使うと，特にデータフレームという表形式のデータ構造を効率よく取り扱うことができます。"
      ]
    },
    {
      "cell_type": "markdown",
      "metadata": {
        "id": "weGYM8yX_yX_"
      },
      "source": [
        "##10-1 シリーズ\n",
        "\n",
        "シリーズは、一次元のデータを扱うデータ構造です。\n",
        "リストやタプル、`ndarray`(配列)からシリーズを作成することができます。\n",
        "\n",
        "シリーズを生成するには、`pandas`の`Series`クラスを使います。\\\n",
        "クラスについては後の授業で取り扱いますが、ここでは「データ型」と考えてください。\n",
        "\n",
        "シリーズを`print()`関数で表示すると、左側に(行)ラベル、右側に値が表示されます。"
      ]
    },
    {
      "cell_type": "code",
      "execution_count": null,
      "metadata": {
        "id": "hDlQKKe5_0ib"
      },
      "outputs": [],
      "source": [
        "import pandas as pd\n",
        "\n",
        "products_s = pd.Series(['いちごケーキ', 'チーズケーキ', '抹茶ケーキ', 'ガトーショコラ', 'ティラミス', 'モンブラン'])\n",
        "\n",
        "prices_s = pd.Series((350, 400, 450, 470, 500, 370))\n",
        "\n",
        "print(products_s)\n",
        "print(prices_s)"
      ]
    },
    {
      "cell_type": "markdown",
      "metadata": {
        "id": "_SsuK87L_23u"
      },
      "source": [
        "`Series`に辞書型を渡すと、辞書のキーがラベルになります。"
      ]
    },
    {
      "cell_type": "code",
      "execution_count": null,
      "metadata": {
        "id": "vF9XeKKn_4l9"
      },
      "outputs": [],
      "source": [
        "#import pandas as pd\n",
        "\n",
        "cakes_price_list = {'いちごケーキ':350, 'チーズケーキ':400, '抹茶ケーキ':450, 'ガトーショコラ':470, 'ティラミス':500, 'モンブラン':370}\n",
        "\n",
        "cakes_s = pd.Series(cakes_price_list)\n",
        "\n",
        "print(cakes_s)"
      ]
    },
    {
      "cell_type": "markdown",
      "metadata": {
        "id": "hPJRiQPA_-C3"
      },
      "source": [
        "index引数にラベルを渡すこともできます。"
      ]
    },
    {
      "cell_type": "code",
      "execution_count": null,
      "metadata": {
        "id": "BG1uLs9o__x9"
      },
      "outputs": [],
      "source": [
        "#import pandas as pd\n",
        "\n",
        "cakes_list = ['いちごケーキ', 'チーズケーキ', '抹茶ケーキ', 'ガトーショコラ', 'ティラミス', 'モンブラン']\n",
        "price_list = [350, 400, 450, 470, 500, 370]\n",
        "\n",
        "cakes_s = pd.Series(price_list, index = cakes_list)\n",
        "\n",
        "print(cakes_s)"
      ]
    },
    {
      "cell_type": "markdown",
      "metadata": {
        "id": "HB1IDaOpACAW"
      },
      "source": [
        "##10-2 データフレーム\n",
        "\n",
        "データフレームは、シリーズを複数並べたようなもので、行と列をもつ表形式のデータ構造です。\n",
        "\n",
        "データフレームを生成するには、pandasのDataFrameクラスを使います"
      ]
    },
    {
      "cell_type": "code",
      "execution_count": null,
      "metadata": {
        "id": "V6qCHfNnAD1D"
      },
      "outputs": [],
      "source": [
        "#import pandas as pd\n",
        "\n",
        "cakes_list = ['いちごケーキ', 'チーズケーキ', '抹茶ケーキ', 'ガトーショコラ', 'ティラミス', 'モンブラン']\n",
        "price_list = [350, 400, 450, 470, 500, 370]\n",
        "\n",
        "cakes_df = pd.DataFrame([cakes_list, price_list])\n",
        "\n",
        "print(cakes_df)"
      ]
    },
    {
      "cell_type": "markdown",
      "metadata": {
        "id": "VLuDr0SmAFpd"
      },
      "source": []
    },
    {
      "cell_type": "markdown",
      "metadata": {
        "id": "kITAb3T9AFsL"
      },
      "source": [
        "横長になっているので、行と列を入れ替えるには、`ndarray`型で出てきた`.T`あるいは`.transpose()`メソッドを使います。"
      ]
    },
    {
      "cell_type": "code",
      "execution_count": null,
      "metadata": {
        "id": "4Z2qNKdWAHc6"
      },
      "outputs": [],
      "source": [
        "#import pandas as pd\n",
        "\n",
        "cakes_list = ['いちごケーキ', 'チーズケーキ', '抹茶ケーキ', 'ガトーショコラ', 'ティラミス', 'モンブラン']\n",
        "price_list = [350, 400, 450, 470, 500, 370]\n",
        "\n",
        "cakes_df = pd.DataFrame([cakes_list, price_list])\n",
        "cakes_df = cakes_df.T\n",
        "\n",
        "print(cakes_df)"
      ]
    },
    {
      "cell_type": "markdown",
      "metadata": {
        "id": "l0u43DYnAJym"
      },
      "source": [
        "横方向のラベルを「列ラベル」といいます。\\\n",
        "列ラベルをキーとする辞書を渡すことでも、データフレームを生成できます。"
      ]
    },
    {
      "cell_type": "code",
      "execution_count": null,
      "metadata": {
        "id": "xvBENCT8ALhh"
      },
      "outputs": [],
      "source": [
        "#import pandas as pd\n",
        "\n",
        "cakes_list = ['いちごケーキ', 'チーズケーキ', '抹茶ケーキ', 'ガトーショコラ', 'ティラミス', 'モンブラン']\n",
        "price_list = [350, 400, 450, 470, 500, 370]\n",
        "\n",
        "cakes_df = pd.DataFrame({'ケーキ':cakes_list, '価格':price_list})\n",
        "\n",
        "print(cakes_df)"
      ]
    },
    {
      "cell_type": "markdown",
      "metadata": {
        "id": "0rukdI9kANm8"
      },
      "source": [
        "index引数に行ラベルを渡すこともできます。"
      ]
    },
    {
      "cell_type": "code",
      "execution_count": null,
      "metadata": {
        "id": "WV9pXenyAPHh"
      },
      "outputs": [],
      "source": [
        "#import pandas as pd\n",
        "\n",
        "cakes_list = ['いちごケーキ', 'チーズケーキ', '抹茶ケーキ', 'ガトーショコラ', 'ティラミス', 'モンブラン']\n",
        "price_list = [350, 400, 450, 470, 500, 370]\n",
        "\n",
        "cakes_df = pd.DataFrame({'ケーキ':cakes_list, '価格':price_list}, index=['SC', 'CC', 'TT', 'GC', 'TI', 'MO'])\n",
        "\n",
        "print(cakes_df)"
      ]
    },
    {
      "cell_type": "markdown",
      "metadata": {
        "id": "fwnEskjaARMu"
      },
      "source": [
        "### データフレームの基本操作\n",
        "\n",
        "`.info()`メソッド: データフレームの概要"
      ]
    },
    {
      "cell_type": "code",
      "execution_count": null,
      "metadata": {
        "id": "IGk_R_4hAS9P"
      },
      "outputs": [],
      "source": [
        "cakes_df.info()"
      ]
    },
    {
      "cell_type": "markdown",
      "metadata": {
        "id": "ZKSmfkLKAZsR"
      },
      "source": [
        "`.head()`メソッド: 先頭5行分のデータの表示"
      ]
    },
    {
      "cell_type": "code",
      "execution_count": null,
      "metadata": {
        "id": "EFrHzqqFAcZF"
      },
      "outputs": [],
      "source": [
        "cakes_df.head()"
      ]
    },
    {
      "cell_type": "markdown",
      "metadata": {
        "id": "guJ1OBO6Aezn"
      },
      "source": [
        "`.tail()`メソッド: 末尾5行分のデータの表示"
      ]
    },
    {
      "cell_type": "code",
      "execution_count": null,
      "metadata": {
        "id": "AXaRI9S-Ag9z"
      },
      "outputs": [],
      "source": [
        "cakes_df.tail()"
      ]
    },
    {
      "cell_type": "code",
      "execution_count": null,
      "metadata": {
        "id": "n5fl1m6xAwoJ"
      },
      "outputs": [],
      "source": [
        "print(cakes_df.head())\n",
        "print('')\n",
        "print(cakes_df.tail())"
      ]
    },
    {
      "cell_type": "markdown",
      "metadata": {
        "id": "AqzAWYqsAyrp"
      },
      "source": [
        "`.describe()`メソッド: 基本統計量の表示"
      ]
    },
    {
      "cell_type": "code",
      "execution_count": null,
      "metadata": {
        "id": "zHJ-Hi6QA1No"
      },
      "outputs": [],
      "source": [
        "cakes_df.describe()"
      ]
    },
    {
      "cell_type": "code",
      "execution_count": null,
      "metadata": {
        "id": "4U_3yTKaA3KH"
      },
      "outputs": [],
      "source": [
        "#import pandas as pd\n",
        "\n",
        "cakes_list = ['いちごケーキ', 'チーズケーキ', '抹茶ケーキ', 'ガトーショコラ', 'ティラミス', 'モンブラン']\n",
        "price_list = [350, 400, 450, 470, 500, 370]\n",
        "cal_list = [324, 296, 283, 450, 432, 412]\n",
        "\n",
        "cakes_df = pd.DataFrame({'ケーキ':cakes_list, '価格':price_list, 'カロリー':cal_list}, index=[1, 2, 3, 4, 5, 6])\n",
        "\n",
        "print(cakes_df)"
      ]
    },
    {
      "cell_type": "code",
      "execution_count": null,
      "metadata": {
        "id": "-Vwt_pxiA4_T"
      },
      "outputs": [],
      "source": [
        "cakes_df.describe()"
      ]
    },
    {
      "cell_type": "markdown",
      "metadata": {
        "id": "vB6CXl2GA7De"
      },
      "source": [
        "### データフレームのデータの参照\n",
        "\n",
        "スライスによる参照"
      ]
    },
    {
      "cell_type": "markdown",
      "metadata": {
        "id": "KBJ0l49TA9fP"
      },
      "source": [
        "cakes_df[0:3]"
      ]
    },
    {
      "cell_type": "markdown",
      "metadata": {
        "id": "FBc2Kn6sA_ZI"
      },
      "source": []
    },
    {
      "cell_type": "markdown",
      "metadata": {
        "id": "y9VeQUU2A_b8"
      },
      "source": [
        "列ラベルによる参照"
      ]
    },
    {
      "cell_type": "code",
      "execution_count": null,
      "metadata": {
        "id": "-OjkdX3nBBOo"
      },
      "outputs": [],
      "source": [
        "cakes_df['ケーキ']"
      ]
    },
    {
      "cell_type": "code",
      "execution_count": null,
      "metadata": {
        "id": "GXuopzpMBDaw"
      },
      "outputs": [],
      "source": [
        "print(cakes_df['ケーキ'])"
      ]
    },
    {
      "cell_type": "markdown",
      "metadata": {
        "id": "Ox6jr98yBFjb"
      },
      "source": [
        "行ラベルによる参照\n",
        "\n",
        "`.loc()`属性を使います。"
      ]
    },
    {
      "cell_type": "code",
      "execution_count": null,
      "metadata": {
        "id": "v1ApNbj4BI0v"
      },
      "outputs": [],
      "source": [
        "cakes_df.loc[1]"
      ]
    },
    {
      "cell_type": "code",
      "execution_count": null,
      "metadata": {
        "id": "DVqUbXzBBKlP"
      },
      "outputs": [],
      "source": [
        "cakes_df.loc[1, 'ケーキ']"
      ]
    },
    {
      "cell_type": "code",
      "execution_count": null,
      "metadata": {
        "id": "5Tu6rRVYBMp8"
      },
      "outputs": [],
      "source": [
        "cakes_df.loc[2:4, '価格']"
      ]
    }
  ],
  "metadata": {
    "colab": {
      "provenance": [],
      "collapsed_sections": [],
      "authorship_tag": "ABX9TyOZyCqz3KiBGAldKgxihIpr",
      "include_colab_link": true
    },
    "kernelspec": {
      "display_name": "Python 3",
      "language": "python",
      "name": "python3"
    },
    "language_info": {
      "codemirror_mode": {
        "name": "ipython",
        "version": 3
      },
      "file_extension": ".py",
      "mimetype": "text/x-python",
      "name": "python",
      "nbconvert_exporter": "python",
      "pygments_lexer": "ipython3",
      "version": "3.8.8"
    }
  },
  "nbformat": 4,
  "nbformat_minor": 0
}